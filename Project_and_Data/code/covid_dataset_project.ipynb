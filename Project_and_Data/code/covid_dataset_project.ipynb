{
 "cells": [
  {
   "cell_type": "markdown",
   "metadata": {},
   "source": [
    "# FoDS Project: Covid "
   ]
  },
  {
   "cell_type": "markdown",
   "metadata": {},
   "source": [
    "## Preparation"
   ]
  },
  {
   "cell_type": "markdown",
   "metadata": {},
   "source": [
    "### Structure\n",
    "1. Environment\n",
    "2. Data import"
   ]
  },
  {
   "cell_type": "markdown",
   "metadata": {},
   "source": [
    "### 1. Environment\n",
    "1. python == 3.11.8 \n",
    "2. matplotlib=3.8.3\n",
    "3. numpy=1.26.0\n",
    "4. pandas=2.1.1\n",
    "5. scipy=1.12.0\n",
    "6. seaborn=0.13.2\n",
    "7. sklearn=1.4.2"
   ]
  },
  {
   "cell_type": "code",
   "execution_count": 240,
   "metadata": {},
   "outputs": [
    {
     "ename": "ImportError",
     "evalue": "cannot import name 'SARIMAXResults' from 'statsmodels.tsa.statespace' (c:\\Users\\leond\\miniconda3\\envs\\COVID_project\\Lib\\site-packages\\statsmodels\\tsa\\statespace\\__init__.py)",
     "output_type": "error",
     "traceback": [
      "\u001b[1;31m---------------------------------------------------------------------------\u001b[0m",
      "\u001b[1;31mImportError\u001b[0m                               Traceback (most recent call last)",
      "Cell \u001b[1;32mIn[240], line 19\u001b[0m\n\u001b[0;32m     17\u001b[0m \u001b[38;5;28;01mfrom\u001b[39;00m \u001b[38;5;21;01mpmdarima\u001b[39;00m\u001b[38;5;21;01m.\u001b[39;00m\u001b[38;5;21;01marima\u001b[39;00m \u001b[38;5;28;01mimport\u001b[39;00m auto_arima\n\u001b[0;32m     18\u001b[0m \u001b[38;5;28;01mfrom\u001b[39;00m \u001b[38;5;21;01mstatsmodels\u001b[39;00m\u001b[38;5;21;01m.\u001b[39;00m\u001b[38;5;21;01mgraphics\u001b[39;00m\u001b[38;5;21;01m.\u001b[39;00m\u001b[38;5;21;01mtsaplots\u001b[39;00m \u001b[38;5;28;01mimport\u001b[39;00m plot_acf, plot_pacf\n\u001b[1;32m---> 19\u001b[0m \u001b[38;5;28;01mfrom\u001b[39;00m \u001b[38;5;21;01mstatsmodels\u001b[39;00m\u001b[38;5;21;01m.\u001b[39;00m\u001b[38;5;21;01mtsa\u001b[39;00m\u001b[38;5;21;01m.\u001b[39;00m\u001b[38;5;21;01mstatespace\u001b[39;00m \u001b[38;5;28;01mimport\u001b[39;00m SARIMAXResults\n\u001b[0;32m     20\u001b[0m \u001b[38;5;28;01mimport\u001b[39;00m \u001b[38;5;21;01mwarnings\u001b[39;00m\n\u001b[0;32m     21\u001b[0m warnings\u001b[38;5;241m.\u001b[39mfilterwarnings(\u001b[38;5;124m\"\u001b[39m\u001b[38;5;124mignore\u001b[39m\u001b[38;5;124m\"\u001b[39m)\n",
      "\u001b[1;31mImportError\u001b[0m: cannot import name 'SARIMAXResults' from 'statsmodels.tsa.statespace' (c:\\Users\\leond\\miniconda3\\envs\\COVID_project\\Lib\\site-packages\\statsmodels\\tsa\\statespace\\__init__.py)"
     ]
    }
   ],
   "source": [
    "import pandas as pd\n",
    "import seaborn as sns\n",
    "import matplotlib.pyplot as plt\n",
    "import numpy as np\n",
    "import scipy.stats as sts\n",
    "from sklearn.preprocessing import RobustScaler\n",
    "from sklearn.model_selection import StratifiedKFold\n",
    "from scipy.stats import boxcox\n",
    "from sklearn.impute import KNNImputer\n",
    "from scipy.interpolate import interp1d\n",
    "from sklearn.model_selection import TimeSeriesSplit\n",
    "import statsmodels.api as sm\n",
    "from statsmodels.tsa.arima.model import ARIMA\n",
    "from statsmodels.tsa.statespace.sarimax import SARIMAX\n",
    "from statsmodels.tsa.stattools import adfuller\n",
    "from sklearn.metrics import mean_squared_error\n",
    "from pmdarima.arima import auto_arima\n",
    "from statsmodels.graphics.tsaplots import plot_acf, plot_pacf\n",
    "import warnings\n",
    "warnings.filterwarnings(\"ignore\")"
   ]
  },
  {
   "cell_type": "markdown",
   "metadata": {},
   "source": [
    "### 2. Data import"
   ]
  },
  {
   "cell_type": "code",
   "execution_count": null,
   "metadata": {},
   "outputs": [],
   "source": [
    "data = pd.read_csv(\"../data/OWID-covid-data-28Feb2023.csv\")\n",
    "df = data"
   ]
  },
  {
   "cell_type": "markdown",
   "metadata": {},
   "source": [
    "## 2 Getting an overview"
   ]
  },
  {
   "cell_type": "markdown",
   "metadata": {},
   "source": [
    "### Structure\n",
    "1. Basic overview\n",
    "2. Datatypes\n",
    "3. Locations and continents"
   ]
  },
  {
   "cell_type": "markdown",
   "metadata": {},
   "source": [
    "### 1. Basic overview"
   ]
  },
  {
   "cell_type": "code",
   "execution_count": null,
   "metadata": {},
   "outputs": [],
   "source": [
    "print(data.info())"
   ]
  },
  {
   "cell_type": "code",
   "execution_count": null,
   "metadata": {},
   "outputs": [],
   "source": [
    "print(data.describe())"
   ]
  },
  {
   "cell_type": "code",
   "execution_count": null,
   "metadata": {},
   "outputs": [],
   "source": [
    "print(data.head())"
   ]
  },
  {
   "cell_type": "code",
   "execution_count": null,
   "metadata": {},
   "outputs": [],
   "source": [
    "print(data.tail())"
   ]
  },
  {
   "cell_type": "code",
   "execution_count": null,
   "metadata": {},
   "outputs": [],
   "source": [
    "print(\"Number of observations:\", data.shape[0])\n",
    "print(\"Number of columns:\", data.shape[1])"
   ]
  },
  {
   "cell_type": "markdown",
   "metadata": {},
   "source": [
    "### 2. Datatypes"
   ]
  },
  {
   "cell_type": "markdown",
   "metadata": {},
   "source": [
    "#### 2.1 All datatypes"
   ]
  },
  {
   "cell_type": "code",
   "execution_count": null,
   "metadata": {},
   "outputs": [],
   "source": [
    "#Datatypes of each variable:\n",
    "print(data.dtypes)"
   ]
  },
  {
   "cell_type": "markdown",
   "metadata": {},
   "source": [
    "#### 2.2 Integers"
   ]
  },
  {
   "cell_type": "code",
   "execution_count": null,
   "metadata": {},
   "outputs": [],
   "source": [
    "int_data = data.select_dtypes(include=(\"int64\")).columns\n",
    "print(\"INTEGERS: \", int_data)"
   ]
  },
  {
   "cell_type": "markdown",
   "metadata": {},
   "source": [
    "It seems we do not have any integers in our data. (We have but they are just not saved as such)"
   ]
  },
  {
   "cell_type": "markdown",
   "metadata": {},
   "source": [
    "#### 2.3 Floats"
   ]
  },
  {
   "cell_type": "code",
   "execution_count": null,
   "metadata": {},
   "outputs": [],
   "source": [
    "float_data = data.select_dtypes(include=(\"float64\")).columns\n",
    "print(\"FLOATS: \", float_data)"
   ]
  },
  {
   "cell_type": "markdown",
   "metadata": {},
   "source": [
    "#### 2.4 Objects"
   ]
  },
  {
   "cell_type": "code",
   "execution_count": null,
   "metadata": {},
   "outputs": [],
   "source": [
    "object_data = data.select_dtypes(include=(\"object\")).columns\n",
    "print(\"OBJECTS:\", object_data)\n",
    "num_data = data[float_data] "
   ]
  },
  {
   "cell_type": "markdown",
   "metadata": {},
   "source": [
    "#### 2.5 Saving numerical and categorical data in seperate data frames"
   ]
  },
  {
   "cell_type": "code",
   "execution_count": null,
   "metadata": {},
   "outputs": [],
   "source": [
    "num_data = data[float_data] \n",
    "cat_data = data[object_data]"
   ]
  },
  {
   "cell_type": "markdown",
   "metadata": {},
   "source": [
    "#### 2.6 Adjusting date datatype"
   ]
  },
  {
   "cell_type": "code",
   "execution_count": null,
   "metadata": {},
   "outputs": [],
   "source": [
    "data[\"date\"] = pd.to_datetime(data[\"date\"])"
   ]
  },
  {
   "cell_type": "markdown",
   "metadata": {},
   "source": [
    "## 3 Introductory Visualizations"
   ]
  },
  {
   "cell_type": "markdown",
   "metadata": {},
   "source": [
    "### Structure\n",
    "1. Cases Visualized\n",
    "2. Deaths Visualized"
   ]
  },
  {
   "cell_type": "markdown",
   "metadata": {},
   "source": [
    "### 1. Cases Visualized"
   ]
  },
  {
   "cell_type": "markdown",
   "metadata": {},
   "source": [
    "#### 1.1 Cases per day"
   ]
  },
  {
   "cell_type": "code",
   "execution_count": null,
   "metadata": {},
   "outputs": [],
   "source": [
    "# Problem: Most countries did not publish covid numbers on the weekends\n",
    "# Effect: This leads to an oscillating graph for daily new cases\n",
    "# This can be solved with weekly new cases\n",
    "# either extract data from new_daily or use the smoothed cases count\n",
    "daily_cases = data.groupby('date')['new_cases'].sum()\n",
    "data_march= data[(data['date']>'2022-03-01')&(data['date']<'2022-04-01')]\n",
    "daily_cases_march = data_march.groupby('date')['new_cases'].sum()\n",
    "daily_cases_weekly= data.groupby(pd.Grouper(key='date', freq='W')).sum()['new_cases']\n",
    "\n",
    "# Plotting\n",
    "fig, (ax1,ax2,ax3, ax4)=plt.subplots(4,1,figsize=(10,20))\n",
    "ax1.plot(daily_cases, label='New Cases Per Day')\n",
    "ax1.set(title='COVID-19 New Cases Per Day',\n",
    "        xlabel='Date',\n",
    "        ylabel='Number of New Cases'\n",
    "        )\n",
    "ax1.legend()\n",
    "ax2.plot(daily_cases_march, label='New Cases Per Day, March 2022')\n",
    "ax2.set(title='COVID-19 New Cases Per Day',\n",
    "        xlabel='Date',\n",
    "        ylabel='Number of New Cases'\n",
    "        )\n",
    "ax2.legend()\n",
    "ax3.plot(daily_cases_weekly, label='New Cases Per Day, Daily turned to weekly')\n",
    "ax3.set(title='COVID-19 New Cases Per Day',\n",
    "        xlabel='Date',\n",
    "        ylabel='Number of New Cases'\n",
    "        )\n",
    "\n",
    "ax3.legend()\n",
    "ax4.plot(data.groupby('date')['new_cases_smoothed'].sum(), label='New Cases Per Day, Daily turned to weekly')\n",
    "ax4.set(title='COVID-19 New Cases Per Day',\n",
    "        xlabel='Date',\n",
    "        ylabel='Number of New Cases'\n",
    "        )\n",
    "\n",
    "ax4.legend()\n",
    "plt.subplots_adjust(hspace=0.5)\n",
    "#plt.savefig('../output/Introductory_Visualizations/Cases/newcasestotal.png')\n"
   ]
  },
  {
   "cell_type": "markdown",
   "metadata": {},
   "source": [
    "#### 1.2 Cases over time by continent compact"
   ]
  },
  {
   "cell_type": "code",
   "execution_count": null,
   "metadata": {},
   "outputs": [],
   "source": [
    "grouped_data = data[~(data['continent']==0)].groupby(['date', 'continent'])['new_cases_smoothed'].sum().reset_index()\n",
    "plt.figure(figsize=(12, 8))\n",
    "sns.lineplot(x='date', y='new_cases_smoothed', hue='continent', data=grouped_data)\n",
    "plt.title('New COVID-19 Cases by Continent Over Time')\n",
    "plt.xlabel('Date')\n",
    "plt.ylabel('Number of New Cases')\n",
    "plt.legend(title='Continent')\n",
    "plt.grid(True)  \n",
    "#plt.savefig('../output/Introductory_Visualizations/Cases/newcasesbycontinent')"
   ]
  },
  {
   "cell_type": "markdown",
   "metadata": {},
   "source": [
    "#### 1.3 Cases over time by continent in subplots"
   ]
  },
  {
   "cell_type": "code",
   "execution_count": null,
   "metadata": {},
   "outputs": [],
   "source": [
    "grouped_data = data[~(data['continent']==0)].groupby(['continent','date'])['new_cases_smoothed'].sum().reset_index()\n",
    "continents_of_interest=['North America','South America','Asia','Europe','Oceania','Africa']\n",
    "fig, axs = plt.subplots(1,6,figsize=(24,8), sharey=True)\n",
    "for i,continent in enumerate(continents_of_interest):\n",
    "        sns.lineplot(x='date', y='new_cases_smoothed',  data=grouped_data[grouped_data['continent']==continent],ax=axs[i])\n",
    "        axs[i].set_xlabel('Date')\n",
    "        axs[i].set_ylabel('New Cases')\n",
    "        axs[i].set_title(continent)\n",
    "        axs[i].tick_params(axis='x', rotation=90)\n",
    "        axs[i].grid(True)\n",
    "plt.suptitle('New Cases by Continent')\n",
    "#plt.savefig('../output/Introductory_Visualizations/Cases/casesbycontinentsp')\n"
   ]
  },
  {
   "cell_type": "markdown",
   "metadata": {},
   "source": [
    "#### 1.4 Total cases vs total cases per million by continent"
   ]
  },
  {
   "cell_type": "code",
   "execution_count": null,
   "metadata": {},
   "outputs": [],
   "source": [
    "cases=['total_cases','total_cases_per_million']\n",
    "fig, axs= plt.subplots(2,1,figsize=(10,10))\n",
    "data_nozero=data[~(data['continent']==0)]\n",
    "for i, variable in enumerate(cases):\n",
    "        top_countries = data_nozero.groupby('continent')[variable].max().nlargest(10)\n",
    "        print(top_countries)\n",
    "        top_countries.plot(kind='bar', ax=axs[i],grid=True)\n",
    "        axs[i].set_xlabel('Continent')\n",
    "        axs[i].set_ylabel(variable)\n",
    "plt.suptitle('Total Cases vs Total Cases per Million')\n",
    "plt.subplots_adjust(hspace=0.5)\n",
    "#plt.savefig('../output/Introductory_Visualizations/Cases/casesbycontinent.png')"
   ]
  },
  {
   "cell_type": "markdown",
   "metadata": {},
   "source": [
    "#### 1.5 Total cases vs total cases per million by country"
   ]
  },
  {
   "cell_type": "code",
   "execution_count": null,
   "metadata": {},
   "outputs": [],
   "source": [
    "cases=['total_cases','total_cases_per_million']\n",
    "fig, axs= plt.subplots(2,1,figsize=(10,10))\n",
    "data_noowid=data[~data['iso_code'].str.startswith(\"OWID_\")]\n",
    "for i, variable in enumerate(cases):\n",
    "        top_countries = data_noowid.groupby('iso_code')[variable].max().nlargest(10)\n",
    "        print(top_countries)\n",
    "        top_countries.plot(kind='bar', ax=axs[i],grid=True)\n",
    "        axs[i].set_xlabel('Country')\n",
    "        axs[i].set_ylabel(variable)\n",
    "plt.suptitle('Total Cases vs Total Cases per Million')\n",
    "plt.subplots_adjust(hspace=0.5)\n",
    "#plt.savefig('../output/Introductory_Visualizations/Cases/casesbycountry.png')"
   ]
  },
  {
   "cell_type": "markdown",
   "metadata": {},
   "source": [
    "#### 1.6 Scatter plots with variables of interest to see correlation with total cases"
   ]
  },
  {
   "cell_type": "code",
   "execution_count": null,
   "metadata": {},
   "outputs": [],
   "source": [
    "variables_of_interest = [\n",
    "    'icu_patients_per_million', 'total_tests_per_thousand', 'total_vaccinations_per_hundred',\n",
    "    'stringency_index', 'hospital_beds_per_thousand', 'aged_65_older'\n",
    "]\n",
    "fig, axs = plt.subplots(3, 2, figsize=(15, 15))\n",
    "axs = axs.flatten()\n",
    "for i, variable in enumerate(variables_of_interest):\n",
    "    sns.scatterplot(x=variable, y='total_cases_per_million', data=data, ax=axs[i], markers='.')\n",
    "    axs[i].set_title(f'Total Cases per Million vs. {variable}')\n",
    "    axs[i].set_xlabel(variable)\n",
    "    axs[i].set_ylabel('Total Cases per Million')\n",
    "plt.tight_layout()\n",
    "#plt.savefig('../output/Introductory_Visualizations/Cases/totcasescorr.png')"
   ]
  },
  {
   "cell_type": "markdown",
   "metadata": {},
   "source": [
    "### 2. Deaths visualized"
   ]
  },
  {
   "cell_type": "markdown",
   "metadata": {},
   "source": [
    "#### 2.1 New deaths"
   ]
  },
  {
   "cell_type": "code",
   "execution_count": null,
   "metadata": {},
   "outputs": [],
   "source": [
    "daily_deaths = data.groupby('date')['new_deaths'].sum()\n",
    "daily_deaths_smoothed = data.groupby('date')['new_deaths_smoothed'].sum()\n",
    "\n",
    "fig, (ax1,ax2) = plt.subplots(2,1,figsize=(10,20))\n",
    "\n",
    "ax1.plot(daily_deaths, label='New Deaths Per Day')\n",
    "ax1.set(title='COVID-19 New Deaths Per Day', xlabel='Date', ylabel='Number of New Deaths')\n",
    "ax1.legend()\n",
    "\n",
    "ax2.plot(daily_deaths_smoothed, label='New Deaths Per Day, Smoothed Data')\n",
    "ax2.set(title='COVID-19 New Deaths Per Day', xlabel='Date', ylabel='Number of New Deaths')\n",
    "ax2.legend()\n",
    "\n",
    "#plt.savefig(\"../output/Introductory_Visualizations/Deaths/new_deaths.png\")"
   ]
  },
  {
   "cell_type": "markdown",
   "metadata": {},
   "source": [
    "Trying to find out if there is a difference in deaths per million among the continents."
   ]
  },
  {
   "cell_type": "code",
   "execution_count": null,
   "metadata": {},
   "outputs": [],
   "source": [
    "new_deaths_per_million_continent = data.groupby(['date', 'continent'])['new_deaths_per_million'].sum().reset_index()\n",
    "new_deaths_per_million_continent_smoothed = data.groupby(['date', 'continent'])['new_deaths_smoothed_per_million'].sum().reset_index()\n",
    "total_cases_per_continent = data.groupby(['date', 'continent'])['total_cases_per_million'].sum().reset_index()\n",
    "print(new_deaths_per_million_continent)\n",
    "print(new_deaths_per_million_continent_smoothed)"
   ]
  },
  {
   "cell_type": "markdown",
   "metadata": {},
   "source": [
    "#### 2.2 New deaths per million by continent"
   ]
  },
  {
   "cell_type": "code",
   "execution_count": null,
   "metadata": {},
   "outputs": [],
   "source": [
    "continents_deaths = new_deaths_per_million_continent['continent'].unique()\n",
    "#Creating suplots per Continent with the real counts\n",
    "fig, axes = plt.subplots(len(continents_deaths), 1, figsize=(10, 6*len(continents_deaths)), sharex=True)\n",
    "# Iterate over each continent and create a subplot\n",
    "for i, continent in enumerate(continents_deaths):\n",
    "    continent_data = new_deaths_per_million_continent[new_deaths_per_million_continent['continent'] == continent]\n",
    "    sns.lineplot(data=continent_data, x='date', y='new_deaths_per_million', ax=axes[i])\n",
    "    axes[i].set_title(f'New Deaths per Million in {continent} Over Time')\n",
    "    axes[i].set_ylabel('New Deaths per Million')\n",
    "    axes[i].set_xlabel('Date')\n",
    "    axes[i].grid(True)\n",
    "    \n",
    "plt.tight_layout()\n",
    "\n",
    "#plt.savefig(\"../output/Introductory_Visualizations/Deaths/NewDeathsPerMillion_Subplots.png\")\n"
   ]
  },
  {
   "cell_type": "markdown",
   "metadata": {},
   "source": [
    "#### 2.3 Smoothed new deaths per million by continent"
   ]
  },
  {
   "cell_type": "code",
   "execution_count": null,
   "metadata": {},
   "outputs": [],
   "source": [
    "fig, axes = plt.subplots(len(continents_deaths), 1, figsize=(10, 6*len(continents_deaths)), sharex=True)\n",
    "\n",
    "for i, continent in enumerate(continents_deaths):\n",
    "    continent_data = new_deaths_per_million_continent_smoothed[new_deaths_per_million_continent_smoothed['continent'] == continent]\n",
    "    sns.lineplot(data=continent_data, x='date', y='new_deaths_smoothed_per_million', ax=axes[i])\n",
    "    axes[i].set_title(f'New Deaths per Million in {continent} Over Time')\n",
    "    axes[i].set_ylabel('New Deaths per Million')\n",
    "    axes[i].set_xlabel('Date')\n",
    "    axes[i].grid(True)\n",
    "    \n",
    "plt.tight_layout()\n",
    "\n",
    "#plt.savefig(\"../output/Introductory_Visualizations/Deaths/NewDeathsPerMillionSmoothed_Subplots.png\")"
   ]
  },
  {
   "cell_type": "markdown",
   "metadata": {},
   "source": [
    "#### 2.4 New deaths per million divided by total cases"
   ]
  },
  {
   "cell_type": "markdown",
   "metadata": {},
   "source": [
    "Trying to make a statement about the severity by analyzing the new deaths per million divided by the total cases.\n",
    "Merge the new deaths and total cases. Calculate new deaths per million divided by total cases per million."
   ]
  },
  {
   "cell_type": "code",
   "execution_count": null,
   "metadata": {},
   "outputs": [],
   "source": [
    "death_cases_merge = pd.merge(new_deaths_per_million_continent_smoothed, total_cases_per_continent, on=['date', 'continent'])\n",
    "death_cases_merge['deaths_to_cases_ratio'] = death_cases_merge['new_deaths_smoothed_per_million'] / death_cases_merge['total_cases_per_million']\n",
    "\n",
    "\n",
    "fig, axes = plt.subplots(len(continents_deaths), 1, figsize=(10, 6*len(continents_deaths)), sharex=True)\n",
    "\n",
    "for i, continent in enumerate(continents_deaths):\n",
    "    continent_data = death_cases_merge[death_cases_merge['continent'] == continent]\n",
    "    sns.lineplot(data=continent_data, x='date', y='deaths_to_cases_ratio', ax=axes[i])\n",
    "    axes[i].set_title(f'New Deaths per Million divided by Total Cases per Million in {continent} Over Time')\n",
    "    axes[i].set_ylabel('New Deaths per Million / Total Cases per Million')\n",
    "    axes[i].set_xlabel('Date')\n",
    "    axes[i].grid(True)\n",
    "    \n",
    "plt.tight_layout()\n",
    "\n",
    "#plt.savefig(\"../output/Introductory_Visualizations/Deaths/NewDeathsToCasesRatio_Subplots.png\")"
   ]
  },
  {
   "cell_type": "markdown",
   "metadata": {},
   "source": [
    "## 4 Missing Data Analysis\n"
   ]
  },
  {
   "cell_type": "markdown",
   "metadata": {},
   "source": [
    "### Structure\n"
   ]
  },
  {
   "cell_type": "markdown",
   "metadata": {},
   "source": [
    "1. Introductory remarks about OWID\n",
    "2. Preparatory steps\n",
    "3. First overview of missing data\n",
    "4. Overview missing data \"cases\" and \"deaths\"\n",
    "5. Total cases continent analysis\n",
    "6. Factual accuracy\n",
    "7. Country analysis\n"
   ]
  },
  {
   "cell_type": "markdown",
   "metadata": {},
   "source": [
    "### 1. Introductory remarks about OWID"
   ]
  },
  {
   "cell_type": "markdown",
   "metadata": {},
   "source": [
    "OWID itself states that it generally takes its data from 4 different sources:\n",
    "1. Specialized institutes\n",
    "2. Research articles\n",
    "3. International Institutations or statistics agencies\n",
    "4. Official data from government sources\n",
    "\n",
    "More specifically, looking at the OWID COVID dataset online where all the sources are indicated, it can be seen that OWID takes most of the data directly from the WHO COVID dashboard and then completes it with other sources which is why this dataset can be expected to be quite complete. However, the following analysis is attempting to analyze how much data is missing from the dataset and what kind of data is missing. "
   ]
  },
  {
   "cell_type": "markdown",
   "metadata": {},
   "source": [
    "### 2. Preparatory steps"
   ]
  },
  {
   "cell_type": "markdown",
   "metadata": {},
   "source": [
    "#### 2.1 Adjusting visualization settings"
   ]
  },
  {
   "cell_type": "code",
   "execution_count": null,
   "metadata": {},
   "outputs": [],
   "source": [
    "# Define colorblind-friendly palette\n",
    "color_palette = sns.color_palette(\"colorblind\")"
   ]
  },
  {
   "cell_type": "code",
   "execution_count": null,
   "metadata": {},
   "outputs": [],
   "source": [
    "#adjusting the viewing options\n",
    "pd.set_option('display.max_rows', 500)\n",
    "pd.set_option('display.max_columns', 500)\n",
    "pd.set_option('display.width', 1000)"
   ]
  },
  {
   "cell_type": "markdown",
   "metadata": {},
   "source": [
    "#### 2.2 Data Cleaning\n"
   ]
  },
  {
   "cell_type": "code",
   "execution_count": null,
   "metadata": {},
   "outputs": [],
   "source": [
    "#dropping duplicates\n",
    "data = data.drop_duplicates()\n",
    "#separating OWID from non_OWID data\n",
    "data_without_OWID = data[~data['iso_code'].str.contains('OWID')]\n",
    "data_OWID = data[data['iso_code'].str.contains('OWID')]"
   ]
  },
  {
   "cell_type": "markdown",
   "metadata": {},
   "source": [
    "What OWID contains:"
   ]
  },
  {
   "cell_type": "code",
   "execution_count": null,
   "metadata": {},
   "outputs": [],
   "source": [
    "grouped_OWID_loc = data_OWID.groupby(\"location\")\n",
    "loc_OWID = list(grouped_OWID_loc.groups.keys())\n",
    "print(loc_OWID)"
   ]
  },
  {
   "cell_type": "markdown",
   "metadata": {},
   "source": [
    "OWID contains a few extra metrics and countries/continents or composites of such."
   ]
  },
  {
   "cell_type": "markdown",
   "metadata": {},
   "source": [
    "### 3. First overview of missing data"
   ]
  },
  {
   "cell_type": "markdown",
   "metadata": {},
   "source": [
    "#### 3.1 Entries with complete information"
   ]
  },
  {
   "cell_type": "code",
   "execution_count": null,
   "metadata": {},
   "outputs": [],
   "source": [
    "#For how many entries do we have complete information?\n",
    "(data.isna().sum(axis=1) == 0).sum()"
   ]
  },
  {
   "cell_type": "markdown",
   "metadata": {},
   "source": [
    "#### 3.2 Missing values per column overall"
   ]
  },
  {
   "cell_type": "code",
   "execution_count": null,
   "metadata": {},
   "outputs": [],
   "source": [
    "#missing values overall per column\n",
    "total_missing = data.isnull().sum()\n",
    "total_missing_percentage = (total_missing / len(data)) * 100\n",
    "total_missing_sorted = total_missing.sort_values()\n",
    "total_missing_percentage_sorted = total_missing_percentage.sort_values()"
   ]
  },
  {
   "cell_type": "code",
   "execution_count": null,
   "metadata": {},
   "outputs": [],
   "source": [
    "#graphing the missing values per column\n",
    "plt.figure(figsize=(6, 8))\n",
    "fig_mv_variables = sns.barplot(\n",
    "    x = total_missing_percentage_sorted.values,\n",
    "    y = total_missing_percentage_sorted.index\n",
    ")\n",
    "fig_mv_variables.set(\n",
    "    title=\"Missing values per variable\",\n",
    "    xlabel=\"Percentage of Missing Values\",\n",
    "    ylabel=\"Variables\"\n",
    ")\n",
    "#plt.savefig(\"../output/Missing_Data_Analysis/missing_data.png\", bbox_inches=\"tight\")              "
   ]
  },
  {
   "cell_type": "markdown",
   "metadata": {},
   "source": [
    "### 4. Overview missing data \"cases\" and \"deaths\""
   ]
  },
  {
   "cell_type": "markdown",
   "metadata": {},
   "source": [
    "#### 4.1 Selecting only the columns containing information about cases and deaths"
   ]
  },
  {
   "cell_type": "code",
   "execution_count": null,
   "metadata": {},
   "outputs": [],
   "source": [
    "#selecting the columns about cases of interest\n",
    "columns_about_cases = data.loc[:, data.columns.str.contains('cases')]\n",
    "columns_about_cases.columns"
   ]
  },
  {
   "cell_type": "code",
   "execution_count": null,
   "metadata": {},
   "outputs": [],
   "source": [
    "columns_about_deaths = data.loc[:, data.columns.str.contains('death')]\n",
    "columns_about_deaths.columns"
   ]
  },
  {
   "cell_type": "markdown",
   "metadata": {},
   "source": [
    "#### 4.2 Sorting and plotting overall missing data about cases"
   ]
  },
  {
   "cell_type": "code",
   "execution_count": null,
   "metadata": {},
   "outputs": [],
   "source": [
    "def missing_data_filtered(columns_of_interest):\n",
    "    total_missing = columns_of_interest.isnull().sum()\n",
    "    total_missing_percentage = (total_missing / len(data)) * 100\n",
    "    total_missing_sorted = total_missing.sort_values()\n",
    "    total_missing_percentage_sorted = total_missing_percentage.sort_values()\n",
    "    return total_missing_percentage_sorted\n",
    "\n",
    "total_missing_percentage_deaths_sorted = missing_data_filtered(columns_about_deaths)"
   ]
  },
  {
   "cell_type": "code",
   "execution_count": null,
   "metadata": {},
   "outputs": [],
   "source": [
    "plt.figure(figsize=(4, 3))\n",
    "deaths_overview = sns.barplot(\n",
    "    x = total_missing_percentage_deaths_sorted.values,\n",
    "    y = total_missing_percentage_deaths_sorted.index\n",
    ")\n",
    "deaths_overview.set(\n",
    "    title=\"Missing values per variable\",\n",
    "    xlabel=\"Percentage of Missing Values\",\n",
    "    ylabel=\"Variables\"\n",
    ")\n",
    "#plt.savefig(\"../output/Missing_Data_Analysis/deathsmissing_data.png\", bbox_inches=\"tight\")  "
   ]
  },
  {
   "cell_type": "markdown",
   "metadata": {},
   "source": [
    "#### 4.3 Sorting and plotting overall missing data about deaths"
   ]
  },
  {
   "cell_type": "code",
   "execution_count": null,
   "metadata": {},
   "outputs": [],
   "source": [
    "total_missing_percentage_cases_sorted = missing_data_filtered(columns_about_cases)"
   ]
  },
  {
   "cell_type": "code",
   "execution_count": null,
   "metadata": {},
   "outputs": [],
   "source": [
    "plt.figure(figsize=(4, 3))\n",
    "cases_overview = sns.barplot(\n",
    "    x = total_missing_percentage_cases_sorted.values,\n",
    "    y = total_missing_percentage_cases_sorted.index\n",
    ")\n",
    "cases_overview.set(\n",
    "    title=\"Missing values per variable\",\n",
    "    xlabel=\"Percentage of Missing Values\",\n",
    "    ylabel=\"Variables\"\n",
    ")\n",
    "#plt.savefig(\"../output/Missing_Data_Analysis/casesmissing_data.png\", bbox_inches=\"tight\") "
   ]
  },
  {
   "cell_type": "markdown",
   "metadata": {},
   "source": [
    "There is in the overall dataset a lot more data around cases than deaths. However, amongst the columns that give information about either death or cases, the variability as to the amount of missing data is low."
   ]
  },
  {
   "cell_type": "markdown",
   "metadata": {},
   "source": [
    "### 5 Total cases continent analysis\n"
   ]
  },
  {
   "cell_type": "markdown",
   "metadata": {},
   "source": [
    "#### 5.1 Amount of data per country"
   ]
  },
  {
   "cell_type": "markdown",
   "metadata": {},
   "source": [
    "Comment: Since reporting is generally done on a national level, it makes sense to have a look at individual countries to find out where potential data is missing."
   ]
  },
  {
   "cell_type": "code",
   "execution_count": null,
   "metadata": {},
   "outputs": [],
   "source": [
    "#how many countries are we dealing with overall\n",
    "unique_values_world = data_without_OWID['iso_code'].unique()\n",
    "print (len(unique_values_world))"
   ]
  },
  {
   "cell_type": "code",
   "execution_count": null,
   "metadata": {},
   "outputs": [],
   "source": [
    "#calculating the number of entries for each country\n",
    "length_list = []\n",
    "length_list_in_years = []\n",
    "\n",
    "for i in range(len(unique_values_world)):\n",
    "    country = unique_values_world[i]\n",
    "    length_country = len(data_without_OWID.loc[df['iso_code'] == country])\n",
    "    length_list.append(length_country)\n",
    "    length_list_in_years.append(length_country/365)\n",
    "\n",
    "sorted_country_length = sorted(length_list)"
   ]
  },
  {
   "cell_type": "code",
   "execution_count": null,
   "metadata": {},
   "outputs": [],
   "source": [
    "plt.figure(figsize=(8, 4))\n",
    "plt.hist(length_list_in_years, bins=30, color='skyblue', edgecolor='black')\n",
    "plt.xlabel('data points converted to number of years')\n",
    "plt.ylabel('number of countries')\n",
    "plt.title(\"Number of entries in the data set per country\")\n",
    "plt.show()"
   ]
  },
  {
   "cell_type": "markdown",
   "metadata": {},
   "source": [
    "#### 5.2 Total cases Asia\n"
   ]
  },
  {
   "cell_type": "code",
   "execution_count": null,
   "metadata": {},
   "outputs": [],
   "source": [
    "#different continents\n",
    "filtered_continents = data_without_OWID[\"continent\"].unique()\n",
    "filtered_continents"
   ]
  },
  {
   "cell_type": "code",
   "execution_count": null,
   "metadata": {},
   "outputs": [],
   "source": [
    "#function returning list of all different countries on one continent\n",
    "def countries_per_continent(continent):\n",
    "    filtered_continent = data_without_OWID.loc[df['continent'] == continent]\n",
    "    unique_values_continent = filtered_continent['iso_code'].unique()\n",
    "    return unique_values_continent\n",
    "\n",
    "unique_values_Asia = countries_per_continent(\"Asia\")\n",
    "unique_values_Asia"
   ]
  },
  {
   "cell_type": "code",
   "execution_count": null,
   "metadata": {},
   "outputs": [],
   "source": [
    "def continent_values(continent_uniq_val):\n",
    "    values = []\n",
    "    for i in range(len(continent_uniq_val)):\n",
    "        currentcountry = continent_uniq_val[i]\n",
    "        filtered_country = data.loc[df['iso_code'] == currentcountry]\n",
    "        no_rows_current_country = len(filtered_country)\n",
    "        missing = (filtered_country[\"total_cases\"].isnull().sum())\n",
    "        total_missing_percentage_current_country = (missing / len(filtered_country)) * 100\n",
    "        values.append(total_missing_percentage_current_country)\n",
    "    return values\n",
    "\n",
    "values_Asia = continent_values(unique_values_Asia)"
   ]
  },
  {
   "cell_type": "code",
   "execution_count": null,
   "metadata": {},
   "outputs": [],
   "source": [
    "def plotting_barplot_continent (unique_codes, values):\n",
    "    plt.figure(figsize=(26, 8))\n",
    "    missing_values_Asia = sns.barplot(\n",
    "        x = unique_codes,\n",
    "        y = values\n",
    "    )\n",
    "\n",
    "    deaths_overview.set(\n",
    "        title=\"Missing values per variable\",\n",
    "        xlabel=\"Percentage of Missing Values\",\n",
    "        ylabel=\"Variables\"\n",
    "    )\n",
    "\n",
    "    #plt.savefig(\"../output/Missing_Data_Analysis/casesmissing_data2.png\", bbox_inches=\"tight\") \n",
    "\n",
    "plotting_barplot_continent(unique_values_Asia, values_Asia)"
   ]
  },
  {
   "cell_type": "markdown",
   "metadata": {},
   "source": [
    "#### 5.3 Total Cases Europe"
   ]
  },
  {
   "cell_type": "code",
   "execution_count": null,
   "metadata": {},
   "outputs": [],
   "source": [
    "unique_values_Europe = countries_per_continent(\"Europe\")\n",
    "unique_values_Europe"
   ]
  },
  {
   "cell_type": "code",
   "execution_count": null,
   "metadata": {},
   "outputs": [],
   "source": [
    "values_Europe = continent_values(unique_values_Europe)"
   ]
  },
  {
   "cell_type": "code",
   "execution_count": null,
   "metadata": {},
   "outputs": [],
   "source": [
    "plotting_barplot_continent(unique_values_Europe, values_Europe)"
   ]
  },
  {
   "cell_type": "markdown",
   "metadata": {},
   "source": [
    "#### 5.4 Total Cases Africa"
   ]
  },
  {
   "cell_type": "code",
   "execution_count": null,
   "metadata": {},
   "outputs": [],
   "source": [
    "unique_values_Africa = countries_per_continent(\"Africa\")\n",
    "unique_values_Africa"
   ]
  },
  {
   "cell_type": "code",
   "execution_count": null,
   "metadata": {},
   "outputs": [],
   "source": [
    "values_Africa = continent_values(unique_values_Africa)"
   ]
  },
  {
   "cell_type": "code",
   "execution_count": null,
   "metadata": {},
   "outputs": [],
   "source": [
    "plotting_barplot_continent(unique_values_Africa, values_Africa)"
   ]
  },
  {
   "cell_type": "markdown",
   "metadata": {},
   "source": [
    "#### 5.5 Total Cases North America"
   ]
  },
  {
   "cell_type": "code",
   "execution_count": null,
   "metadata": {},
   "outputs": [],
   "source": [
    "unique_values_North_America = countries_per_continent(\"North America\")\n",
    "unique_values_North_America"
   ]
  },
  {
   "cell_type": "code",
   "execution_count": null,
   "metadata": {},
   "outputs": [],
   "source": [
    "values_North_America = continent_values(unique_values_North_America)"
   ]
  },
  {
   "cell_type": "code",
   "execution_count": null,
   "metadata": {},
   "outputs": [],
   "source": [
    "plotting_barplot_continent(unique_values_North_America, values_North_America)"
   ]
  },
  {
   "cell_type": "markdown",
   "metadata": {},
   "source": [
    "### 6. Factual accuracy"
   ]
  },
  {
   "cell_type": "markdown",
   "metadata": {},
   "source": [
    "#### 6.1 Do total cases and new cases lead to the same numbers?"
   ]
  },
  {
   "cell_type": "markdown",
   "metadata": {},
   "source": [
    "Looking at Canada the reporting started on 23 of January but the first death was on March 9. A quick search on the internet confirms that 9 March was the date on which the frist Canadian person died. That makes 46 days on which there is no data on deaths. But there are 1132 entries for Canada and hence 46/1132 = 4%. In the case of Switzerland 10 no values for deaths and 1099 rows so that would make 1% of the data missing. For Germany 42/1128 = 4%. All of this data is not missing, it is just wrongly classified as NA when these should be zero."
   ]
  },
  {
   "cell_type": "code",
   "execution_count": null,
   "metadata": {},
   "outputs": [],
   "source": [
    "def comparison_total_new_cases(country): \n",
    "    filtered_country = data_without_OWID.loc[df[\"location\"] == \"Sweden\"]\n",
    "    filtered_country_total_cases_from_tc = filtered_country.iloc[-1, 4]\n",
    "    print (\"total cases from the total cases column: \", filtered_country_total_cases_from_tc)\n",
    "    print (\"total cases when summing over new cases: \", filtered_country[\"new_cases\"].sum())\n",
    "\n",
    "comparison_total_new_cases(\"Sweden\")"
   ]
  },
  {
   "cell_type": "markdown",
   "metadata": {},
   "source": [
    "#### 6.2 How accurate are vaccination statistics?"
   ]
  },
  {
   "cell_type": "markdown",
   "metadata": {},
   "source": [
    "According to Wikipedia, the first vaccination in Switzerland, Germany and France tool place on December 23 2020, December 22, 2020 and December 17, 2020 respectively. The dataset confirms these:"
   ]
  },
  {
   "cell_type": "code",
   "execution_count": null,
   "metadata": {},
   "outputs": [],
   "source": [
    "def first_vaccination_statistics_accuracy(country):\n",
    "    filtered_country = data_without_OWID.loc[df['location'] == country]\n",
    "    filtered_country = filtered_country.reset_index(drop=True)\n",
    "    first_vaccination_index = filtered_country[\"total_vaccinations\"].first_valid_index()\n",
    "    return filtered_country.iloc[first_vaccination_index,:5]\n",
    "    \n",
    "first_vaccination_statistics_accuracy(\"France\")"
   ]
  },
  {
   "cell_type": "markdown",
   "metadata": {},
   "source": [
    "### 7. Country analysis"
   ]
  },
  {
   "cell_type": "markdown",
   "metadata": {},
   "source": [
    "#### 7.1 Function to replace missing data with zeros"
   ]
  },
  {
   "cell_type": "code",
   "execution_count": null,
   "metadata": {},
   "outputs": [],
   "source": [
    "#here is how to replace the mssing values with zero values\n",
    "def replace_missing_data(country):\n",
    "    filtered_country = data_without_OWID.loc[df['location'] == country]\n",
    "    #filtered_country = filtered_Italy.reset_index(drop=True)\n",
    "    missing_vals = [\"NA\", \"\", None, np.NaN]\n",
    "    missing_country = filtered_country.isin(missing_vals)\n"
   ]
  },
  {
   "cell_type": "markdown",
   "metadata": {},
   "source": [
    "#### 7.2 Function for missing values excluding missing at the end and at the beginning for a specific country"
   ]
  },
  {
   "cell_type": "code",
   "execution_count": null,
   "metadata": {},
   "outputs": [],
   "source": [
    "def filtering_missing_country(country):\n",
    "    filtered_country = data_without_OWID.loc[df['location'] == country]\n",
    "    filtered_country = filtered_country.reset_index(drop=True)\n",
    "    filtered_country_summary = filtered_country.isnull().sum()\n",
    "    first_valid_indices_country = filtered_country.apply(lambda x: x.first_valid_index())\n",
    "    last_valid_indices_country = filtered_country.apply(lambda x: x.last_valid_index())\n",
    "    length = len(filtered_country) - 1\n",
    "\n",
    "    filtered_country_summary_df = filtered_country_summary.to_frame()\n",
    "    first_valid_indices_country_df = first_valid_indices_country.to_frame()\n",
    "    last_valid_indices_country_df = last_valid_indices_country.to_frame()\n",
    "    list_of_dataframes = [filtered_country_summary_df, first_valid_indices_country_df, last_valid_indices_country]\n",
    "\n",
    "    comparison_country = pd.merge(filtered_country_summary_df, first_valid_indices_country_df, left_index=True, right_index=True)\n",
    "    comparison_country = comparison_country.rename(columns={\"0_x\": '# of missing entries', \"0_y\": \"first entry\"})\n",
    "    diff_first = filtered_country_summary_df - first_valid_indices_country_df\n",
    "    last_valid_indices_country_df_diff = length - last_valid_indices_country_df\n",
    "    diff_overall = filtered_country_summary_df - first_valid_indices_country_df - last_valid_indices_country_df_diff\n",
    "    comparison_country = comparison_country.assign(diff_first = diff_first, \\\n",
    "                last_entry= last_valid_indices_country_df, diff_last = last_valid_indices_country_df_diff, \\\n",
    "                diff_overall = diff_overall)\n",
    "    return (comparison_country)"
   ]
  },
  {
   "cell_type": "code",
   "execution_count": null,
   "metadata": {},
   "outputs": [],
   "source": [
    "filtering_missing_country(\"Finland\")"
   ]
  },
  {
   "cell_type": "markdown",
   "metadata": {},
   "source": [
    "#### 7.3 Function total diff for many countries"
   ]
  },
  {
   "cell_type": "code",
   "execution_count": null,
   "metadata": {},
   "outputs": [],
   "source": [
    "def locations_per_continent(continent):\n",
    "    filtered_continent = data_without_OWID.loc[df['continent'] == continent]\n",
    "    unique_values_continent = filtered_continent['location'].unique()\n",
    "    return unique_values_continent"
   ]
  },
  {
   "cell_type": "code",
   "execution_count": null,
   "metadata": {},
   "outputs": [],
   "source": [
    "unique_locations_Europe = locations_per_continent(\"Europe\")\n",
    "empty_df = pd.DataFrame()\n",
    "\n",
    "def several_countries(list, dataframe):\n",
    "    count = 0\n",
    "    for i in (list):\n",
    "        country = filtering_missing_country(i)\n",
    "        #print (country)\n",
    "        country_diff_overall_column = country[\"diff_overall\"]\n",
    "        #print (country_diff_overall_column)\n",
    "        country_diff_overall_column_df = country_diff_overall_column.to_frame()\n",
    "        if count == 0:\n",
    "            combined_df = pd.concat([empty_df, country_diff_overall_column_df], axis=1)\n",
    "            count = 1\n",
    "        elif count > 0:\n",
    "            combined_df = pd.concat([combined_df, country_diff_overall_column_df], axis=1)\n",
    "        #print (country_diff_overall_column_df)\n",
    "        combined_df = combined_df.rename(columns={'diff_overall': i})\n",
    "    return (combined_df)\n",
    "\n",
    "several_countries(unique_locations_Europe, empty_df)"
   ]
  },
  {
   "cell_type": "code",
   "execution_count": null,
   "metadata": {},
   "outputs": [],
   "source": [
    "country_of_interest = \"Finland\"\n",
    "filtered = data_without_OWID.loc[df['location'] == country_of_interest]\n",
    "filtered = filtered.reset_index(drop=True)\n",
    "vaccinations = filtered[\"total_vaccinations\"]\n",
    "vaccinations.head(500)"
   ]
  },
  {
   "cell_type": "markdown",
   "metadata": {},
   "source": [
    "Finland and other countries only reporting once per week"
   ]
  },
  {
   "cell_type": "markdown",
   "metadata": {},
   "source": [
    "## 5 Handling of missing data"
   ]
  },
  {
   "cell_type": "markdown",
   "metadata": {},
   "source": [
    "### Structure\n",
    "1. Decision to delete columns 63:67\n",
    "2. Decision to delete entire countries\n",
    "3. Decision over keeping or deleting/imputing columns 0:16 (Nico)\n",
    "4. Decision over keeping or deleting/imputing columns 16:32 (Leon)\n",
    "5. Decision over keeping or deleting/imputing columns 32:48 (Florin)\n",
    "6. Decision over keeping or deleting/imputing columns 48:63 (Sevi)\n",
    "7. Actual imputations and deletions"
   ]
  },
  {
   "cell_type": "markdown",
   "metadata": {},
   "source": [
    "### 1. Decision to delete columns 63:67"
   ]
  },
  {
   "cell_type": "code",
   "execution_count": null,
   "metadata": {},
   "outputs": [],
   "source": [
    "missing_percentages = df.iloc[:,63:].isnull().sum() / df.shape[0] *100\n",
    "print(missing_percentages)"
   ]
  },
  {
   "cell_type": "markdown",
   "metadata": {},
   "source": [
    "More than 95% of entries are missing. These four columns will be deleted entirely"
   ]
  },
  {
   "cell_type": "markdown",
   "metadata": {},
   "source": [
    "### 2. Decision to delete entire countries"
   ]
  },
  {
   "cell_type": "markdown",
   "metadata": {},
   "source": [
    "#### 2.1 What countries miss how many rows entirely?"
   ]
  },
  {
   "cell_type": "markdown",
   "metadata": {},
   "source": [
    "What countries are missing entire columns? Helps us determine if we should maybe just remove the countries instead of the columns"
   ]
  },
  {
   "cell_type": "code",
   "execution_count": 288,
   "metadata": {},
   "outputs": [
    {
     "name": "stdout",
     "output_type": "stream",
     "text": [
      "ISO code with the most occurrences of completely missing entire columns in their respective row: ISO_Code\n",
      "OWID_INT    58\n",
      "ESH         56\n",
      "VAT         55\n",
      "MNP         50\n",
      "PCN         50\n",
      "JEY         50\n",
      "TKL         49\n",
      "SPM         49\n",
      "OWID_CYN    49\n",
      "GGY         49\n",
      "NIU         49\n",
      "SXM         47\n",
      "GUM         46\n",
      "VIR         46\n",
      "SHN         45\n",
      "FLK         45\n",
      "OWID_SCT    43\n",
      "OWID_ENG    43\n",
      "OWID_WLS    43\n",
      "OWID_NIR    43\n",
      "PRI         41\n",
      "BES         39\n",
      "FSM         39\n",
      "TKM         39\n",
      "OWID_EUN    38\n",
      "OWID_HIC    38\n",
      "OWID_ASI    38\n",
      "OWID_EUR    38\n",
      "OWID_LIC    38\n",
      "OWID_OCE    38\n",
      "OWID_LMC    38\n",
      "OWID_SAM    38\n",
      "OWID_AFR    38\n",
      "OWID_NAM    38\n",
      "TUV         38\n",
      "OWID_UMC    38\n",
      "WLF         37\n",
      "MSR         37\n",
      "COK         37\n",
      "TCA         36\n",
      "IMN         35\n",
      "PRK         35\n",
      "ERI         34\n",
      "PLW         34\n",
      "MHL         32\n",
      "VGB         32\n",
      "GRL         30\n",
      "NRU         29\n",
      "AIA         29\n",
      "NCL         28\n",
      "MCO         28\n",
      "PYF         27\n",
      "WSM         26\n",
      "SMR         26\n",
      "MAC         26\n",
      "VEN         26\n",
      "KIR         24\n",
      "CYM         24\n",
      "TON         24\n",
      "SLB         24\n",
      "OWID_WRL    23\n",
      "PNG         22\n",
      "HND         22\n",
      "GIB         22\n",
      "ABW         22\n",
      "CUW         22\n",
      "SDN         21\n",
      "FRO         21\n",
      "SYR         21\n",
      "SOM         21\n",
      "BEN         21\n",
      "SSD         20\n",
      "DMA         19\n",
      "COD         19\n",
      "TJK         19\n",
      "BMU         19\n",
      "OWID_KOS    19\n",
      "UZB         19\n",
      "KGZ         19\n",
      "MNE         19\n",
      "TWN         18\n",
      "COM         18\n",
      "COG         18\n",
      "LBY         18\n",
      "LBR         18\n",
      "TCD         18\n",
      "SYC         18\n",
      "GUY         17\n",
      "AGO         17\n",
      "AND         17\n",
      "CAF         17\n",
      "AFG         17\n",
      "HKG         17\n",
      "KNA         17\n",
      "MLI         16\n",
      "LCA         16\n",
      "VUT         16\n",
      "STP         16\n",
      "GRD         16\n",
      "GIN         16\n",
      "GNB         16\n",
      "GNQ         16\n",
      "CMR         16\n",
      "NIC         15\n",
      "NER         15\n",
      "LIE         15\n",
      "GAB         15\n",
      "MRT         15\n",
      "FJI         15\n",
      "CHN         15\n",
      "CIV         15\n",
      "TZA         15\n",
      "DJI         15\n",
      "SLE         15\n",
      "BFA         15\n",
      "ATG         15\n",
      "YEM         15\n",
      "TTO         15\n",
      "BRN         14\n",
      "NGA         14\n",
      "BDI         14\n",
      "BHR         14\n",
      "MDG         14\n",
      "ARE         14\n",
      "IRQ         14\n",
      "BTN         14\n",
      "HTI         14\n",
      "LSO         14\n",
      "SAU         14\n",
      "LAO         14\n",
      "GMB         14\n",
      "PSE         14\n",
      "BWA         14\n",
      "TGO         13\n",
      "TUR         13\n",
      "SWZ         13\n",
      "VCT         13\n",
      "SEN         13\n",
      "RWA         13\n",
      "NAM         13\n",
      "MAR         13\n",
      "KHM         13\n",
      "LKA         13\n",
      "ZWE         12\n",
      "PAK         12\n",
      "PER         12\n",
      "IDN         12\n",
      "KEN         12\n",
      "GHA         12\n",
      "QAT         12\n",
      "LBN         12\n",
      "MWI         12\n",
      "ETH         12\n",
      "DZA         12\n",
      "CPV         12\n",
      "TLS         12\n",
      "NZL         12\n",
      "NPL         12\n",
      "UGA         12\n",
      "MKD         12\n",
      "BGD         12\n",
      "MMR         12\n",
      "VNM         12\n",
      "MOZ         12\n",
      "ZMB         12\n",
      "IND         12\n",
      "BRA         11\n",
      "BLZ         11\n",
      "BLR         11\n",
      "MUS         11\n",
      "OMN         11\n",
      "MDV         11\n",
      "JOR         11\n",
      "KWT         10\n",
      "EGY         10\n",
      "GTM         10\n",
      "POL         10\n",
      "MDA         10\n",
      "BHS         10\n",
      "CUB         10\n",
      "ARM         10\n",
      "GEO          9\n",
      "ROU          9\n",
      "AZE          9\n",
      "ALB          9\n",
      "SUR          9\n",
      "CRI          9\n",
      "BRB          9\n",
      "PHL          9\n",
      "PAN          9\n",
      "JAM          9\n",
      "UKR          9\n",
      "IRN          9\n",
      "URY          9\n",
      "COL          8\n",
      "THA          8\n",
      "TUN          8\n",
      "BIH          8\n",
      "MEX          8\n",
      "MNG          8\n",
      "DOM          8\n",
      "ECU          8\n",
      "PRY          8\n",
      "SLV          8\n",
      "SGP          8\n",
      "KAZ          8\n",
      "RUS          7\n",
      "ARG          7\n",
      "HUN          7\n",
      "FIN          6\n",
      "PRT          6\n",
      "BOL          6\n",
      "DEU          6\n",
      "SWE          6\n",
      "JPN          6\n",
      "SRB          6\n",
      "CAN          5\n",
      "ISL          5\n",
      "HRV          5\n",
      "BGR          5\n",
      "GRC          5\n",
      "AUS          5\n",
      "LTU          5\n",
      "AUT          5\n",
      "CHE          4\n",
      "CHL          3\n",
      "GBR          3\n",
      "NOR          3\n",
      "NLD          3\n",
      "BEL          3\n",
      "MYS          3\n",
      "DNK          3\n",
      "USA          3\n",
      "ZAF          2\n",
      "SVN          2\n",
      "FRA          2\n",
      "CYP          2\n",
      "CZE          2\n",
      "SVK          2\n",
      "MLT          1\n",
      "ISR          1\n",
      "LVA          1\n",
      "ESP          1\n",
      "EST          1\n",
      "LUX          1\n",
      "KOR          1\n",
      "IRL          1\n",
      "ITA          1\n",
      "dtype: int64\n"
     ]
    }
   ],
   "source": [
    "result_data = []\n",
    "for column in df.columns:\n",
    "    grouped_by_iso = df.groupby(\"iso_code\")\n",
    "    nan_counts = grouped_by_iso[column].apply(lambda x: x.isnull().all())\n",
    "    result_data.extend([{'ISO_Code': iso_code, 'Column': column, 'All_NaN': all_nan} for iso_code, all_nan in zip(nan_counts.index, nan_counts.values)])\n",
    "\n",
    "result_df = pd.DataFrame(result_data)\n",
    "most_true_iso_code = result_df.loc[result_df['All_NaN']].groupby('ISO_Code').size().sort_values(ascending=False)\n",
    "\n",
    "print(\"ISO code with the most occurrences of completely missing entire columns in their respective row:\", most_true_iso_code)"
   ]
  },
  {
   "cell_type": "markdown",
   "metadata": {},
   "source": [
    "OWID seems more and more useless. Maybe also delete other countries entirely."
   ]
  },
  {
   "cell_type": "markdown",
   "metadata": {},
   "source": [
    "Trying to find out where to make the cutoff point for the countries:"
   ]
  },
  {
   "cell_type": "code",
   "execution_count": null,
   "metadata": {},
   "outputs": [],
   "source": [
    "top20_missing_complete_loc= most_true_iso_code.head(20)\n",
    "plt.figure(figsize=(15,6))\n",
    "plt.bar(top20_missing_complete_loc.index, top20_missing_complete_loc)\n",
    "plt.xlabel(\"iso codes\")\n",
    "plt.ylabel(\"Number of completely missing columns\")\n",
    "plt.tight_layout()\n",
    "plt.xticks(rotation=45)"
   ]
  },
  {
   "cell_type": "markdown",
   "metadata": {},
   "source": [
    "This topic of row/country deletion has to be visited again after deleting columns that can be deleted for sure."
   ]
  },
  {
   "cell_type": "markdown",
   "metadata": {},
   "source": [
    "### 3. Decision over keeping or deleting/imputing columns 0:16 (Nico)"
   ]
  },
  {
   "cell_type": "markdown",
   "metadata": {},
   "source": [
    "#### 3.1 Missing data percentages (Nico)"
   ]
  },
  {
   "cell_type": "code",
   "execution_count": null,
   "metadata": {},
   "outputs": [],
   "source": [
    "columns_nico = data.columns[0:16]\n",
    "missing_data_nico = df[columns_nico].isnull().sum() \n",
    "missing_data_nico_percentage = missing_data_nico / df.shape[0] * 100\n",
    "print(missing_data_nico_percentage)"
   ]
  },
  {
   "cell_type": "markdown",
   "metadata": {},
   "source": [
    "We can see that the first 4 columns are all (except continent) complete. This makes sense since they contain information about the country and date and did not have to be measured.\n",
    "In general the amount of missing values is very low. For this reason and since cases and deaths are our Label, we cannot delete a column from this part. "
   ]
  },
  {
   "cell_type": "markdown",
   "metadata": {},
   "source": [
    "#### 3.2 Missing data per country"
   ]
  },
  {
   "cell_type": "markdown",
   "metadata": {},
   "source": [
    "In the next step we will look if there are certain countries missing a huge amount of data. If that were the case we could delete the entries of those couuntries. To get an overview I created a plot for each continent containing all the countries and their respective missing entries in the first 16 columns."
   ]
  },
  {
   "cell_type": "code",
   "execution_count": null,
   "metadata": {},
   "outputs": [],
   "source": [
    "#print(pd.DataFrame(filtering_missing_country('Finland'))['# of missing entries'][0:16]) \n",
    "#print(locations_per_continent('Europe'))\n",
    "\n",
    "def missingdata_country_nico(continent):\n",
    "    missing_data_countrylist_nico = []\n",
    "    \n",
    "    for country in locations_per_continent(continent):\n",
    "        missing_data_country_nico = pd.DataFrame(filtering_missing_country(country))\n",
    "        sum_missing_entries_nico = missing_data_country_nico['# of missing entries'][0:16].sum()\n",
    "        missing_data_countrylist_nico.append({'Country': country, 'Missing Entries': sum_missing_entries_nico})\n",
    "        #print(f\"{country}: {sum_missing_entries_nico}\")\n",
    "    missing_data_country_df_nico = pd.DataFrame(missing_data_countrylist_nico)\n",
    "    \n",
    "    # Create countplot\n",
    "    plt.figure(figsize=(10, 6))\n",
    "    sns.barplot(x='Country', y='Missing Entries', data=missing_data_country_df_nico)\n",
    "    plt.title('Missing Entries per Country in ' + continent)\n",
    "    plt.xticks(rotation=45, ha='right')  # Rotate x labels for better readability\n",
    "    plt.xlabel('Country')\n",
    "    plt.ylabel('Number of Missing Entries')\n",
    "    plt.tight_layout()\n",
    "    safepoint = \"../output/Missing_Data_Analysis/cols0-15/missing_data-\" + continent +\".png\"\n",
    "    plt.savefig(safepoint)\n",
    "\n",
    "\n",
    "#for continent in continents_of_interest:\n",
    "    #missingdata_country_nico(continent)"
   ]
  },
  {
   "cell_type": "markdown",
   "metadata": {},
   "source": [
    "It is clearly visible that there are a few outliers, which have a lot of missing data."
   ]
  },
  {
   "cell_type": "markdown",
   "metadata": {},
   "source": [
    "In the next part of the code I wanted to check if the 'per million' numbers are deducted from the total numbers. This was done with the total cases and toatal cases per million."
   ]
  },
  {
   "cell_type": "code",
   "execution_count": null,
   "metadata": {},
   "outputs": [],
   "source": [
    "for country in locations_per_continent('Europe'):\n",
    "    country_entries_totalcases = df[df[columns_nico[2]] == country].iloc[:, 4]\n",
    "    country_entries_totalcasesmillion = df[df[columns_nico[2]] == country].iloc[:, 10]\n",
    "    country_entries_missing_totalcases = country_entries_totalcases.isnull().sum()\n",
    "    country_entries_missing_totalcasesmillion = country_entries_totalcasesmillion.isnull().sum()\n",
    "    print(country, country_entries_missing_totalcases, country_entries_missing_totalcasesmillion)"
   ]
  },
  {
   "cell_type": "markdown",
   "metadata": {},
   "source": [
    "These results make sense and show that the 'per million' entries are probably deducted from the total numbers. This means the amount of missing entries per country is the same in those two columns. This means we only have to concentrate on the column total cases, to get a feedback on how many entries in general are missing."
   ]
  },
  {
   "cell_type": "markdown",
   "metadata": {},
   "source": [
    "Now we try to find out how many percentage of the data are missing in each country in the columns total cases and total deaths."
   ]
  },
  {
   "cell_type": "code",
   "execution_count": null,
   "metadata": {},
   "outputs": [],
   "source": [
    "def missingdata_cases_nico(continent):\n",
    "    missing_data_caseslist_nico = []\n",
    "    \n",
    "    for country in locations_per_continent(continent):\n",
    "        country_cases_nico = df[df[columns_nico[2]] == country].iloc[:, 4]\n",
    "        country_casesmissing_nico = country_cases_nico.isnull().sum()\n",
    "        country_casesmissing_nico_percentage = (country_casesmissing_nico / len(country_cases_nico)) * 100\n",
    "        if country_casesmissing_nico_percentage == 100:\n",
    "            print('Hier fehlen 100% von den Daten: ' + country)\n",
    "        missing_data_caseslist_nico.append({'Country': country, 'Missing Entries': country_casesmissing_nico_percentage})\n",
    "        #print(f\"{country}: {sum_missing_entries_nico}\")\n",
    "    country_missingcases_df_nico = pd.DataFrame(missing_data_caseslist_nico)\n",
    "    #print(country_missingcases_df_nico)\n",
    "    \n",
    "    # Create countplot\n",
    "    plt.figure(figsize=(10, 6))\n",
    "    sns.barplot(x='Country', y='Missing Entries', data=country_missingcases_df_nico)\n",
    "    plt.title('Percentage of Missing Entries in Total Cases per Country in ' + continent)\n",
    "    plt.xticks(rotation=45, ha='right')  # Rotate x labels for better readability\n",
    "    plt.xlabel('Country')\n",
    "    plt.ylabel('Percentage of Missing Entries in total cases')\n",
    "    plt.tight_layout()\n",
    "    safepoint = \"../output/Missing_Data_Analysis/cols0-15/missing_totalcases-\" + continent +\".png\"\n",
    "    plt.savefig(safepoint)\n",
    "    \n",
    "\n",
    "#for continent in continents_of_interest:\n",
    "    #missingdata_cases_nico(continent)"
   ]
  },
  {
   "cell_type": "markdown",
   "metadata": {},
   "source": [
    "In all of these countries all entries in total cases are missing: Puerto Rico, Sint Maarten (Dutch part), United States Virgin Islands, Turkmenistan, Guernsey, Jersey, Western Sahara, Guam, Niue, Northern Mariana Islands, Pitcairn, Tokelau. I recommend to delete these countries.\n",
    "Now we will have a look at the column total deaths:"
   ]
  },
  {
   "cell_type": "code",
   "execution_count": null,
   "metadata": {},
   "outputs": [],
   "source": [
    "def missingdata_deaths_nico(continent):\n",
    "    missing_data_deathslist_nico = []\n",
    "    \n",
    "    for country in locations_per_continent(continent):\n",
    "        country_deaths_nico = df[df[columns_nico[2]] == country].iloc[:, 7]\n",
    "        country_deathsmissing_nico = country_deaths_nico.isnull().sum()\n",
    "        country_deathsmissing_nico_percentage = (country_deathsmissing_nico / len(country_deaths_nico)) * 100\n",
    "        if country_deathsmissing_nico_percentage == 100:\n",
    "            print('Hier fehlen 100% von den Daten: ' + country)\n",
    "        missing_data_deathslist_nico.append({'Country': country, 'Missing Entries': country_deathsmissing_nico_percentage})\n",
    "        #print(f\"{country}: {sum_missing_entries_nico}\")\n",
    "    country_missingdeaths_df_nico = pd.DataFrame(missing_data_deathslist_nico)\n",
    "    #print(country_missingdeaths_df_nico)\n",
    "\n",
    "\n",
    "    # Create countplot\n",
    "    plt.figure(figsize=(10, 6))\n",
    "    sns.barplot(x='Country', y='Missing Entries', data=country_missingdeaths_df_nico)\n",
    "    plt.title('Percentage of Missing Entries in Total Deaths per Country in ' + continent)\n",
    "    plt.xticks(rotation=45, ha='right')  # Rotate x labels for better readability\n",
    "    plt.xlabel('Country')\n",
    "    plt.ylabel('Percentage of Missing Entries in total deaths')\n",
    "    plt.tight_layout()\n",
    "    safepoint = \"../output/Missing_Data_Analysis/cols0-15/missing_totaldeaths-\" + continent +\".png\"\n",
    "    plt.savefig(safepoint)\n",
    "    \n",
    "\n",
    "#for continent in continents_of_interest:\n",
    "    #missingdata_deaths_nico(continent)"
   ]
  },
  {
   "cell_type": "markdown",
   "metadata": {},
   "source": [
    "Countries in which all the entries in the column total deaths are missing are: Puerto Rico,Sint Maarten (Dutch part),United States Virgin Islands, Turkmenistan, Falkland Islands, Guernsey, Jersey, Vatican, Saint Helena, Western Sahara, Guam, Niue, Northern Mariana Islands, Pitcairn, Tokelau, Tuvalu. \n",
    "\n",
    "These contain also all the countries which were missing all entries in the column total cases. My recommendation is to delete these countries from the dataset.\n",
    "\n",
    "Finally we will have a look at the regions in the OWID part of the dataset:"
   ]
  },
  {
   "cell_type": "code",
   "execution_count": null,
   "metadata": {},
   "outputs": [],
   "source": [
    "def missingdata_cases_nico_OWID():\n",
    "    missing_data_caseslist_OWID_nico = []\n",
    "    \n",
    "    for location in loc_OWID:\n",
    "        country_casesOWID_nico = df[df[columns_nico[2]] == location].iloc[:, 4]\n",
    "        country_casesmissingOWID_nico = country_casesOWID_nico.isnull().sum()\n",
    "        country_casesmissingOWID_nico_percentage = (country_casesmissingOWID_nico / len(country_casesOWID_nico)) * 100\n",
    "        if country_casesmissingOWID_nico_percentage == 100:\n",
    "            print('Hier fehlen 100% von den Daten: ' + location)\n",
    "        missing_data_caseslist_OWID_nico.append({'Country': location, 'Missing Entries': country_casesmissingOWID_nico_percentage})\n",
    "        #print(f\"{country}: {sum_missing_entries_nico}\")\n",
    "    country_missingcasesOWID_df_nico = pd.DataFrame(missing_data_caseslist_OWID_nico)\n",
    "\n",
    "    plt.figure(figsize=(10, 6))\n",
    "    sns.barplot(x='Country', y='Missing Entries', data=country_missingcasesOWID_df_nico)\n",
    "    plt.title('Percentage of Missing Entries in Total Cases per Location in OWID')\n",
    "    plt.xticks(rotation=45, ha='right')  # Rotate x labels for better readability\n",
    "    plt.xlabel('Location')\n",
    "    plt.ylabel('Percentage of Missing Entries in total cases')\n",
    "    plt.tight_layout()\n",
    "    safepoint = \"../output/Missing_Data_Analysis/cols0-15/missing_totalcases-OWID.png\"\n",
    "    plt.savefig(safepoint)\n",
    "    \n",
    "\n",
    "#missingdata_cases_nico_OWID()"
   ]
  },
  {
   "cell_type": "code",
   "execution_count": null,
   "metadata": {},
   "outputs": [],
   "source": [
    "def missingdata_deaths_nico_OWID():\n",
    "    missing_data_deathslist_OWID_nico = []\n",
    "    \n",
    "    for location in loc_OWID:\n",
    "        country_deathsOWID_nico = df[df[columns_nico[2]] == location].iloc[:, 7]\n",
    "        country_deathsmissingOWID_nico = country_deathsOWID_nico.isnull().sum()\n",
    "        country_deathsmissingOWID_nico_percentage = (country_deathsmissingOWID_nico / len(country_deathsOWID_nico)) * 100\n",
    "        if country_deathsmissingOWID_nico_percentage == 100:\n",
    "            print('Hier fehlen 100% von den Daten: ' + location)\n",
    "        missing_data_deathslist_OWID_nico.append({'Country': location, 'Missing Entries': country_deathsmissingOWID_nico_percentage})\n",
    "        #print(f\"{country}: {sum_missing_entries_nico}\")\n",
    "    country_missingdeathsOWID_df_nico = pd.DataFrame(missing_data_deathslist_OWID_nico)\n",
    "\n",
    "    plt.figure(figsize=(10, 6))\n",
    "    sns.barplot(x='Country', y='Missing Entries', data=country_missingdeathsOWID_df_nico)\n",
    "    plt.title('Percentage of Missing Entries in Total Deaths per Location in OWID')\n",
    "    plt.xticks(rotation=45, ha='right')  # Rotate x labels for better readability\n",
    "    plt.xlabel('Location')\n",
    "    plt.ylabel('Percentage of Missing Entries in total deaths')\n",
    "    plt.tight_layout()\n",
    "    safepoint = \"../output/Missing_Data_Analysis/cols0-15/missing_totaldeaths-OWID.png\"\n",
    "    plt.savefig(safepoint)\n",
    "    \n",
    "\n",
    "#missingdata_deaths_nico_OWID()"
   ]
  },
  {
   "cell_type": "markdown",
   "metadata": {},
   "source": [
    "Here we can see that the regions England, Northern Ireland, Northern Cyprus, Scotland and Wales are missing all datapoints. I recommend to delete these regions too."
   ]
  },
  {
   "cell_type": "markdown",
   "metadata": {},
   "source": [
    "### 4. Decision over keeping or deleting/imputing columns 16:32 (Leon)"
   ]
  },
  {
   "cell_type": "markdown",
   "metadata": {},
   "source": [
    "#### 4.1 Missing data percentages (Leon)"
   ]
  },
  {
   "cell_type": "code",
   "execution_count": null,
   "metadata": {},
   "outputs": [],
   "source": [
    "columns_leon = data.columns[16:32]\n",
    "missing_percentages_leon = df[columns_leon].isnull().sum() / df.shape[0] *100\n",
    "print(missing_percentages_leon)"
   ]
  },
  {
   "cell_type": "markdown",
   "metadata": {},
   "source": [
    "At first glance it only makes sense to keep reproduction rate and maybe the ones with percentages of missing data below 75%"
   ]
  },
  {
   "cell_type": "markdown",
   "metadata": {},
   "source": [
    "#### 4.2 Visualization of variables of Interest (Leon)"
   ]
  },
  {
   "cell_type": "markdown",
   "metadata": {},
   "source": [
    "Visualizing all my variables for three countries to determine usefulness and worth of imputation."
   ]
  },
  {
   "cell_type": "code",
   "execution_count": null,
   "metadata": {},
   "outputs": [],
   "source": [
    "for column in columns_leon:    \n",
    "    belgium_data = df.groupby(\"iso_code\").get_group(\"BEL\")\n",
    "    belgium = belgium_data[column].fillna(0)\n",
    "\n",
    "    brazil_data = df.groupby(\"iso_code\").get_group(\"BRA\")\n",
    "    brazil = brazil_data[column].fillna(0)\n",
    "\n",
    "    mexico_data = df.groupby(\"iso_code\").get_group(\"MEX\")\n",
    "    mexico = mexico_data[column].fillna(0)\n",
    "\n",
    "    fig, axs = plt.subplots(3, 1, figsize=(8, 6))\n",
    "\n",
    "    # Plot data on each subplot\n",
    "    axs[0].plot(belgium_data[\"date\"], belgium)\n",
    "    axs[0].set_xlabel(\"date\")\n",
    "    axs[0].set_ylabel(column)\n",
    "    axs[0].set_title(\"Belgium\")\n",
    "\n",
    "    axs[1].plot(brazil_data[\"date\"], brazil)\n",
    "    axs[1].set_xlabel(\"date\")\n",
    "    axs[1].set_ylabel(column)\n",
    "    axs[1].set_title(\"Brazil\")\n",
    "\n",
    "    axs[2].plot(mexico_data[\"date\"], mexico)\n",
    "    axs[2].set_xlabel(\"date\")\n",
    "    axs[2].set_ylabel(column)\n",
    "    axs[2].set_title(\"Mexico\")\n",
    "\n",
    "    # Adjust layout to prevent overlapping\n",
    "    plt.tight_layout()\n",
    "    safepoint = \"../output/Missing_Data_Analysis/cols16-32/missing_data-\" + column +\".png\"\n",
    "    #plt.savefig(safepoint)"
   ]
  },
  {
   "cell_type": "markdown",
   "metadata": {},
   "source": [
    "Some of them seem to be imputable. We will keep all variables for the cases since we will target number of cases in our prediction. The ones that were missing 75% plus of their values are also the ones that look like they will not be imputable by any means. Brazil also seems to be lacking positive rate completely (which was under 75% missing values but not in the cases group). Positive rate and reproduction rate are the only ones left to determine whether we will keep them or delete them (The ones with 75% plus missing will most likely be deleted)."
   ]
  },
  {
   "cell_type": "markdown",
   "metadata": {},
   "source": [
    "#### 4.3 How many countries are entirely missing my variables of interest? "
   ]
  },
  {
   "cell_type": "code",
   "execution_count": null,
   "metadata": {},
   "outputs": [],
   "source": [
    "all_countries = list(df.groupby(\"iso_code\").groups.keys())\n",
    "for column in columns_leon:\n",
    "    grouped_by_iso = df.groupby(\"iso_code\")\n",
    "    nan_counts = grouped_by_iso[column].apply(lambda x: x.isnull().all()).sum()\n",
    "    print(\"Percentage of countries that completely miss all values of\", column,\":\", nan_counts/len(all_countries)*100)"
   ]
  },
  {
   "cell_type": "markdown",
   "metadata": {},
   "source": [
    "This again shows that the variables that miss more than 75% of their values are also very much the ones where the highest percentage of countries do not have any values of them stored at all. (90% means that 90 percent of all countries do not have a single value but Nan for this column)"
   ]
  },
  {
   "cell_type": "markdown",
   "metadata": {},
   "source": [
    "If we want to keep all variables containing the tests, we would have to delete rows that contain only Nan for those columns. For what countries is that the case?"
   ]
  },
  {
   "cell_type": "code",
   "execution_count": null,
   "metadata": {},
   "outputs": [],
   "source": [
    "test_variables = [var for var in columns_leon if 'test' in var]\n",
    "empty_countries_test = []\n",
    "for column in test_variables:  \n",
    "    test_nan_countries = grouped_by_iso[column].apply(lambda x: x.isnull().all())\n",
    "    test_nan_countries_true = test_nan_countries[test_nan_countries == True]\n",
    "    empty_countries_test.append(test_nan_countries_true.index)\n",
    "empty_countries_test\n"
   ]
  },
  {
   "cell_type": "markdown",
   "metadata": {},
   "source": [
    "Now let's see what country is missing how many test variables:"
   ]
  },
  {
   "cell_type": "code",
   "execution_count": null,
   "metadata": {},
   "outputs": [],
   "source": [
    "counter_dict = {}\n",
    "for countries in empty_countries_test:\n",
    "    for country in countries:\n",
    "        existing_country = counter_dict.get(country)\n",
    "        if existing_country is not None:\n",
    "            counter_dict[country] += 1\n",
    "        else:\n",
    "            counter_dict[country] = 1\n",
    "sorted_counter_dict = dict(sorted(counter_dict.items(), key=lambda item:item[1]))\n",
    "print(sorted_counter_dict)\n",
    "sorted_counter_dict.keys()\n"
   ]
  },
  {
   "cell_type": "markdown",
   "metadata": {},
   "source": [
    "Countries missing all 6 columns:"
   ]
  },
  {
   "cell_type": "code",
   "execution_count": null,
   "metadata": {},
   "outputs": [],
   "source": [
    "countries_without_tests = [key for key, value in counter_dict.items() if value == 6]\n",
    "countries_without_tests"
   ]
  },
  {
   "cell_type": "markdown",
   "metadata": {},
   "source": [
    "If we wanted to keep all test variables, we will have to delete all of those countries listed above. We will for sure delete the countries missing all 6 columns."
   ]
  },
  {
   "cell_type": "markdown",
   "metadata": {},
   "source": [
    "### 5. Decision over keeping or deleting/imputing columns 32:48 (Florin)"
   ]
  },
  {
   "cell_type": "markdown",
   "metadata": {},
   "source": [
    "#### 5.1 Functions for analysis"
   ]
  },
  {
   "cell_type": "markdown",
   "metadata": {},
   "source": [
    "##### 5.11 Function to replace missing data with zeros"
   ]
  },
  {
   "cell_type": "code",
   "execution_count": null,
   "metadata": {},
   "outputs": [],
   "source": [
    "\"\"\" #here is how to replace the mssing values with zero values\n",
    "def replace_missing_data(country):\n",
    "    filtered_country = data_without_OWID.loc[df['location'] == country]\n",
    "    filtered_country = filtered_Italy.reset_index(drop=True)\n",
    "    missing_vals = [\"NA\", \"\", None, np.NaN]\n",
    "    missing_country = filtered_country.isin(missing_vals) \"\"\"\n"
   ]
  },
  {
   "cell_type": "markdown",
   "metadata": {},
   "source": [
    "##### 5.12 Function for missing values excluding missing at the end and at the beginning for a specific country"
   ]
  },
  {
   "cell_type": "code",
   "execution_count": null,
   "metadata": {},
   "outputs": [],
   "source": [
    "def filtering_missing_country(country):\n",
    "    filtered_country = data_without_OWID.loc[df['location'] == country]\n",
    "    filtered_country = filtered_country.reset_index(drop=True)\n",
    "    filtered_country_summary = filtered_country.isnull().sum()\n",
    "    first_valid_indices_country = filtered_country.apply(lambda x: x.first_valid_index())\n",
    "    last_valid_indices_country = filtered_country.apply(lambda x: x.last_valid_index())\n",
    "    length = len(filtered_country) - 1\n",
    "\n",
    "    filtered_country_summary_df = filtered_country_summary.to_frame()\n",
    "    first_valid_indices_country_df = first_valid_indices_country.to_frame()\n",
    "    last_valid_indices_country_df = last_valid_indices_country.to_frame()\n",
    "    list_of_dataframes = [filtered_country_summary_df, first_valid_indices_country_df, last_valid_indices_country]\n",
    "\n",
    "    comparison_country = pd.merge(filtered_country_summary_df, first_valid_indices_country_df, left_index=True, right_index=True)\n",
    "    comparison_country = comparison_country.rename(columns={\"0_x\": '# of missing entries', \"0_y\": \"first entry\"})\n",
    "    diff_first = filtered_country_summary_df - first_valid_indices_country_df\n",
    "    last_valid_indices_country_df_diff = length - last_valid_indices_country_df\n",
    "    diff_overall = filtered_country_summary_df - first_valid_indices_country_df - last_valid_indices_country_df_diff\n",
    "    comparison_country = comparison_country.assign(diff_first = diff_first, \\\n",
    "                last_entry= last_valid_indices_country_df, diff_last = last_valid_indices_country_df_diff, \\\n",
    "                diff_overall = diff_overall)\n",
    "    return (comparison_country)"
   ]
  },
  {
   "cell_type": "code",
   "execution_count": null,
   "metadata": {},
   "outputs": [],
   "source": [
    "filtering_missing_country(\"Germany\")"
   ]
  },
  {
   "cell_type": "code",
   "execution_count": null,
   "metadata": {},
   "outputs": [],
   "source": [
    "data_countr = data_without_OWID.loc[df['location'] == \"Germany\"]\n",
    "columns_to_print = [\"location\", \"tests_per_case\"]\n",
    "data_countr = data_countr[columns_to_print]\n",
    "data_countr.head(2000)"
   ]
  },
  {
   "cell_type": "markdown",
   "metadata": {},
   "source": [
    "##### 5.13 Function total diff for many countries"
   ]
  },
  {
   "cell_type": "code",
   "execution_count": null,
   "metadata": {},
   "outputs": [],
   "source": [
    "def locations_per_continent(continent):\n",
    "    filtered_continent = data_without_OWID.loc[df['continent'] == continent]\n",
    "    unique_values_continent = filtered_continent['location'].unique()\n",
    "    return unique_values_continent"
   ]
  },
  {
   "cell_type": "code",
   "execution_count": null,
   "metadata": {},
   "outputs": [],
   "source": [
    "unique_locations_Europe = locations_per_continent(\"Europe\")\n",
    "empty_df = pd.DataFrame()\n",
    "\n",
    "def several_countries_diff_overall_specific_columns(list_of_countries, empty_dataframe):\n",
    "    count = 0\n",
    "    for i in (list_of_countries):\n",
    "        country = filtering_missing_country(i)\n",
    "        #print (country)\n",
    "        country_diff_overall_column = country[\"diff_overall\"]\n",
    "        #print (country_diff_overall_column)\n",
    "        country_diff_overall_column_df = country_diff_overall_column.to_frame()\n",
    "        if count == 0:\n",
    "            combined_df = pd.concat([empty_df, country_diff_overall_column_df], axis=1)\n",
    "            count = 1\n",
    "        elif count > 0:\n",
    "            combined_df = pd.concat([combined_df, country_diff_overall_column_df], axis=1)\n",
    "        #print (country_diff_overall_column_df)\n",
    "        combined_df = combined_df.rename(columns={'diff_overall': i})\n",
    "    return (combined_df)\n",
    "\n",
    "output = several_countries_diff_overall_specific_columns(unique_locations_Europe, empty_df)\n",
    "output.iloc[list(range(2, 3)) + list(range(32, 48)),:]"
   ]
  },
  {
   "cell_type": "code",
   "execution_count": null,
   "metadata": {},
   "outputs": [],
   "source": [
    "threshhold = 50\n",
    "unique_locations_world = data_without_OWID['location'].unique()\n",
    "empty_df = pd.DataFrame()\n",
    "dataset = unique_locations_world"
   ]
  },
  {
   "cell_type": "code",
   "execution_count": null,
   "metadata": {},
   "outputs": [],
   "source": [
    "def countries_to_check(column, threshhold_value):\n",
    "    output = several_countries_diff_overall_specific_columns(dataset, empty_df)\n",
    "    output_filter = output.loc[column] #filtering for the specific column that we are interested in\n",
    "    output_filter = output_filter.to_frame()\n",
    "    output_filter = output_filter.dropna(axis = 0)\n",
    "    output_filter = output_filter[output_filter > threshhold_value]\n",
    "    output_filter = output_filter.dropna(axis = 0)\n",
    "    return output_filter"
   ]
  },
  {
   "cell_type": "code",
   "execution_count": null,
   "metadata": {},
   "outputs": [],
   "source": [
    "def countries_eligible(column, threshhold_value):\n",
    "    output = several_countries_diff_overall_specific_columns(dataset, empty_df)\n",
    "    output_filter = output.loc[column] #filtering for the specific column that we are interested in\n",
    "    output_filter = output_filter.to_frame()\n",
    "    output_filter = output_filter.dropna(axis = 0)\n",
    "    output_filter = output_filter[output_filter < threshhold_value]\n",
    "    output_filter = output_filter.dropna(axis = 0)\n",
    "    return output_filter"
   ]
  },
  {
   "cell_type": "code",
   "execution_count": null,
   "metadata": {},
   "outputs": [],
   "source": [
    "data_countr = data_without_OWID.loc[df['location'] == \"Germany\"]\n",
    "columns_to_print = [\"date\", \"total_vaccinations\"]\n",
    "data_countr = data_countr[columns_to_print]\n",
    "data_countr.head(2000)"
   ]
  },
  {
   "cell_type": "markdown",
   "metadata": {},
   "source": [
    "##### 5.14 Function to check whether there is some pattern in how often the data is missing"
   ]
  },
  {
   "cell_type": "code",
   "execution_count": null,
   "metadata": {},
   "outputs": [],
   "source": [
    "def regularity(country, column): #this function is to check how regular the reporting takes place\n",
    "    data_countr = data_without_OWID.loc[df['location'] == country] #filtering the country of interest, including all columns\n",
    "    data_countr = data_countr[column] #+filtering the column of interest for the country of interest\n",
    "    data_countr = data_countr.reset_index(drop=True) #resetting the index to 0\n",
    "    data_countr = data_countr.to_frame() #converting it to a pandas dataframe\n",
    "    first_valid_index = data_countr.apply(lambda x: x.first_valid_index()) #finding the first valid index\n",
    "    first_valid_index = first_valid_index[0] #isolating just the index number\n",
    "    last_valid_index = data_countr.apply(lambda x: x.last_valid_index()) #finding the last valid index\n",
    "    last_valid_index = last_valid_index[0] #isolating the last valid index number\n",
    "    data_countr_filtered = data_countr.iloc[first_valid_index:last_valid_index, :] #filtering the data so we disregard the first values where we have no value and the last values\n",
    "    data_countr_filtered = data_countr_filtered.isna().sum(axis=1) #1 where there is no data and zero where there is data\n",
    "    data_countr_filtered = data_countr_filtered.replace({0: 1, 1: 0})\n",
    "    return data_countr_filtered\n",
    "\n",
    "#regularity(\"Germany\", \"total_vaccinations\")"
   ]
  },
  {
   "cell_type": "markdown",
   "metadata": {},
   "source": [
    "##### 5.15 Function to transform the dataset of regularity before plotting"
   ]
  },
  {
   "cell_type": "code",
   "execution_count": null,
   "metadata": {},
   "outputs": [],
   "source": [
    "plt.figure(figsize=(8, 4))\n",
    "plotting_values = np.array([1,0,1,0,0,0,1,1,1,0,1,0,0,0,0,1,1,1,0,0,0,1,1,1,1,1,1,1,1,1,1,1,1,1,1,1,1,1,1,1,1,1,1,0,0,0,0,0,0,0,1,1,0,1,1,1,1,1,1,1,1,1,1,0,0,0,0,0,0,0,0,0,1,1,1,0])\n",
    "Brazil_data = regularity(\"Brazil\", \"total_vaccinations\")\n",
    "Brazil_data = Brazil_data.values\n",
    "\n",
    "def transform(plotting_values):\n",
    "    count_month = 2\n",
    "    counter = 0\n",
    "    for i in range(len(plotting_values)):\n",
    "        counter += 1\n",
    "        if plotting_values[i] == 1:\n",
    "            plotting_values[i] = count_month\n",
    "        #print (plotting_values[i])\n",
    "        if counter == 30:\n",
    "            counter = 0\n",
    "            count_month += 1\n",
    "            #print (\"printing : \", count_month)\n",
    "    return plotting_values\n",
    "\n",
    "transform(plotting_values)"
   ]
  },
  {
   "cell_type": "markdown",
   "metadata": {},
   "source": [
    "##### 5.16 Function to plot these patterns"
   ]
  },
  {
   "cell_type": "code",
   "execution_count": null,
   "metadata": {},
   "outputs": [],
   "source": [
    "neue_liste = [\"Armenia\", \"Albania\", \"Bahamas\", \"Brazil\", \"Germany\", \"France\", \"Argentina\", \"Bolivia\"]\n",
    "from IPython.display import display, HTML\n",
    "\n",
    "def plotting_regularity(neue_liste): #this function is to plot the regularity graph\n",
    "    num_plots = len(neue_liste)\n",
    "    num_cols = 3  # Number of rows\n",
    "    num_rows = (num_plots // num_cols) + 1\n",
    "    fig_width = 6 * num_cols\n",
    "    fig_height = 2 * num_plots\n",
    "    j = 0\n",
    "    k = 0\n",
    "    fig, axs = plt.subplots(num_rows, num_cols, figsize=(fig_width, fig_height)) #creating as many subplots as the list is long\n",
    "    for i, dataset in enumerate(neue_liste): #iterating over the list\n",
    "        #print (\"printing i: \", i, \"and j and k\", j, k )\n",
    "        filtered_data_new = regularity(neue_liste[i], \"total_vaccinations\") #calling the regularity function to get the data\n",
    "        filtered_data_new = filtered_data_new.values #converting the datatype\n",
    "        filtered_data_new = transform(filtered_data_new)\n",
    "        filtered_data_new = filtered_data_new[filtered_data_new != 0]\n",
    "        axs[j,k].hist(filtered_data_new, bins=50, edgecolor='black')  # Plot histogram\n",
    "        axs[j,k].set_title(neue_liste[i])  # Add title\n",
    "        axs[j,k].set_xlabel('Index')  # Add x-axis label\n",
    "        axs[j,k].set_ylabel('Number of entries')  # Add y-axis label\n",
    "        axs[j,k].grid(True)\n",
    "        if k == num_cols - 1:\n",
    "            k = 0\n",
    "            j += 1\n",
    "        else: \n",
    "            k += 1\n",
    "    plt.tight_layout()  # Adjust layout\n",
    "    #display(HTML(\"<style> .output { overflow-y: auto; max-height: 200px; } </style>\"))\n",
    "    plt.show()  # Show the plot  \n",
    "\n",
    "plotting_regularity(neue_liste)"
   ]
  },
  {
   "cell_type": "markdown",
   "metadata": {},
   "source": [
    "#### 5.2 Individual column analysis"
   ]
  },
  {
   "cell_type": "markdown",
   "metadata": {},
   "source": [
    "##### 5.2.1 Analysis \"stringency index\" (complete set)"
   ]
  },
  {
   "cell_type": "code",
   "execution_count": null,
   "metadata": {},
   "outputs": [],
   "source": [
    "\"\"\" ## Analysis \"stringency_index\"\n",
    "countries_eligible_stringency_index = countries_eligible(\"stringency_index\", 50)\n",
    "countries_to_check_stringency_index = countries_to_check(\"stringency_index\", 50)\n",
    "index_list_to_check_stringency_index = countries_to_check_stringency_index.index.tolist()\n",
    "index_list_eligible_stringency_index = countries_eligible_stringency_index.index.tolist()\n",
    "#index_list_to_check_stringency_index \"\"\""
   ]
  },
  {
   "cell_type": "code",
   "execution_count": null,
   "metadata": {},
   "outputs": [],
   "source": [
    "\"\"\" data_stringency_index = data[\"stringency_index\"]\n",
    "data_stringency_index.head(2000) \"\"\""
   ]
  },
  {
   "cell_type": "code",
   "execution_count": null,
   "metadata": {},
   "outputs": [],
   "source": [
    "\"\"\" plotting_regularity(index_list_eligible_stringency_index) \"\"\""
   ]
  },
  {
   "cell_type": "markdown",
   "metadata": {},
   "source": [
    "##### 5.2.2 Analysis \"new_people_vaccinated_smoothed_per_hundred\" (complete set)\n"
   ]
  },
  {
   "cell_type": "code",
   "execution_count": null,
   "metadata": {},
   "outputs": [],
   "source": [
    "\"\"\" ## Analysis \"new_people_vaccinated_smoothed_per_hundred\"\n",
    "countries_eligible_new_people_vaccinated_smoothed_per_hundred = countries_eligible(\"new_people_vaccinated_smoothed_per_hundred\", 50)\n",
    "countries_to_check_new_people_vaccinated_smoothed_per_hundred = countries_to_check(\"new_people_vaccinated_smoothed_per_hundred\", 50)\n",
    "index_list_to_check_new_people_vaccinated_smoothed_per_hundred = countries_to_check_new_people_vaccinated_smoothed_per_hundred.index.tolist()\n",
    "index_list_eligible_new_people_vaccinated_smoothed_per_hundred = countries_eligible_new_people_vaccinated_smoothed_per_hundred.index.tolist()\n",
    "#index_list_to_check_new_people_vaccinated_smoothed_per_hundred \"\"\""
   ]
  },
  {
   "cell_type": "markdown",
   "metadata": {},
   "source": [
    "##### 5.2.3 Analysis new_people_vaccinated_smoothed (complete set)"
   ]
  },
  {
   "cell_type": "code",
   "execution_count": null,
   "metadata": {},
   "outputs": [],
   "source": [
    "## Analysis \"new_people_vaccinated_smoothed\"\n",
    "countries_eligible_new_people_vaccinated_smoothed = countries_eligible(\"new_people_vaccinated_smoothed\", 50)\n",
    "countries_to_check_new_people_vaccinated_smoothed = countries_to_check(\"new_people_vaccinated_smoothed\", 50)\n",
    "index_list_to_check_new_people_vaccinated_smoothed = countries_to_check_new_people_vaccinated_smoothed.index.tolist()\n",
    "index_list_eligible_new_people_vaccinated_smoothed = countries_eligible_new_people_vaccinated_smoothed.index.tolist()\n",
    "#index_list_to_check_new_people_vaccinated_smoothed"
   ]
  },
  {
   "cell_type": "markdown",
   "metadata": {},
   "source": [
    "##### 5.2.4 Analysis new_vaccinations_smoothed_per_million (complete set)"
   ]
  },
  {
   "cell_type": "code",
   "execution_count": null,
   "metadata": {},
   "outputs": [],
   "source": [
    "\"\"\" ## Analysis \"new_vaccinations_smoothed_per_million\"\n",
    "countries_eligible_new_vaccinations_smoothed_per_million = countries_eligible(\"new_vaccinations_smoothed_per_million\", 50)\n",
    "countries_to_check_new_vaccinations_smoothed_per_million = countries_to_check(\"new_vaccinations_smoothed_per_million\", 50)\n",
    "index_list_to_check_new_vaccinations_smoothed_per_million = countries_to_check_new_vaccinations_smoothed_per_million.index.tolist()\n",
    "index_list_eligible_new_vaccinations_smoothed_per_million = countries_eligible_new_vaccinations_smoothed_per_million.index.tolist()\n",
    "#index_list_to_check_new_vaccinations_smoothed_per_million \"\"\""
   ]
  },
  {
   "cell_type": "markdown",
   "metadata": {},
   "source": [
    "##### 5.2.5 Analysis \"total_boosters_per_hundred\""
   ]
  },
  {
   "cell_type": "markdown",
   "metadata": {},
   "source": [
    "Summary: dropping Algeria, Niue, Tokelau"
   ]
  },
  {
   "cell_type": "code",
   "execution_count": null,
   "metadata": {},
   "outputs": [],
   "source": [
    "\"\"\" ## Analysis \"total_boosters_per_hundred\"\n",
    "countries_eligible_total_boosters_per_hundred = countries_eligible(\"total_boosters_per_hundred\", 50)\n",
    "countries_to_check_total_boosters_per_hundred = countries_to_check(\"total_boosters_per_hundred\", 50)\n",
    "index_list_to_check_total_boosters_per_hundred = countries_to_check_total_boosters_per_hundred.index.tolist()\n",
    "index_list_eligible_total_boosters_per_hundred = countries_eligible_total_boosters_per_hundred.index.tolist()\n",
    "#plotting_regularity(index_list_to_check_total_boosters_per_hundred) \"\"\"\n",
    "\n"
   ]
  },
  {
   "cell_type": "markdown",
   "metadata": {},
   "source": [
    "##### 5.2.6 Analysis people_fully_vaccinated_per_hundred\t"
   ]
  },
  {
   "cell_type": "markdown",
   "metadata": {},
   "source": [
    "Summary: Algeria, Nauru, Bonnaire, Pitcern, Niue, Tokelau, Turkmenistan"
   ]
  },
  {
   "cell_type": "code",
   "execution_count": null,
   "metadata": {},
   "outputs": [],
   "source": [
    "\"\"\" ## Analysis \"people_fully_vaccinated_per_hundred\"\n",
    "countries_eligible_people_fully_vaccinated_per_hundred = countries_eligible(\"people_fully_vaccinated_per_hundred\", 50)\n",
    "countries_to_check_people_fully_vaccinated_per_hundred = countries_to_check(\"people_fully_vaccinated_per_hundred\", 50)\n",
    "index_list_to_check_people_fully_vaccinated_per_hundred = countries_to_check_people_fully_vaccinated_per_hundred.index.tolist()\n",
    "index_list_eligible_people_fully_vaccinated_per_hundred = countries_eligible_people_fully_vaccinated_per_hundred.index.tolist()\n",
    "#plotting_regularity(index_list_to_check_people_fully_vaccinated_per_hundred) \"\"\""
   ]
  },
  {
   "cell_type": "markdown",
   "metadata": {},
   "source": [
    "##### 5.2.7 Analysis \"people_vaccinated_per_hundred\""
   ]
  },
  {
   "cell_type": "markdown",
   "metadata": {},
   "source": [
    "Summary: dropping Algeria, Bonnaire, Falkland islands, Pitcern, Niue, St Helena, Tokelau, Turkmenistan"
   ]
  },
  {
   "cell_type": "code",
   "execution_count": null,
   "metadata": {},
   "outputs": [],
   "source": [
    "\"\"\" ## Analysis \"people_vaccinated_per_hundred\"\n",
    "countries_eligible_people_vaccinated_per_hundred = countries_eligible(\"people_vaccinated_per_hundred\", 50)\n",
    "countries_to_check_people_vaccinated_per_hundred = countries_to_check(\"people_vaccinated_per_hundred\", 50)\n",
    "index_list_to_check_people_vaccinated_per_hundred = countries_to_check_people_vaccinated_per_hundred.index.tolist()\n",
    "index_list_eligible_people_vaccinated_per_hundred = countries_eligible_people_vaccinated_per_hundred.index.tolist()\n",
    "#plotting_regularity(index_list_to_check_people_vaccinated_per_hundred) \"\"\""
   ]
  },
  {
   "cell_type": "markdown",
   "metadata": {},
   "source": [
    "##### 5.2.8 Analysis \"total_vaccinations_per_hundred\""
   ]
  },
  {
   "cell_type": "markdown",
   "metadata": {},
   "source": [
    "Summary: dropping Sint, Falkland islands, Pitcern, Niue, St Helena, Turkmenistan"
   ]
  },
  {
   "cell_type": "code",
   "execution_count": null,
   "metadata": {},
   "outputs": [],
   "source": [
    "\"\"\" ## Analysis \"total_vaccinations_per_hundred\"\n",
    "countries_eligible_total_vaccinations_per_hundred = countries_eligible(\"total_vaccinations_per_hundred\", 50)\n",
    "countries_to_check_total_vaccinations_per_hundred = countries_to_check(\"total_vaccinations_per_hundred\", 50)\n",
    "index_list_to_check_total_vaccinations_per_hundred = countries_to_check_total_vaccinations_per_hundred.index.tolist()\n",
    "index_list_eligible_total_vaccinations_per_hundred = countries_eligible_total_vaccinations_per_hundred.index.tolist()\n",
    "#plotting_regularity(index_list_to_check_total_vaccinations_per_hundred) \"\"\""
   ]
  },
  {
   "cell_type": "markdown",
   "metadata": {},
   "source": [
    "##### 5.2.9 Analysis \"new_vaccinations_smoothed\" (complete set)"
   ]
  },
  {
   "cell_type": "code",
   "execution_count": null,
   "metadata": {},
   "outputs": [],
   "source": [
    "\"\"\" ## Analysis \"new_vaccinations_smoothed\"\n",
    "countries_eligible_new_vaccinations_smoothed = countries_eligible(\"new_vaccinations_smoothed\", 50)\n",
    "countries_to_check_new_vaccinations_smoothed = countries_to_check(\"new_vaccinations_smoothed\", 50)\n",
    "index_list_to_check_new_vaccinations_smoothed = countries_to_check_new_vaccinations_smoothed.index.tolist()\n",
    "index_list_eligible_new_vaccinations_smoothed = countries_eligible_new_vaccinations_smoothed.index.tolist()\n",
    "#index_list_to_check_new_vaccinations_smoothed \"\"\"\n"
   ]
  },
  {
   "cell_type": "markdown",
   "metadata": {},
   "source": [
    "##### 5.2.10 Analysis \"new_vaccinations\"\n"
   ]
  },
  {
   "cell_type": "markdown",
   "metadata": {},
   "source": [
    "Summary: no countries to be dropped"
   ]
  },
  {
   "cell_type": "code",
   "execution_count": null,
   "metadata": {},
   "outputs": [],
   "source": [
    "\"\"\" countries_eligible_new_vaccinations = countries_eligible(\"new_vaccinations\", 50)\n",
    "countries_to_check_new_vaccinations = countries_to_check(\"new_vaccinations\", 50)\n",
    "index_list_to_check_new_vaccinations = countries_to_check_new_vaccinations.index.tolist()\n",
    "index_list_eligible_new_vaccinations = countries_eligible_new_vaccinations.index.tolist()\n",
    "#plotting_regularity(index_list_to_check_new_vaccinations) \"\"\""
   ]
  },
  {
   "cell_type": "markdown",
   "metadata": {},
   "source": [
    "##### 5.2.11 Analysis \"total boosters\""
   ]
  },
  {
   "cell_type": "markdown",
   "metadata": {},
   "source": [
    "Summary: dropping Niue"
   ]
  },
  {
   "cell_type": "code",
   "execution_count": null,
   "metadata": {},
   "outputs": [],
   "source": [
    "\"\"\" ## Analysis \"total_boosters\"\n",
    "countries_eligible_total_boosters = countries_eligible(\"total_boosters\", 50)\n",
    "countries_to_check_total_boosters = countries_to_check(\"total_boosters\", 50)\n",
    "index_list_to_check_total_boosters = countries_to_check_total_boosters.index.tolist()\n",
    "index_list_eligible_total_boosters = countries_eligible_total_boosters.index.tolist()\n",
    "#plotting_regularity(index_list_eligible_total_boosters) \"\"\""
   ]
  },
  {
   "cell_type": "code",
   "execution_count": null,
   "metadata": {},
   "outputs": [],
   "source": [
    "\"\"\" data_boosters = data[[\"location\", \"total_boosters\"]]\n",
    "data_boosters.head(2000) \"\"\""
   ]
  },
  {
   "cell_type": "markdown",
   "metadata": {},
   "source": [
    "##### 5.2.12 Analysis \"people_fully_vaccinated\""
   ]
  },
  {
   "cell_type": "markdown",
   "metadata": {},
   "source": [
    "Summary: dropping Algeria, Bonnaire, Niue, Pitcern, Turkmenistan"
   ]
  },
  {
   "cell_type": "code",
   "execution_count": null,
   "metadata": {},
   "outputs": [],
   "source": [
    "\"\"\" ### Analysis \"people_fully_vaccinated\"\n",
    "countries_eligible_people_fully_vaccinated = countries_eligible(\"people_fully_vaccinated\", 50)\n",
    "countries_to_check_people_fully_vaccinated = countries_to_check(\"people_fully_vaccinated\", 50)\n",
    "index_list_to_check_people_fully_vaccinated = countries_to_check_people_fully_vaccinated.index.tolist()\n",
    "index_list_eligible_people_fully_vaccinated = countries_eligible_people_fully_vaccinated.index.tolist()\n",
    "#plotting_regularity(index_list_to_check_people_fully_vaccinated) \"\"\""
   ]
  },
  {
   "cell_type": "markdown",
   "metadata": {},
   "source": [
    "##### 5.2.13 Analysis \"people_vaccinated\""
   ]
  },
  {
   "cell_type": "markdown",
   "metadata": {},
   "source": [
    "Summary: dropping Sint, Falkland islands, Pitcern, Niue, St Helena, Tokelau, Turkmenistan, Tuvalu"
   ]
  },
  {
   "cell_type": "code",
   "execution_count": null,
   "metadata": {},
   "outputs": [],
   "source": [
    "\"\"\" ### Analysis \"people_vaccinated\"\n",
    "countries_eligible_people_vaccinated = countries_eligible(\"people_vaccinated\", 50)\n",
    "countries_to_check_people_vaccinated = countries_to_check(\"people_vaccinated\", 50)\n",
    "index_list_to_check_people_vaccinated = countries_to_check_people_vaccinated.index.tolist()\n",
    "index_list_eligible_people_vaccinated = countries_eligible_people_vaccinated.index.tolist()\n",
    "#plotting_regularity(index_list_to_check_people_vaccinated) \"\"\""
   ]
  },
  {
   "cell_type": "markdown",
   "metadata": {},
   "source": [
    "##### 5.2.14 Analysis \"total_vaccinations\""
   ]
  },
  {
   "cell_type": "markdown",
   "metadata": {},
   "source": [
    "Summary: dropping Bonnaire Sint, Falkland islands, Pitcern, Niue, St Helena, Tokelau, Turkmenistan"
   ]
  },
  {
   "cell_type": "code",
   "execution_count": null,
   "metadata": {},
   "outputs": [],
   "source": [
    "\"\"\" countries_eligible_total_vaccinations = countries_eligible(\"total_vaccinations\", 50)\n",
    "countries_to_check_total_vaccinations = countries_to_check(\"total_vaccinations\", 50)\n",
    "index_list_to_check_total_vaccinations = countries_to_check_total_vaccinations.index.tolist()\n",
    "index_list_eligible_total_vaccinations = countries_eligible_total_vaccinations.index.tolist()\n",
    "#plotting_regularity(index_list_to_check_total_vaccinations) \"\"\""
   ]
  },
  {
   "cell_type": "markdown",
   "metadata": {},
   "source": [
    "##### 5.2.15 Analysis \"tests_units\""
   ]
  },
  {
   "cell_type": "markdown",
   "metadata": {},
   "source": [
    "Summary: dropping this entire column"
   ]
  },
  {
   "cell_type": "code",
   "execution_count": null,
   "metadata": {},
   "outputs": [],
   "source": [
    "#useless column as this is only stating \"tests performed\" or \"NaN\""
   ]
  },
  {
   "cell_type": "markdown",
   "metadata": {},
   "source": [
    "##### 5.2.16 Analysis \"tests per case\""
   ]
  },
  {
   "cell_type": "markdown",
   "metadata": {},
   "source": [
    "Summary: dropping Cameroon, Curacao and Suriname from the dataset"
   ]
  },
  {
   "cell_type": "code",
   "execution_count": null,
   "metadata": {},
   "outputs": [],
   "source": [
    "\"\"\" countries_eligible_tests_per_case = countries_eligible(\"tests_per_case\", 50)\n",
    "countries_to_check_tests_per_case = countries_to_check(\"tests_per_case\", 50)\n",
    "#countries missing completely at random but could be included: Bhutan, Botswana, El Salvador, Libya, Nepal, Palestine, United States Virgin Islands\n",
    "#too many values generally missing: Cameroon, Curacao, Suriname\n",
    "#weekly reporting: Germany\n",
    "#monthly reporting: Hong Kong\n",
    "#repeating values: Ireland\n",
    "countries_to_check_tests_per_case \"\"\""
   ]
  },
  {
   "cell_type": "markdown",
   "metadata": {},
   "source": [
    "Results from the analysis above:\n",
    "1. Vatican needs to be removed\n",
    "\n",
    "countries with complete information in all categories: [Austria, Belgium, Czechia, Denmark, Estonia, France, Italy, Latvia, Norway, Switzerland, Ukraine, United Kingdom, \t]\n"
   ]
  },
  {
   "cell_type": "code",
   "execution_count": null,
   "metadata": {},
   "outputs": [],
   "source": [
    "EU_tests_per_case_every_value = ['Albania', 'Andorra', 'Austria', 'Belarus', 'Belgium',\n",
    "       'Bosnia and Herzegovina', 'Bulgaria', 'Croatia', 'Cyprus',\n",
    "       'Czechia', 'Denmark', 'Estonia', 'Faeroe Islands', 'Finland',\n",
    "       'France', 'Germany', 'Gibraltar', 'Greece', 'Guernsey', 'Hungary',\n",
    "       'Iceland', 'Ireland', 'Isle of Man', 'Italy', 'Jersey', 'Latvia',\n",
    "       'Liechtenstein', 'Lithuania', 'Luxembourg', 'Malta', 'Moldova',\n",
    "       'Monaco', 'Montenegro', 'Netherlands', 'North Macedonia', 'Norway',\n",
    "       'Poland', 'Portugal', 'Romania', 'Russia', 'San Marino', 'Serbia',\n",
    "       'Slovakia', 'Slovenia', 'Spain', 'Sweden', 'Switzerland',\n",
    "       'Ukraine', 'United Kingdom', 'Vatican']\n"
   ]
  },
  {
   "cell_type": "markdown",
   "metadata": {},
   "source": [
    "total_vaccinations_countries with almost no missing data = []\n",
    "total_vaccinations_ountries_weekly_reporting = []\n",
    "total_vaccinations_countries_random_missing_data = []"
   ]
  },
  {
   "cell_type": "code",
   "execution_count": null,
   "metadata": {},
   "outputs": [],
   "source": [
    "\"\"\" country_of_interest = \"Finland\"\n",
    "filtered = data_without_OWID.loc[df[\"location\"] == country_of_interest]\n",
    "filtered = filtered.reset_index(drop=True)\n",
    "vaccinations = filtered[\"total_vaccinations\"]\n",
    "vaccinations.head(500) \"\"\""
   ]
  },
  {
   "cell_type": "markdown",
   "metadata": {},
   "source": []
  },
  {
   "cell_type": "code",
   "execution_count": null,
   "metadata": {},
   "outputs": [],
   "source": [
    "\"\"\" country_name = \"Finland\"\n",
    "data_with_all_rows = filtering_missing_country(country_name)\n",
    "data_with_specific_rows = data_with_all_rows.iloc[list(range(2, 3)) + list(range(32, 48)),:]\n",
    "data_with_specific_rows \"\"\""
   ]
  },
  {
   "cell_type": "markdown",
   "metadata": {},
   "source": [
    "### 6. Decision over keeping or deleting/imputing columns 48:63 (Sevi)"
   ]
  },
  {
   "cell_type": "markdown",
   "metadata": {},
   "source": [
    "#### 6.1 Rough overview over the percentages of missing values:"
   ]
  },
  {
   "cell_type": "code",
   "execution_count": null,
   "metadata": {},
   "outputs": [],
   "source": [
    "columns_sevi = data.columns[48:63]\n",
    "missing_percentages_sevi = df[columns_sevi].isnull().sum() / df.shape[0] *100\n",
    "print(missing_percentages_sevi.sort_values(ascending=False))"
   ]
  },
  {
   "cell_type": "markdown",
   "metadata": {},
   "source": [
    "All  <75% that was previously defined -> no complete deletions\n",
    "\n",
    "7 columns are  <75% and >20% -> further investigation\n",
    "\n",
    "8 columns are <20% -> keep as is"
   ]
  },
  {
   "cell_type": "markdown",
   "metadata": {},
   "source": [
    "#### 6.2 Static Values"
   ]
  },
  {
   "cell_type": "markdown",
   "metadata": {},
   "source": [
    "I first tried to analyze the change of the missing values over for a few countries."
   ]
  },
  {
   "cell_type": "code",
   "execution_count": null,
   "metadata": {},
   "outputs": [],
   "source": [
    "for column in columns_sevi:    \n",
    "    belgium_data = df.groupby(\"iso_code\").get_group(\"BEL\")\n",
    "    belgium = belgium_data[column].fillna(0)\n",
    "\n",
    "    brazil_data = df.groupby(\"iso_code\").get_group(\"BRA\")\n",
    "    brazil = brazil_data[column].fillna(0)\n",
    "\n",
    "    mexico_data = df.groupby(\"iso_code\").get_group(\"MEX\")\n",
    "    mexico = mexico_data[column].fillna(0)\n",
    "\n",
    "    fig, axs = plt.subplots(3, 1, figsize=(8, 6))\n",
    "\n",
    "    # Plot data on each subplot\n",
    "    axs[0].plot(belgium_data[\"date\"], belgium)\n",
    "    axs[0].set_xlabel(\"date\")\n",
    "    axs[0].set_ylabel(column)\n",
    "    axs[0].set_title(\"Belgium\")\n",
    "\n",
    "    axs[1].plot(brazil_data[\"date\"], brazil)\n",
    "    axs[1].set_xlabel(\"date\")\n",
    "    axs[1].set_ylabel(column)\n",
    "    axs[1].set_title(\"Brazil\")\n",
    "\n",
    "    axs[2].plot(mexico_data[\"date\"], mexico)\n",
    "    axs[2].set_xlabel(\"date\")\n",
    "    axs[2].set_ylabel(column)\n",
    "    axs[2].set_title(\"Mexico\")\n",
    "\n",
    "    # Adjust layout to prevent overlapping\n",
    "    plt.tight_layout()\n",
    "    #safepoint = \"../output/Missing_Data_Analysis/cols48-63/missing_data-\" + column +\".png\"\n",
    "    #plt.savefig(safepoint)"
   ]
  },
  {
   "cell_type": "markdown",
   "metadata": {},
   "source": [
    "None of the number of values change over time.\n",
    "\n",
    "There is only one value for each country for the whole dataset.\n",
    "\n",
    "This may complicate any impution attempts\n",
    "\n",
    "Here a function to confirm this finding:"
   ]
  },
  {
   "cell_type": "code",
   "execution_count": null,
   "metadata": {},
   "outputs": [],
   "source": [
    "def check_constant_values(data, country_col, time_col, variables):\n",
    "    results = {}\n",
    "    for country in data[country_col].unique():\n",
    "        country_data = data[data[country_col] == country]\n",
    "        results[country] = {}\n",
    "        for variable in variables:\n",
    "            unique_values = country_data[variable].dropna().unique()\n",
    "            results[country][variable] = len(unique_values) < 2\n",
    "    return results\n",
    "\n",
    "constant_value_check = check_constant_values(data_without_OWID, 'iso_code', 'date', columns_sevi)\n",
    "\n",
    "for country, variables in constant_value_check.items():\n",
    "    print(f\"Country: {country}\")\n",
    "    for var, is_constant in variables.items():\n",
    "        if is_constant == False:\n",
    "            print(f\"  {var}: varies\")\n",
    "    print(\"\\n\")\n",
    "\n"
   ]
  },
  {
   "cell_type": "markdown",
   "metadata": {},
   "source": [
    "### 7. Actual imputations and deletions"
   ]
  },
  {
   "cell_type": "markdown",
   "metadata": {},
   "source": [
    "#### 7.1 First deletions that can already be made"
   ]
  },
  {
   "cell_type": "code",
   "execution_count": null,
   "metadata": {},
   "outputs": [],
   "source": [
    "#More than 90% of entries are missing for those four variables:\n",
    "data_clean = data.drop([\"excess_mortality_cumulative_absolute\", \"excess_mortality_cumulative\", \"excess_mortality\", \"excess_mortality_cumulative_per_million\"], axis=1, inplace=False)\n",
    "\n",
    "\n",
    "#Country deletions (Needed to clean up Leon data): They miss all 6 test columns, we want to have at least one tests column for our algorithms:\n",
    "data_clean = data_clean[~data_clean['iso_code'].isin(countries_without_tests)]\n",
    "\n",
    "\n",
    "#Leons deletions of columns missing more than 75% of data overall and also over 80% of all countries miss those variables entirely :\n",
    "data_clean = data_clean.drop(['icu_patients', 'icu_patients_per_million', 'hosp_patients', 'hosp_patients_per_million', \n",
    "                              'weekly_icu_admissions', 'weekly_icu_admissions_per_million', 'weekly_hosp_admissions',\n",
    "                              'weekly_hosp_admissions_per_million'],axis=1, inplace=False)\n",
    "\n",
    "#Florin deletions of additional columns :\n",
    "data_clean = data_clean.drop(['tests_units'],axis=1, inplace=False)\n",
    "\n",
    "#Florin country deletions:\n",
    "countries_to_be_deleted_Florin = [\"Algeria\", \"Bonaire Sint Eustatius and Saba\", \"Falkland Islands\", \"Nauru\", \"Niue\", \"Pitcairn\", \"Saint Helena\", \"Tokelau\", \"Turkmenistan\",\"Tuvalu\", \"Vatican\"]\n",
    "data_clean = data_clean[~data_clean['location'].isin(countries_to_be_deleted_Florin)]\n",
    "\n",
    "\n",
    "#insert all your drops and imputations here and save in data_clean!\n",
    "#Von jetzt an nur noch data_clean brauchen\n",
    "\n",
    "\n",
    "\n",
    "\n",
    "\n",
    "\n",
    "# TO REMOVE ASWELL: ALL OWID (we already have created data frames that dont include OWID)\n",
    "data_clean = data_clean[~data_clean['iso_code'].str.contains('OWID')]\n",
    "\n",
    "\n",
    "print(\"Clean data columns left:\", data_clean.columns.to_list())\n",
    "print(\"Clean data countries left:\", data_clean[\"iso_code\"].unique())\n",
    "###"
   ]
  },
  {
   "cell_type": "markdown",
   "metadata": {},
   "source": [
    "#### 7.2 Data observation after first deletions and further deletions (Leons Columns, countries):"
   ]
  },
  {
   "cell_type": "markdown",
   "metadata": {},
   "source": [
    "Using this to see how our data_clean behaves after certain removals:"
   ]
  },
  {
   "cell_type": "code",
   "execution_count": null,
   "metadata": {},
   "outputs": [],
   "source": [
    "leon_columns_after_first_clean = [\"reproduction_rate\", \"total_tests\", \"new_tests\", \"total_tests_per_thousand\", \n",
    "                                  \"new_tests_per_thousand\", \"new_tests_smoothed\", \n",
    "                                  \"new_tests_smoothed_per_thousand\", \"positive_rate\"]\n",
    "\n",
    "all_countries = list(data_clean.groupby(\"iso_code\").groups.keys())\n",
    "for column in leon_columns_after_first_clean:\n",
    "    grouped_by_iso = data_clean.groupby(\"iso_code\")\n",
    "    nan_counts = grouped_by_iso[column].apply(lambda x: x.isnull().all()).sum()\n",
    "    print(\"Percentage of countries that completely miss all values of\", column,\":\", nan_counts/len(all_countries)*100)"
   ]
  },
  {
   "cell_type": "markdown",
   "metadata": {},
   "source": [
    "We still have 19% of the countries that are entirely missing new_tests and new_tests per thousand. Those will need to be removed, after that we still have 4 variables that contain information about tests, which should be enough."
   ]
  },
  {
   "cell_type": "code",
   "execution_count": null,
   "metadata": {},
   "outputs": [],
   "source": [
    "data_clean = data_clean.drop([\"new_tests\", \"new_tests_per_thousand\"],axis=1, inplace=False)"
   ]
  },
  {
   "cell_type": "markdown",
   "metadata": {},
   "source": [
    "Observing what countries are still missing positive_rate:"
   ]
  },
  {
   "cell_type": "code",
   "execution_count": null,
   "metadata": {},
   "outputs": [],
   "source": [
    "empty_countries_p_rate = []\n",
    "p_rate_loc = grouped_by_iso[\"positive_rate\"].apply(lambda x: x.isnull().all())\n",
    "p_rate_nan_countries_true = p_rate_loc[p_rate_loc == True]\n",
    "empty_countries_p_rate.append(p_rate_nan_countries_true.index)"
   ]
  },
  {
   "cell_type": "markdown",
   "metadata": {},
   "source": [
    "Deleting those countries:"
   ]
  },
  {
   "cell_type": "code",
   "execution_count": null,
   "metadata": {},
   "outputs": [],
   "source": [
    "data_clean = data_clean[~data_clean['iso_code'].isin(empty_countries_p_rate[0].tolist())]"
   ]
  },
  {
   "cell_type": "markdown",
   "metadata": {},
   "source": [
    "Observing what countries are still missing total_tests_per_thousand: "
   ]
  },
  {
   "cell_type": "code",
   "execution_count": null,
   "metadata": {},
   "outputs": [],
   "source": [
    "empty_countries_ttt = []\n",
    "ttt_loc = grouped_by_iso[\"total_tests_per_thousand\"].apply(lambda x: x.isnull().all())\n",
    "ttt_nan_countries_true = ttt_loc[ttt_loc == True]\n",
    "empty_countries_ttt.append(ttt_nan_countries_true.index)\n"
   ]
  },
  {
   "cell_type": "markdown",
   "metadata": {},
   "source": [
    "Deleting those countries:"
   ]
  },
  {
   "cell_type": "code",
   "execution_count": null,
   "metadata": {},
   "outputs": [],
   "source": [
    "data_clean = data_clean[~data_clean['iso_code'].isin(empty_countries_ttt[0].tolist())]"
   ]
  },
  {
   "cell_type": "markdown",
   "metadata": {},
   "source": [
    "Observing what countries are still missing reproduction_rate: (Also heavily affects Nicos data)"
   ]
  },
  {
   "cell_type": "code",
   "execution_count": null,
   "metadata": {},
   "outputs": [],
   "source": [
    "empty_countries_r_rate = []\n",
    "r_rate_loc = grouped_by_iso[\"reproduction_rate\"].apply(lambda x: x.isnull().all())\n",
    "r_rate_nan_countries_true = r_rate_loc[r_rate_loc == True]\n",
    "empty_countries_r_rate.append(r_rate_nan_countries_true.index)"
   ]
  },
  {
   "cell_type": "markdown",
   "metadata": {},
   "source": [
    "Deleting those countries:"
   ]
  },
  {
   "cell_type": "code",
   "execution_count": null,
   "metadata": {},
   "outputs": [],
   "source": [
    "data_clean = data_clean[~data_clean['iso_code'].isin(empty_countries_r_rate[0].tolist())]"
   ]
  },
  {
   "cell_type": "markdown",
   "metadata": {},
   "source": [
    "Observation after further deletions:"
   ]
  },
  {
   "cell_type": "code",
   "execution_count": null,
   "metadata": {},
   "outputs": [],
   "source": [
    "all_countries = list(data_clean.groupby(\"iso_code\").groups.keys())\n",
    "for column in data_clean.columns:\n",
    "    grouped_by_iso = data_clean.groupby(\"iso_code\")\n",
    "    nan_counts = grouped_by_iso[column].apply(lambda x: x.isnull().all()).sum()\n",
    "    print(\"Percentage of countries that completely miss all values of\", column,\":\", nan_counts/len(all_countries)*100)"
   ]
  },
  {
   "cell_type": "markdown",
   "metadata": {},
   "source": [
    "What countries are left after deletions (Leon):"
   ]
  },
  {
   "cell_type": "code",
   "execution_count": null,
   "metadata": {},
   "outputs": [],
   "source": [
    "countries_left = data_clean.groupby(\"iso_code\").groups.keys()\n",
    "print(countries_left)\n",
    "print(len(countries_left))"
   ]
  },
  {
   "cell_type": "markdown",
   "metadata": {},
   "source": [
    "My remaining six columns have no more completely empty rows. Now on to the imputation of those columns:"
   ]
  },
  {
   "cell_type": "markdown",
   "metadata": {},
   "source": [
    "#### 7.3 Imputations of remaining six columns (Leon):"
   ]
  },
  {
   "cell_type": "markdown",
   "metadata": {},
   "source": [
    "To impute (Leon): reproduction_rate, total_tests, total_tests_per_thousand, new_tests_smoothed, new_tests_smoothed_per_thousand, positive_rate"
   ]
  },
  {
   "cell_type": "markdown",
   "metadata": {},
   "source": [
    "The missing data percentages for the columns are as follows:"
   ]
  },
  {
   "cell_type": "code",
   "execution_count": null,
   "metadata": {},
   "outputs": [],
   "source": [
    "leon_columns_after_second_clean =[\"reproduction_rate\", \"total_tests\", \"total_tests_per_thousand\", \n",
    "                                  \"new_tests_smoothed\", \n",
    "                                  \"new_tests_smoothed_per_thousand\", \"positive_rate\"]\n",
    "missing_percentages_leon_after_del = data_clean[leon_columns_after_second_clean].isnull().sum() / data_clean.shape[0] *100\n",
    "print(missing_percentages_leon_after_del)"
   ]
  },
  {
   "cell_type": "markdown",
   "metadata": {},
   "source": [
    "This may seem like a lot for the latter 5 but if we consider that those columns have a lot of those entries missing at the start or the end they are easily imputable. They miss at start and end because countries either have not tracked them from the beginning or have stopped tracking after a certain time. "
   ]
  },
  {
   "cell_type": "markdown",
   "metadata": {},
   "source": [
    "Imputation: "
   ]
  },
  {
   "cell_type": "code",
   "execution_count": null,
   "metadata": {},
   "outputs": [],
   "source": [
    "data_clean = data_clean.interpolate(method='linear', subset=leon_columns_after_second_clean)\n",
    "knn_imputer = KNNImputer(n_neighbors=5)\n",
    "data_clean[leon_columns_after_second_clean] = knn_imputer.fit_transform(data_clean[leon_columns_after_second_clean])"
   ]
  },
  {
   "cell_type": "markdown",
   "metadata": {},
   "source": [
    "I had to first do linear imputations for the end and start parts. There was still missing data after that, thats why there is also the knn imputation."
   ]
  },
  {
   "cell_type": "markdown",
   "metadata": {},
   "source": [
    "Taking a look at how imputation went:"
   ]
  },
  {
   "cell_type": "code",
   "execution_count": null,
   "metadata": {},
   "outputs": [],
   "source": [
    "missing_percentages_leon_after_imp = data_clean[leon_columns_after_second_clean].isnull().sum() / data_clean.shape[0] *100\n",
    "print(missing_percentages_leon_after_imp)"
   ]
  },
  {
   "cell_type": "markdown",
   "metadata": {},
   "source": [
    "Those columns have no more missing data."
   ]
  },
  {
   "cell_type": "markdown",
   "metadata": {},
   "source": [
    "Also visually:"
   ]
  },
  {
   "cell_type": "code",
   "execution_count": null,
   "metadata": {},
   "outputs": [],
   "source": [
    "for column in leon_columns_after_second_clean:    \n",
    "    belgium_data = data_clean.groupby(\"iso_code\").get_group(\"BEL\")\n",
    "    belgium = belgium_data[column]\n",
    "\n",
    "    mexico_data = data_clean.groupby(\"iso_code\").get_group(\"MEX\")\n",
    "    mexico = mexico_data[column]\n",
    "\n",
    "    fig, axs = plt.subplots(2, 1, figsize=(8, 5))\n",
    "\n",
    "    # Plot data on each subplot\n",
    "    axs[0].plot(belgium_data[\"date\"], belgium)\n",
    "    axs[0].set_xlabel(\"date\")\n",
    "    axs[0].set_ylabel(column)\n",
    "    axs[0].set_title(\"Belgium\")\n",
    "\n",
    "    axs[1].plot(mexico_data[\"date\"], mexico)\n",
    "    axs[1].set_xlabel(\"date\")\n",
    "    axs[1].set_ylabel(column)\n",
    "    axs[1].set_title(\"Mexico\")\n",
    "\n",
    "    # Adjust layout to prevent overlapping\n",
    "    plt.tight_layout()\n",
    "    #safepoint = \"../output/Missing_Data_Analysis/cols16-32/missing_data-\" + column +\"-after_imputation.png\"\n",
    "    #plt.savefig(safepoint)"
   ]
  },
  {
   "cell_type": "markdown",
   "metadata": {},
   "source": [
    "#### 7.4 Imputations of columns (Sevi):"
   ]
  },
  {
   "cell_type": "markdown",
   "metadata": {},
   "source": [
    "KNN Imputation"
   ]
  },
  {
   "cell_type": "markdown",
   "metadata": {},
   "source": [
    "-KNN imputation works well for all seven variables, because they are all descriptive variables for a country's socioeconomic state.\n",
    "\n",
    "-It identifies similarities based on multiple factors like health, economy, and demographics, ensuring the imputed values fit well with existing data."
   ]
  },
  {
   "cell_type": "code",
   "execution_count": null,
   "metadata": {},
   "outputs": [],
   "source": [
    "\n",
    "knn_imputer = KNNImputer(n_neighbors=5)\n",
    "variables_to_impute = ['handwashing_facilities', 'extreme_poverty', 'male_smokers', \n",
    "                       'female_smokers', 'hospital_beds_per_thousand', 'human_development_index',\n",
    "                       'aged_65_older']\n",
    "data_clean[variables_to_impute] = knn_imputer.fit_transform(data_clean[variables_to_impute])\n",
    "\n"
   ]
  },
  {
   "cell_type": "markdown",
   "metadata": {},
   "source": [
    "#### 7.5 Imputations of columns (Nico)"
   ]
  },
  {
   "cell_type": "markdown",
   "metadata": {},
   "source": [
    "Getting an overview over the missing data after the first deletions"
   ]
  },
  {
   "cell_type": "code",
   "execution_count": null,
   "metadata": {},
   "outputs": [],
   "source": [
    "nico_columns_after_second_clean = data_clean.columns[4:16] #in the first four columns we do not have to impute anything\n",
    "missing_percentages_nico_after_del = data_clean[nico_columns_after_second_clean].isnull().sum() / data_clean.shape[0] *100\n",
    "print(missing_percentages_nico_after_del)"
   ]
  },
  {
   "cell_type": "markdown",
   "metadata": {},
   "source": [
    "There is only very little missing data left. All the columns are missing less than 1% which means a simple imputation method like forward/backward fill or mean imputation are sufficient for these columns. In this case we use forward and then backward fill to get rid of all NAN values. This makes sense since most NAN values are at the end or in the beginning of the recording period. The mean value would make less sense because of that"
   ]
  },
  {
   "cell_type": "code",
   "execution_count": null,
   "metadata": {},
   "outputs": [],
   "source": [
    "data_clean[nico_columns_after_second_clean] = data_clean[nico_columns_after_second_clean].ffill().bfill() #using forward fill and then backward fill so that no nan are left\n",
    "missing_percentages_nico_after_ffill = data_clean[nico_columns_after_second_clean].isnull().sum() / data_clean.shape[0] *100\n",
    "print(missing_percentages_nico_after_ffill) #checking for missing values"
   ]
  },
  {
   "cell_type": "markdown",
   "metadata": {},
   "source": [
    "To check that there are no more missing values and to check if the imputations make sense, here are two visual representation of the columns from two different countries:"
   ]
  },
  {
   "cell_type": "code",
   "execution_count": null,
   "metadata": {},
   "outputs": [],
   "source": [
    "for column in nico_columns_after_second_clean:    \n",
    "    finland_data_nico = data_clean.groupby(\"iso_code\").get_group(\"FIN\")\n",
    "    finland_nico = finland_data_nico[column]\n",
    "\n",
    "    mexico_data_nico = data_clean.groupby(\"iso_code\").get_group(\"MEX\")\n",
    "    mexico_nico = mexico_data_nico[column]\n",
    "\n",
    "    fig, axs = plt.subplots(2, 1, figsize=(8, 5))\n",
    "\n",
    "    # Plot data on each subplot\n",
    "    axs[0].plot(finland_data_nico[\"date\"], finland_nico)\n",
    "    axs[0].set_xlabel(\"date\")\n",
    "    axs[0].set_ylabel(column)\n",
    "    axs[0].set_title(\"Finland\")\n",
    "\n",
    "    axs[1].plot(mexico_data_nico[\"date\"], mexico_nico)\n",
    "    axs[1].set_xlabel(\"date\")\n",
    "    axs[1].set_ylabel(column)\n",
    "    axs[1].set_title(\"Mexico\")\n",
    "\n",
    "    # Adjust layout to prevent overlapping\n",
    "    plt.tight_layout()\n",
    "    #safepoint = \"../output/Missing_Data_Analysis/cols0-15/missing_data-\" + column +\"-after_imputation.png\"\n",
    "    #plt.savefig(safepoint)"
   ]
  },
  {
   "cell_type": "markdown",
   "metadata": {},
   "source": [
    "#### 7.6 Imupations of columns Forin:"
   ]
  },
  {
   "cell_type": "code",
   "execution_count": null,
   "metadata": {},
   "outputs": [],
   "source": [
    "#KNN imputations\n",
    "florin_columns_after_cleaning = ['tests_per_case', 'total_vaccinations', 'people_vaccinated', 'people_fully_vaccinated', 'total_boosters', 'new_vaccinations', 'new_vaccinations_smoothed', 'total_vaccinations_per_hundred', 'people_vaccinated_per_hundred', 'people_fully_vaccinated_per_hundred', 'total_boosters_per_hundred', 'new_vaccinations_smoothed_per_million', 'new_people_vaccinated_smoothed', 'new_people_vaccinated_smoothed_per_hundred', 'stringency_index']\n",
    "data_clean = data_clean.interpolate(method='linear', subset=florin_columns_after_cleaning)\n",
    "knn_imputer = KNNImputer(n_neighbors=5)\n",
    "data_clean[florin_columns_after_cleaning] = knn_imputer.fit_transform(data_clean[florin_columns_after_cleaning])\n"
   ]
  },
  {
   "cell_type": "code",
   "execution_count": null,
   "metadata": {},
   "outputs": [],
   "source": [
    "#checking how many missing values are left\n",
    "florin_columns_missing_percentages = data_clean[florin_columns_after_cleaning].isnull().sum() / data_clean.shape[0] *100\n",
    "print(florin_columns_missing_percentages)"
   ]
  },
  {
   "cell_type": "markdown",
   "metadata": {},
   "source": [
    "#### 7.7 Clean data overview after imputations"
   ]
  },
  {
   "cell_type": "markdown",
   "metadata": {},
   "source": [
    "Missing percentages:"
   ]
  },
  {
   "cell_type": "code",
   "execution_count": null,
   "metadata": {},
   "outputs": [],
   "source": [
    "missing_percentages_after_del_imp = data_clean.isnull().sum() / data_clean.shape[0] *100\n",
    "print(missing_percentages_after_del_imp)"
   ]
  },
  {
   "cell_type": "code",
   "execution_count": null,
   "metadata": {},
   "outputs": [],
   "source": [
    "data_clean.info()"
   ]
  },
  {
   "cell_type": "code",
   "execution_count": null,
   "metadata": {},
   "outputs": [],
   "source": [
    "data_clean.describe()"
   ]
  },
  {
   "cell_type": "code",
   "execution_count": null,
   "metadata": {},
   "outputs": [],
   "source": [
    "data_clean.shape"
   ]
  },
  {
   "cell_type": "markdown",
   "metadata": {},
   "source": [
    "## 6 Data preprocessing (Handling of missing data excluded) "
   ]
  },
  {
   "cell_type": "markdown",
   "metadata": {},
   "source": [
    "### Structure\n",
    "1. Looking for outliers\n",
    "2. Distribution of data\n",
    "3. Splitting the data\n",
    "4. Scaling"
   ]
  },
  {
   "cell_type": "markdown",
   "metadata": {},
   "source": [
    "### 1. Looking for outliers"
   ]
  },
  {
   "cell_type": "markdown",
   "metadata": {},
   "source": [
    "#### 1.1 Looking for outliers using IQR"
   ]
  },
  {
   "cell_type": "code",
   "execution_count": null,
   "metadata": {},
   "outputs": [],
   "source": [
    "\"\"\"\n",
    "summary_stats = data_clean.describe()\n",
    "Q1 = summary_stats.loc['25%']\n",
    "Q3 = summary_stats.loc['75%']\n",
    "IQR = Q3 - Q1\n",
    "# Define outliers using IQR rule\n",
    "lower_bound = Q1 - 1.5 * IQR\n",
    "upper_bound = Q3 + 1.5 * IQR\n",
    "# Align DataFrame columns with summary statistics columns\n",
    "data_clean, lower_bound = data_clean.align(lower_bound, axis=1, join='inner')\n",
    "data_clean, upper_bound = data_clean.align(upper_bound, axis=1, join='inner')\n",
    "outliers = data_clean[(data_clean < lower_bound) | (data_clean > upper_bound)].dropna(axis=1, how='all')\n",
    "if not outliers.empty:\n",
    "    print(\"Outliers:\")\n",
    "    print(outliers)\n",
    "else:\n",
    "    print(\"No outliers found.\")\n",
    "\"\"\""
   ]
  },
  {
   "cell_type": "markdown",
   "metadata": {},
   "source": [
    "#### 1.2 Looking for outliers using the Z-Score"
   ]
  },
  {
   "cell_type": "code",
   "execution_count": null,
   "metadata": {},
   "outputs": [],
   "source": [
    "\"\"\"\n",
    "z_scores = (data_clean - data_clean.mean()) / data_clean.std()\n",
    "outlier_threshold = 3\n",
    "outliers_zscore = (z_scores > outlier_threshold) | (z_scores < -outlier_threshold)\n",
    "\n",
    "outliers_rows = outliers_zscore.any(axis=1)  # Rows containing at least one outlier\n",
    "outliers_cols = outliers_zscore.sum(axis=0) # Amount of outliers per column\n",
    "\n",
    "print(outliers_cols)\n",
    "\"\"\""
   ]
  },
  {
   "cell_type": "markdown",
   "metadata": {},
   "source": [
    "### 2. Distribution of data "
   ]
  },
  {
   "cell_type": "markdown",
   "metadata": {},
   "source": [
    "#### 2.1 Distribution of numercial data"
   ]
  },
  {
   "cell_type": "markdown",
   "metadata": {},
   "source": [
    "Testing whether the data is normally distributed or not:\n",
    "Using the anderson darling test, since the shapiro wilks is not suitable for data n > 5000 "
   ]
  },
  {
   "cell_type": "code",
   "execution_count": null,
   "metadata": {},
   "outputs": [],
   "source": [
    "num_data_clean = data_clean.select_dtypes(include='number')\n",
    "distribution_results = {}\n",
    "for column in num_data_clean.columns:\n",
    "    result = sts.anderson(num_data_clean[column].dropna(), dist='norm')  ############################### I had to drop all na for it to work!!! -> maybe imputation needed\n",
    "    test_stat = result.statistic \n",
    "    critical_val = result.critical_values\n",
    "    #print(critical_val)                                \n",
    "    #print(test_stat)                           \n",
    "    if test_stat > critical_val[2]:\n",
    "        result = \"not normal\"\n",
    "    else:\n",
    "        result = \"normal\"    \n",
    "    distribution_results[column] = result\n",
    "\n",
    "\n",
    "not_normal = []\n",
    "for key, value in distribution_results.items():\n",
    "    if value == \"not normal\":\n",
    "        not_normal.append(key)\n",
    "if len(not_normal) == 0:\n",
    "    print(\"All numerical data seems to be normally distributed.\")\n",
    "elif len(not_normal) == len(num_data_clean.columns):\n",
    "    print(\"No variable is normally distributed.\")\n",
    "else:\n",
    "    print(\"All data but\", not_normal, \"seems to be normally distributed\")"
   ]
  },
  {
   "cell_type": "markdown",
   "metadata": {},
   "source": [
    "#### Distribution of numercial data visually"
   ]
  },
  {
   "cell_type": "code",
   "execution_count": null,
   "metadata": {},
   "outputs": [],
   "source": [
    "columns_per_row = 3\n",
    "num_columns = len(num_data_clean.columns)\n",
    "num_rows = (num_columns - 1) // columns_per_row + 1\n",
    "fig_width = 6 * columns_per_row\n",
    "fig_height = 4 * num_rows\n",
    "fig, axs = plt.subplots(num_rows, 4, figsize=(fig_width, fig_height))\n",
    "axs = axs.flatten()\n",
    "for i, column in enumerate(num_data_clean.columns):\n",
    "    ax = axs[i]\n",
    "    ax.hist(num_data_clean[column], bins=35, color='skyblue', edgecolor='black')\n",
    "    ax.set_title(column)\n",
    "    ax.set_xlabel('Value')\n",
    "    ax.set_ylabel('Frequency')\n",
    "plt.tight_layout()\n",
    "#plt.savefig(\"../output/Preprocessing/Distributions/distributions_of_variables.png\")"
   ]
  },
  {
   "cell_type": "markdown",
   "metadata": {},
   "source": [
    "### 3. Splitting the data"
   ]
  },
  {
   "cell_type": "markdown",
   "metadata": {},
   "source": [
    "#### 3.1 Introduction to the split"
   ]
  },
  {
   "cell_type": "markdown",
   "metadata": {},
   "source": [
    "We want to do a cross validation for multiple time frames of our data. Normal cross validation could lead to data leakage because it takes into account future data to predict past data. Time Series Split makes more sense to me. It works as follows:\n",
    "\n",
    "Walk-forward validation is similar to time series cross-validation but focuses on predicting one step ahead using all available past data.\n",
    "\n",
    "**Example:**\n",
    "\n",
    "*First Fold:*\n",
    "\n",
    "- Training: January to March\n",
    "\n",
    "- Validation: April\n",
    "\n",
    "*Second Fold:*\n",
    "\n",
    "- Training: January to April\n",
    "\n",
    "- Validation: May\n",
    "\n",
    "*Third Fold:*\n",
    "\n",
    "- Training: January to May\n",
    "\n",
    "- Validation: June"
   ]
  },
  {
   "cell_type": "markdown",
   "metadata": {},
   "source": [
    "Trying to find out how many folds to make:"
   ]
  },
  {
   "cell_type": "code",
   "execution_count": null,
   "metadata": {},
   "outputs": [],
   "source": [
    "first_day = data_clean[\"date\"].min()\n",
    "last_day = data_clean[\"date\"].max()\n",
    "print(\"Data ranges from\", first_day, \"to\", last_day)"
   ]
  },
  {
   "cell_type": "markdown",
   "metadata": {},
   "source": [
    "#### 3.2 Splitting the data"
   ]
  },
  {
   "cell_type": "markdown",
   "metadata": {},
   "source": [
    "Finding out when countries have their first entry:"
   ]
  },
  {
   "cell_type": "code",
   "execution_count": 191,
   "metadata": {},
   "outputs": [
    {
     "name": "stdout",
     "output_type": "stream",
     "text": [
      "    iso_code       date\n",
      "94       MEX 2020-01-01\n",
      "5        ARG 2020-01-01\n",
      "141      THA 2020-01-04\n",
      "90       LVA 2020-01-06\n",
      "48       EST 2020-01-06\n",
      "146      TWN 2020-01-16\n",
      "151      USA 2020-01-22\n",
      "81       KOR 2020-01-22\n",
      "29       CHN 2020-01-22\n",
      "76       JPN 2020-01-22\n",
      "153      VNM 2020-01-23\n",
      "26       CAN 2020-01-23\n",
      "105      MYS 2020-01-24\n",
      "51       FRA 2020-01-24\n",
      "112      NPL 2020-01-25\n",
      "8        AUS 2020-01-26\n",
      "86       LKA 2020-01-27\n",
      "40       DEU 2020-01-27\n",
      "79       KHM 2020-01-27\n",
      "50       FIN 2020-01-29\n",
      "4        ARE 2020-01-29\n",
      "53       GBR 2020-01-30\n",
      "68       IND 2020-01-30\n",
      "117      PHL 2020-01-30\n",
      "123      RUS 2020-01-31\n",
      "73       ITA 2020-01-31\n",
      "47       ESP 2020-02-01\n",
      "136      SWE 2020-02-01\n",
      "43       DNK 2020-02-02\n",
      "135      SVN 2020-02-02\n",
      "6        ARM 2020-02-03\n",
      "12       BEL 2020-02-04\n",
      "91       MAR 2020-02-07\n",
      "156      ZAF 2020-02-07\n",
      "111      NOR 2020-02-12\n",
      "89       LUX 2020-02-12\n",
      "46       EGY 2020-02-14\n",
      "62       GTM 2020-02-17\n",
      "70       IRN 2020-02-19\n",
      "72       ISR 2020-02-20\n",
      "28       CHL 2020-02-23\n",
      "82       KWT 2020-02-24\n",
      "71       IRQ 2020-02-24\n",
      "113      OMN 2020-02-24\n",
      "0        AFG 2020-02-24\n",
      "16       BHR 2020-02-24\n",
      "64       HRV 2020-02-25\n",
      "27       CHE 2020-02-25\n",
      "2        ALB 2020-02-25\n",
      "114      PAK 2020-02-25\n",
      "9        AUT 2020-02-25\n",
      "60       GRC 2020-02-26\n",
      "96       MKD 2020-02-26\n",
      "130      SRB 2020-02-26\n",
      "122      ROU 2020-02-26\n",
      "54       GEO 2020-02-26\n",
      "110      NLD 2020-02-27\n",
      "108      NGA 2020-02-28\n",
      "19       BLR 2020-02-28\n",
      "126      SEN 2020-02-28\n",
      "69       IRL 2020-02-29\n",
      "44       DOM 2020-03-01\n",
      "120      PRT 2020-03-01\n",
      "10       AZE 2020-03-01\n",
      "45       ECU 2020-03-01\n",
      "39       CZE 2020-03-01\n",
      "67       IDN 2020-03-02\n",
      "3        AND 2020-03-02\n",
      "125      SAU 2020-03-02\n",
      "66       HUN 2020-03-03\n",
      "75       JOR 2020-03-03\n",
      "149      UKR 2020-03-03\n",
      "140      TGO 2020-03-04\n",
      "119      POL 2020-03-04\n",
      "85       LIE 2020-03-04\n",
      "144      TUN 2020-03-04\n",
      "98       MLT 2020-03-05\n",
      "18       BIH 2020-03-05\n",
      "36       CRI 2020-03-06\n",
      "23       BTN 2020-03-06\n",
      "116      PER 2020-03-06\n",
      "78       KEN 2020-03-06\n",
      "134      SVK 2020-03-06\n",
      "31       CMR 2020-03-06\n",
      "34       COL 2020-03-06\n",
      "121      PRY 2020-03-07\n",
      "15       BGR 2020-03-08\n",
      "14       BGD 2020-03-08\n",
      "93       MDV 2020-03-08\n",
      "115      PAN 2020-03-09\n",
      "38       CYP 2020-03-09\n",
      "13       BFA 2020-03-10\n",
      "100      MNG 2020-03-10\n",
      "145      TUR 2020-03-11\n",
      "21       BOL 2020-03-11\n",
      "32       COD 2020-03-11\n",
      "30       CIV 2020-03-11\n",
      "74       JAM 2020-03-11\n",
      "63       GUY 2020-03-12\n",
      "37       CUB 2020-03-12\n",
      "150      URY 2020-03-13\n",
      "56       GIN 2020-03-13\n",
      "77       KAZ 2020-03-13\n",
      "49       ETH 2020-03-13\n",
      "7        ATG 2020-03-13\n",
      "133      SUR 2020-03-14\n",
      "124      RWA 2020-03-14\n",
      "152      VCT 2020-03-14\n",
      "143      TTO 2020-03-14\n",
      "84       LCA 2020-03-14\n",
      "52       GAB 2020-03-14\n",
      "55       GHA 2020-03-14\n",
      "137      SWZ 2020-03-14\n",
      "102      MRT 2020-03-14\n",
      "106      NAM 2020-03-14\n",
      "59       GNQ 2020-03-15\n",
      "25       CAF 2020-03-15\n",
      "33       COG 2020-03-15\n",
      "147      TZA 2020-03-16\n",
      "129      SOM 2020-03-16\n",
      "17       BHS 2020-03-16\n",
      "57       GMB 2020-03-17\n",
      "22       BRB 2020-03-17\n",
      "41       DJI 2020-03-18\n",
      "103      MUS 2020-03-18\n",
      "157      ZMB 2020-03-18\n",
      "139      TCD 2020-03-19\n",
      "128      SLV 2020-03-19\n",
      "109      NIC 2020-03-19\n",
      "88       LTU 2020-03-19\n",
      "1        AGO 2020-03-20\n",
      "158      ZWE 2020-03-20\n",
      "92       MDG 2020-03-20\n",
      "107      NER 2020-03-20\n",
      "65       HTI 2020-03-20\n",
      "148      UGA 2020-03-21\n",
      "101      MOZ 2020-03-22\n",
      "142      TLS 2020-03-22\n",
      "61       GRD 2020-03-22\n",
      "42       DMA 2020-03-22\n",
      "138      SYR 2020-03-22\n",
      "20       BLZ 2020-03-23\n",
      "83       LAO 2020-03-24\n",
      "97       MLI 2020-03-25\n",
      "80       KNA 2020-03-25\n",
      "58       GNB 2020-03-25\n",
      "99       MMR 2020-03-27\n",
      "104      MWI 2020-03-29\n",
      "24       BWA 2020-03-30\n",
      "11       BDI 2020-03-31\n",
      "127      SLE 2020-03-31\n",
      "131      SSD 2020-04-05\n",
      "132      STP 2020-04-06\n",
      "155      YEM 2020-04-10\n",
      "35       COM 2020-04-30\n",
      "95       MHL 2020-05-07\n",
      "87       LSO 2020-05-13\n",
      "154      VUT 2020-11-10\n",
      "118      PLW 2021-08-22\n"
     ]
    }
   ],
   "source": [
    "earliest_dates = data_clean.groupby('iso_code')['date'].min().reset_index()\n",
    "print(earliest_dates.sort_values(by = \"date\"))"
   ]
  },
  {
   "cell_type": "markdown",
   "metadata": {},
   "source": [
    "Splitting the data and saving the splits in a list. I went for a split of the data so that we have train dates for a length of four months and then one test month. This makes it an 80/20 split. "
   ]
  },
  {
   "cell_type": "code",
   "execution_count": 256,
   "metadata": {},
   "outputs": [
    {
     "name": "stdout",
     "output_type": "stream",
     "text": [
      "Split 1 - Train Data:\n",
      "2020-05-30 00:00:00\n",
      "2020-09-26 00:00:00\n",
      "\n",
      "Split 1 - Test Data:\n",
      "2020-09-27 00:00:00\n",
      "2020-10-26 00:00:00\n",
      "\n",
      "----------------------------------------\n",
      "\n",
      "Split 2 - Train Data:\n",
      "2020-10-27 00:00:00\n",
      "2021-02-23 00:00:00\n",
      "\n",
      "Split 2 - Test Data:\n",
      "2021-02-24 00:00:00\n",
      "2021-03-25 00:00:00\n",
      "\n",
      "----------------------------------------\n",
      "\n",
      "Split 3 - Train Data:\n",
      "2021-03-26 00:00:00\n",
      "2021-07-23 00:00:00\n",
      "\n",
      "Split 3 - Test Data:\n",
      "2021-07-24 00:00:00\n",
      "2021-08-22 00:00:00\n",
      "\n",
      "----------------------------------------\n",
      "\n",
      "Split 4 - Train Data:\n",
      "2021-08-23 00:00:00\n",
      "2021-12-20 00:00:00\n",
      "\n",
      "Split 4 - Test Data:\n",
      "2021-12-21 00:00:00\n",
      "2022-01-19 00:00:00\n",
      "\n",
      "----------------------------------------\n",
      "\n",
      "Split 5 - Train Data:\n",
      "2022-01-20 00:00:00\n",
      "2022-05-19 00:00:00\n",
      "\n",
      "Split 5 - Test Data:\n",
      "2022-05-20 00:00:00\n",
      "2022-06-18 00:00:00\n",
      "\n",
      "----------------------------------------\n",
      "\n",
      "Split 6 - Train Data:\n",
      "2022-06-19 00:00:00\n",
      "2022-10-16 00:00:00\n",
      "\n",
      "Split 6 - Test Data:\n",
      "2022-10-17 00:00:00\n",
      "2022-11-15 00:00:00\n",
      "\n",
      "----------------------------------------\n",
      "\n"
     ]
    }
   ],
   "source": [
    "data_clean_sorted = data_clean.sort_values(by=['date'])\n",
    "all_dates = pd.Series(data_clean_sorted[\"date\"].unique()[150:]) #starting only from the 150th day in, since many countries started having entries only then\n",
    "def custom_time_series_split(all_dates, train_window, test_window):\n",
    "    splits = []\n",
    "    # Iterate over the DataFrame to create train/test splits\n",
    "    for i in range(0, len(all_dates), train_window + test_window):\n",
    "        # Check if there are enough rows remaining for both training and testing data\n",
    "        if i + train_window + test_window <= len(all_dates):\n",
    "            # Training data\n",
    "            train_data = all_dates.iloc[i:i+train_window]\n",
    "\n",
    "            # Testing data\n",
    "            test_data = all_dates.iloc[i+train_window:i+train_window+test_window]\n",
    "\n",
    "            # Store the splits\n",
    "            splits.append((train_data, test_data))\n",
    "\n",
    "    return splits\n",
    "\n",
    "# Create the split\n",
    "splits = custom_time_series_split(all_dates, 120, 30)\n",
    "\n",
    "\n",
    "for i, (train_data, test_data) in enumerate(splits):\n",
    "    print(f\"Split {i+1} - Train Data:\")\n",
    "    print(train_data.iloc[0])\n",
    "    print(train_data.iloc[-1])\n",
    "    print(f\"\\nSplit {i+1} - Test Data:\")\n",
    "    print(test_data.iloc[0])\n",
    "    print(test_data.iloc[-1])\n",
    "    print(\"\\n----------------------------------------\\n\")\n",
    "\n"
   ]
  },
  {
   "cell_type": "markdown",
   "metadata": {},
   "source": [
    "This creates 6 splits. As one can see, all of 2023 is not included which makes sense, since at the end we had to do most imputations and thus this will be more accurate."
   ]
  },
  {
   "cell_type": "markdown",
   "metadata": {},
   "source": [
    "Splitting the whole data accordingly:"
   ]
  },
  {
   "cell_type": "code",
   "execution_count": 257,
   "metadata": {},
   "outputs": [
    {
     "name": "stdout",
     "output_type": "stream",
     "text": [
      "Split: 1 :\n",
      "Train Data:\n",
      "    iso_code continent     location       date  total_cases  new_cases  new_cases_smoothed  total_deaths  new_deaths  new_deaths_smoothed  total_cases_per_million  new_cases_per_million  new_cases_smoothed_per_million  total_deaths_per_million  new_deaths_per_million  new_deaths_smoothed_per_million  reproduction_rate   total_tests  total_tests_per_thousand  new_tests_smoothed  new_tests_smoothed_per_thousand  positive_rate  tests_per_case  total_vaccinations  people_vaccinated  people_fully_vaccinated  total_boosters  new_vaccinations  new_vaccinations_smoothed  total_vaccinations_per_hundred  people_vaccinated_per_hundred  people_fully_vaccinated_per_hundred  total_boosters_per_hundred  new_vaccinations_smoothed_per_million  new_people_vaccinated_smoothed  new_people_vaccinated_smoothed_per_hundred  stringency_index  population_density  median_age  aged_65_older  aged_70_older  gdp_per_capita  extreme_poverty  cardiovasc_death_rate  diabetes_prevalence  female_smokers  \\\n",
      "96       AFG      Asia  Afghanistan 2020-05-30      14529.0      784.0             653.857         252.0         2.0                5.286                  353.256                 19.062                          15.898                     6.127                   0.049                            0.129               1.22  4.414797e+07               1157.068800       516657.000000                         3.560600       0.047400       15.386241         4667431.619        3947223.493             4.750419e+06    2.810361e+08        12134400.0                 972.246883                       17.807535                      15.061965                            65.013946                   19.825468                              28.170075                      944.495262                                    0.002582             84.26              54.422        18.6          2.581          1.337        1803.987        29.474659                597.029                 9.59             2.7   \n",
      "97       AFG      Asia  Afghanistan 2020-05-31      15180.0      651.0             644.571         254.0         2.0                4.571                  369.085                 15.828                          15.672                     6.176                   0.049                            0.111               1.21  9.857415e+07                679.340400          884.252273                         0.027066       0.062786       15.386241         4667431.619        3947223.493             4.750419e+06    2.810361e+08        12134400.0                 972.246883                       17.807535                      15.061965                            65.013946                   19.825468                              28.170075                      944.495262                                    0.002582             84.26              54.422        18.6          2.581          1.337        1803.987        29.474659                597.029                 9.59             2.7   \n",
      "98       AFG      Asia  Afghanistan 2020-06-01      15836.0      656.0             665.143         269.0        15.0                6.571                  385.035                 15.950                          16.172                     6.540                   0.365                            0.160               1.19  3.906799e+07               3693.349876       378378.400000                         2.608000       0.050780       15.386241         4667431.619        3947223.493             4.750419e+06    2.810361e+08        12134400.0                 972.246883                       17.807535                      15.061965                            65.013946                   19.825468                              28.170075                      944.495262                                    0.002582             84.26              54.422        18.6          2.581          1.337        1803.987        29.474659                597.029                 9.59             2.7   \n",
      "99       AFG      Asia  Afghanistan 2020-06-02      16578.0      742.0             665.857         274.0         5.0                7.143                  403.075                 18.041                          16.190                     6.662                   0.122                            0.174               1.17  1.329687e+08               1727.552683        17170.200000                         0.333200       0.018000       15.386241         4667431.619        3947223.493             4.750419e+06    2.810361e+08        12134400.0                 972.246883                       17.807535                      15.061965                            65.013946                   19.825468                              28.170075                      944.495262                                    0.002582             84.26              54.422        18.6          2.581          1.337        1803.987        29.474659                597.029                 9.59             2.7   \n",
      "100      AFG      Asia  Afghanistan 2020-06-03      17353.0      775.0             698.286         298.0        24.0                9.714                  421.919                 18.843                          16.978                     7.246                   0.584                            0.236               1.16  2.980307e+06                 68.463600        23544.800000                         0.649000       0.069500       15.386241         4667431.619        3947223.493             4.750419e+06    2.810361e+08        12134400.0                 972.246883                       17.807535                      15.061965                            65.013946                   19.825468                              28.170075                      944.495262                                    0.002582             84.26              54.422        18.6          2.581          1.337        1803.987        29.474659                597.029                 9.59             2.7   \n",
      "\n",
      "     male_smokers  handwashing_facilities  hospital_beds_per_thousand  life_expectancy  human_development_index  population  \n",
      "96           37.0                  37.746                         0.5            64.83                    0.511  41128772.0  \n",
      "97           37.0                  37.746                         0.5            64.83                    0.511  41128772.0  \n",
      "98           37.0                  37.746                         0.5            64.83                    0.511  41128772.0  \n",
      "99           37.0                  37.746                         0.5            64.83                    0.511  41128772.0  \n",
      "100          37.0                  37.746                         0.5            64.83                    0.511  41128772.0  \n",
      "\n",
      "Test Data:\n",
      "    iso_code continent     location       date  total_cases  new_cases  new_cases_smoothed  total_deaths  new_deaths  new_deaths_smoothed  total_cases_per_million  new_cases_per_million  new_cases_smoothed_per_million  total_deaths_per_million  new_deaths_per_million  new_deaths_smoothed_per_million  reproduction_rate   total_tests  total_tests_per_thousand  new_tests_smoothed  new_tests_smoothed_per_thousand  positive_rate  tests_per_case  total_vaccinations  people_vaccinated  people_fully_vaccinated  total_boosters  new_vaccinations  new_vaccinations_smoothed  total_vaccinations_per_hundred  people_vaccinated_per_hundred  people_fully_vaccinated_per_hundred  total_boosters_per_hundred  new_vaccinations_smoothed_per_million  new_people_vaccinated_smoothed  new_people_vaccinated_smoothed_per_hundred  stringency_index  population_density  median_age  aged_65_older  aged_70_older  gdp_per_capita  extreme_poverty  cardiovasc_death_rate  diabetes_prevalence  female_smokers  \\\n",
      "216      AFG      Asia  Afghanistan 2020-09-27      39313.0       35.0              26.143        1457.0         0.0                1.714                  955.852                  0.851                           0.636                    35.425                   0.000                            0.042               1.02  3.329602e+06               2507.318078        1.646608e+05                         3.467400       0.273600        7.750479        1.293030e+09       6.694188e+08              229682589.2     198962781.8            5321.9               704912.17493                           147.9                      71.828659                               69.178                       14.04                             911.314763                   163636.806685                                    0.017798              28.7              54.422        18.6          2.581          1.337        1803.987        29.474659                597.029                 9.59             2.7   \n",
      "217      AFG      Asia  Afghanistan 2020-09-28      39325.0       12.0              23.571        1460.0         3.0                1.714                  956.143                  0.292                           0.573                    35.498                   0.073                            0.042               1.03  1.116743e+09                788.836372        1.489045e+03                         0.142755       0.059641        7.750479        1.293030e+09       6.694188e+08              229682589.2     198962781.8            5321.9               704912.17493                           147.9                      71.828659                               69.178                       14.04                             911.314763                   163636.806685                                    0.017798              28.7              54.422        18.6          2.581          1.337        1803.987        29.474659                597.029                 9.59             2.7   \n",
      "218      AFG      Asia  Afghanistan 2020-09-29      39340.0       15.0              22.571        1462.0         2.0                1.857                  956.508                  0.365                           0.549                    35.547                   0.049                            0.045               1.04  4.605374e+08               6844.981000        3.574725e+03                         0.336930       0.106955        7.750479        1.293030e+09       6.694188e+08              229682589.2     198962781.8            5321.9               704912.17493                           147.9                      71.828659                               69.178                       14.04                             911.314763                   163636.806685                                    0.017798              28.7              54.422        18.6          2.581          1.337        1803.987        29.474659                597.029                 9.59             2.7   \n",
      "219      AFG      Asia  Afghanistan 2020-09-30      39354.0       14.0              17.571        1462.0         0.0                1.714                  956.848                  0.340                           0.427                    35.547                   0.000                            0.042               1.06  3.411669e+06                608.080077        4.876452e+05                         7.233000       0.010400        7.750479        1.293030e+09       6.694188e+08              229682589.2     198962781.8            5321.9               704912.17493                           147.9                      71.828659                               69.178                       14.04                             911.314763                   163636.806685                                    0.017798              28.7              54.422        18.6          2.581          1.337        1803.987        29.474659                597.029                 9.59             2.7   \n",
      "220      AFG      Asia  Afghanistan 2020-10-01      39371.0       17.0              16.429        1462.0         0.0                1.000                  957.262                  0.413                           0.399                    35.547                   0.000                            0.024               1.08  8.543795e+08                606.991800        1.476998e+07                        10.358000       0.000000        7.750479        1.293030e+09       6.694188e+08              229682589.2     198962781.8            5321.9               704912.17493                           147.9                      71.828659                               69.178                       14.04                             911.314763                   163636.806685                                    0.017798              28.7              54.422        18.6          2.581          1.337        1803.987        29.474659                597.029                 9.59             2.7   \n",
      "\n",
      "     male_smokers  handwashing_facilities  hospital_beds_per_thousand  life_expectancy  human_development_index  population  \n",
      "216          37.0                  37.746                         0.5            64.83                    0.511  41128772.0  \n",
      "217          37.0                  37.746                         0.5            64.83                    0.511  41128772.0  \n",
      "218          37.0                  37.746                         0.5            64.83                    0.511  41128772.0  \n",
      "219          37.0                  37.746                         0.5            64.83                    0.511  41128772.0  \n",
      "220          37.0                  37.746                         0.5            64.83                    0.511  41128772.0  \n",
      "------------------------------------------------------------------------------------------------------------------------\n",
      "Split: 2 :\n",
      "Train Data:\n",
      "    iso_code continent     location       date  total_cases  new_cases  new_cases_smoothed  total_deaths  new_deaths  new_deaths_smoothed  total_cases_per_million  new_cases_per_million  new_cases_smoothed_per_million  total_deaths_per_million  new_deaths_per_million  new_deaths_smoothed_per_million  reproduction_rate   total_tests  total_tests_per_thousand  new_tests_smoothed  new_tests_smoothed_per_thousand  positive_rate  tests_per_case  total_vaccinations  people_vaccinated  people_fully_vaccinated  total_boosters  new_vaccinations  new_vaccinations_smoothed  total_vaccinations_per_hundred  people_vaccinated_per_hundred  people_fully_vaccinated_per_hundred  total_boosters_per_hundred  new_vaccinations_smoothed_per_million  new_people_vaccinated_smoothed  new_people_vaccinated_smoothed_per_hundred  stringency_index  population_density  median_age  aged_65_older  aged_70_older  gdp_per_capita  extreme_poverty  cardiovasc_death_rate  diabetes_prevalence  female_smokers  \\\n",
      "246      AFG      Asia  Afghanistan 2020-10-27      40937.0      104.0              68.000        1518.0         4.0                2.143                  995.337                  2.529                           1.653                    36.908                   0.097                            0.052               1.21  9.857415e+07                679.340400          884.252273                         0.027066       0.062786      148.553901        1.233450e+08       5.996746e+07             3.559547e+07      14425802.4         1225725.0                    33763.8                       52.310816                      25.435856                            24.746144                      36.194                                  847.2                           820.8                                       0.002              9.26              54.422        18.6          2.581          1.337        1803.987        29.474659                597.029                 9.59             2.7   \n",
      "247      AFG      Asia  Afghanistan 2020-10-28      41032.0       95.0              81.571        1523.0         5.0                2.857                  997.647                  2.310                           1.983                    37.030                   0.122                            0.069               1.21  9.857415e+07                679.340400          884.252273                         0.027066       0.062786      148.553901        1.233450e+08       5.996746e+07             3.559547e+07      14425802.4         1225725.0                    33763.8                       52.310816                      25.435856                            24.746144                      36.194                                  847.2                           820.8                                       0.002              9.26              54.422        18.6          2.581          1.337        1803.987        29.474659                597.029                 9.59             2.7   \n",
      "248      AFG      Asia  Afghanistan 2020-10-29      41145.0      113.0              90.714        1529.0         6.0                3.714                 1000.395                  2.747                           2.206                    37.176                   0.146                            0.090               1.21  9.857415e+07                679.340400          884.252273                         0.027066       0.062786      148.553901        1.233450e+08       5.996746e+07             3.559547e+07      14425802.4         1225725.0                    33763.8                       52.310816                      25.435856                            24.746144                      36.194                                  847.2                           820.8                                       0.002              9.26              54.422        18.6          2.581          1.337        1803.987        29.474659                597.029                 9.59             2.7   \n",
      "249      AFG      Asia  Afghanistan 2020-10-30      41268.0      123.0              91.714        1532.0         3.0                3.857                 1003.385                  2.991                           2.230                    37.249                   0.073                            0.094               1.20  3.000796e+07                689.312317       296492.600000                         2.043400       0.028600      148.553901        1.233450e+08       5.996746e+07             3.559547e+07      14425802.4         1225725.0                    33763.8                       52.310816                      25.435856                            24.746144                      36.194                                  847.2                           820.8                                       0.002              9.26              54.422        18.6          2.581          1.337        1803.987        29.474659                597.029                 9.59             2.7   \n",
      "250      AFG      Asia  Afghanistan 2020-10-31      41334.0       66.0              92.429        1533.0         1.0                3.714                 1004.990                  1.605                           2.247                    37.273                   0.024                            0.090               1.20  3.000796e+07                689.312317       296492.600000                         2.043400       0.028600      148.553901        1.233450e+08       5.996746e+07             3.559547e+07      14425802.4         1225725.0                    33763.8                       52.310816                      25.435856                            24.746144                      36.194                                  847.2                           820.8                                       0.002              9.26              54.422        18.6          2.581          1.337        1803.987        29.474659                597.029                 9.59             2.7   \n",
      "\n",
      "     male_smokers  handwashing_facilities  hospital_beds_per_thousand  life_expectancy  human_development_index  population  \n",
      "246          37.0                  37.746                         0.5            64.83                    0.511  41128772.0  \n",
      "247          37.0                  37.746                         0.5            64.83                    0.511  41128772.0  \n",
      "248          37.0                  37.746                         0.5            64.83                    0.511  41128772.0  \n",
      "249          37.0                  37.746                         0.5            64.83                    0.511  41128772.0  \n",
      "250          37.0                  37.746                         0.5            64.83                    0.511  41128772.0  \n",
      "\n",
      "Test Data:\n",
      "    iso_code continent     location       date  total_cases  new_cases  new_cases_smoothed  total_deaths  new_deaths  new_deaths_smoothed  total_cases_per_million  new_cases_per_million  new_cases_smoothed_per_million  total_deaths_per_million  new_deaths_per_million  new_deaths_smoothed_per_million  reproduction_rate   total_tests  total_tests_per_thousand  new_tests_smoothed  new_tests_smoothed_per_thousand  positive_rate  tests_per_case  total_vaccinations  people_vaccinated  people_fully_vaccinated  total_boosters  new_vaccinations  new_vaccinations_smoothed  total_vaccinations_per_hundred  people_vaccinated_per_hundred  people_fully_vaccinated_per_hundred  total_boosters_per_hundred  new_vaccinations_smoothed_per_million  new_people_vaccinated_smoothed  new_people_vaccinated_smoothed_per_hundred  stringency_index  population_density  median_age  aged_65_older  aged_70_older  gdp_per_capita  extreme_poverty  cardiovasc_death_rate  diabetes_prevalence  female_smokers  \\\n",
      "366      AFG      Asia  Afghanistan 2021-02-24      55664.0       18.0              17.714        2436.0         1.0                1.143                 1353.408                  0.438                           0.431                    59.229                   0.024                            0.028               0.88  6.235543e+08                443.300144       428076.211650                         2.927460       0.115494       13.372701         2733.333333        2733.333333             1.048948e+06    8.097621e+06      14391.885366                     1367.0                        0.006667                       0.006667                             5.755488                   26.147700                                   33.0                          1367.0                                       0.003             12.04              54.422        18.6          2.581          1.337        1803.987        29.474659                597.029                 9.59             2.7   \n",
      "367      AFG      Asia  Afghanistan 2021-02-25      55680.0       16.0              17.571        2438.0         2.0                1.143                 1353.797                  0.389                           0.427                    59.277                   0.049                            0.028               0.89  8.389442e+08                596.025800       447788.200000                         6.641600       0.032200       23.960425         4100.000000        4100.000000             6.852014e+05    6.264806e+06      13991.713975                     1367.0                        0.010000                       0.010000                             5.032195                   22.459269                                   33.0                          1367.0                                       0.003             12.04              54.422        18.6          2.581          1.337        1803.987        29.474659                597.029                 9.59             2.7   \n",
      "368      AFG      Asia  Afghanistan 2021-02-26      55696.0       16.0              17.286        2442.0         4.0                1.714                 1354.186                  0.389                           0.420                    59.374                   0.097                            0.042               0.90  1.972890e+08               2926.181400        41435.745836                         0.701407       0.072367       20.169734         5466.666667        5466.666667             5.264572e+06    1.216479e+07       4215.346585                     1367.0                        0.013333                       0.013333                             6.838165                   31.663891                                   33.0                          1367.0                                       0.003             12.04              54.422        18.6          2.581          1.337        1803.987        29.474659                597.029                 9.59             2.7   \n",
      "369      AFG      Asia  Afghanistan 2021-02-27      55707.0       11.0              18.143        2443.0         1.0                1.857                 1354.453                  0.267                           0.441                    59.399                   0.024                            0.045               0.91  9.749659e+06                194.648633       413012.800000                         6.125600       0.071000        6.558829         6833.333333        6833.333333             6.671867e+05    5.883062e+06      10802.401176                     1367.0                        0.016667                       0.016667                             4.919056                   24.220214                                   33.0                          1367.0                                       0.003             12.04              54.422        18.6          2.581          1.337        1803.987        29.474659                597.029                 9.59             2.7   \n",
      "370      AFG      Asia  Afghanistan 2021-02-28      55714.0        7.0              15.714        2443.0         0.0                1.571                 1354.623                  0.170                           0.382                    59.399                   0.000                            0.038               0.93  1.611420e+07               1131.684310       271350.000000                        28.136000       0.033780       51.524976         8200.000000        8200.000000             6.232928e+06    1.055264e+07      12277.140994                     1367.0                        0.020000                       0.020000                             7.838228                   23.803209                                   33.0                          1367.0                                       0.003             12.04              54.422        18.6          2.581          1.337        1803.987        29.474659                597.029                 9.59             2.7   \n",
      "\n",
      "     male_smokers  handwashing_facilities  hospital_beds_per_thousand  life_expectancy  human_development_index  population  \n",
      "366          37.0                  37.746                         0.5            64.83                    0.511  41128772.0  \n",
      "367          37.0                  37.746                         0.5            64.83                    0.511  41128772.0  \n",
      "368          37.0                  37.746                         0.5            64.83                    0.511  41128772.0  \n",
      "369          37.0                  37.746                         0.5            64.83                    0.511  41128772.0  \n",
      "370          37.0                  37.746                         0.5            64.83                    0.511  41128772.0  \n",
      "------------------------------------------------------------------------------------------------------------------------\n",
      "Split: 3 :\n",
      "Train Data:\n",
      "    iso_code continent     location       date  total_cases  new_cases  new_cases_smoothed  total_deaths  new_deaths  new_deaths_smoothed  total_cases_per_million  new_cases_per_million  new_cases_smoothed_per_million  total_deaths_per_million  new_deaths_per_million  new_deaths_smoothed_per_million  reproduction_rate   total_tests  total_tests_per_thousand  new_tests_smoothed  new_tests_smoothed_per_thousand  positive_rate  tests_per_case  total_vaccinations  people_vaccinated  people_fully_vaccinated  total_boosters  new_vaccinations  new_vaccinations_smoothed  total_vaccinations_per_hundred  people_vaccinated_per_hundred  people_fully_vaccinated_per_hundred  total_boosters_per_hundred  new_vaccinations_smoothed_per_million  new_people_vaccinated_smoothed  new_people_vaccinated_smoothed_per_hundred  stringency_index  population_density  median_age  aged_65_older  aged_70_older  gdp_per_capita  extreme_poverty  cardiovasc_death_rate  diabetes_prevalence  female_smokers  \\\n",
      "396      AFG      Asia  Afghanistan 2021-03-26      56254.0       28.0              26.429        2467.0         0.0                0.714                 1367.753                  0.681                           0.643                    59.982                   0.000                            0.017               1.26  8.221176e+06               1521.588800        4.370224e+05                         3.012000       0.047180       12.102285             84000.0            84000.0             8.633026e+05    4.840431e+06      20104.447316                     3000.0                        0.202727                       0.202727                             6.231549                   20.312705                                   73.0                          3000.0                                       0.007             26.85              54.422        18.6          2.581          1.337        1803.987        29.474659                597.029                 9.59             2.7   \n",
      "397      AFG      Asia  Afghanistan 2021-03-27      56290.0       36.0              28.143        2469.0         2.0                1.000                 1368.628                  0.875                           0.684                    60.031                   0.049                            0.024               1.27  3.794387e+07                799.038000        1.047815e+05                         3.621168       0.112893       13.782834             87000.0            87000.0             4.970040e+06    1.345392e+07      31976.291446                     3000.0                        0.210000                       0.210000                             6.671927                   18.354552                                   73.0                          3000.0                                       0.007             26.85              54.422        18.6          2.581          1.337        1803.987        29.474659                597.029                 9.59             2.7   \n",
      "398      AFG      Asia  Afghanistan 2021-03-28      56294.0        4.0              27.286        2470.0         1.0                1.000                 1368.726                  0.097                           0.663                    60.055                   0.024                            0.024               1.29  5.544422e+07               1454.478394        1.186518e+07                         9.116800       0.009600      422.848088             90000.0            90000.0             3.149561e+06    9.263497e+06      24322.140030                     3000.0                        0.217273                       0.217273                             5.541966                   15.296751                                   73.0                          3000.0                                       0.007             26.85              54.422        18.6          2.581          1.337        1803.987        29.474659                597.029                 9.59             2.7   \n",
      "399      AFG      Asia  Afghanistan 2021-03-29      56322.0       28.0              24.143        2472.0         2.0                1.143                 1369.406                  0.681                           0.587                    60.104                   0.049                            0.028               1.30  5.567410e+07               3050.059400        4.792660e+04                         6.337200       0.039760       15.220000             93000.0            93000.0             2.840748e+06    5.014652e+06       8351.785303                     3000.0                        0.224545                       0.224545                             6.589436                    9.771213                                   73.0                          3000.0                                       0.007             26.85              54.422        18.6          2.581          1.337        1803.987        29.474659                597.029                 9.59             2.7   \n",
      "400      AFG      Asia  Afghanistan 2021-03-30      56384.0       62.0              29.571        2476.0         4.0                1.429                 1370.914                  1.507                           0.719                    60.201                   0.097                            0.035               1.32  4.962122e+07               7615.584657        5.517733e+04                         1.345863       0.244345       18.508478             96000.0            96000.0             2.876036e+06    7.885134e+06      38188.891232                     3000.0                        0.231818                       0.231818                            12.015582                   23.902104                                   73.0                          3000.0                                       0.007             26.85              54.422        18.6          2.581          1.337        1803.987        29.474659                597.029                 9.59             2.7   \n",
      "\n",
      "     male_smokers  handwashing_facilities  hospital_beds_per_thousand  life_expectancy  human_development_index  population  \n",
      "396          37.0                  37.746                         0.5            64.83                    0.511  41128772.0  \n",
      "397          37.0                  37.746                         0.5            64.83                    0.511  41128772.0  \n",
      "398          37.0                  37.746                         0.5            64.83                    0.511  41128772.0  \n",
      "399          37.0                  37.746                         0.5            64.83                    0.511  41128772.0  \n",
      "400          37.0                  37.746                         0.5            64.83                    0.511  41128772.0  \n",
      "\n",
      "Test Data:\n",
      "    iso_code continent     location       date  total_cases  new_cases  new_cases_smoothed  total_deaths  new_deaths  new_deaths_smoothed  total_cases_per_million  new_cases_per_million  new_cases_smoothed_per_million  total_deaths_per_million  new_deaths_per_million  new_deaths_smoothed_per_million  reproduction_rate  total_tests  total_tests_per_thousand  new_tests_smoothed  new_tests_smoothed_per_thousand  positive_rate  tests_per_case  total_vaccinations  people_vaccinated  people_fully_vaccinated  total_boosters  new_vaccinations  new_vaccinations_smoothed  total_vaccinations_per_hundred  people_vaccinated_per_hundred  people_fully_vaccinated_per_hundred  total_boosters_per_hundred  new_vaccinations_smoothed_per_million  new_people_vaccinated_smoothed  new_people_vaccinated_smoothed_per_hundred  stringency_index  population_density  median_age  aged_65_older  aged_70_older  gdp_per_capita  extreme_poverty  cardiovasc_death_rate  diabetes_prevalence  female_smokers  male_smokers  \\\n",
      "516      AFG      Asia  Afghanistan 2021-07-24     143666.0      227.0             491.714        6393.0        36.0               42.143                 3493.078                  5.519                          11.955                   155.439                   0.875                            1.025               0.75   21099749.4                   91.1822           1131083.8                           0.8036        0.06646       18.320000        1.171064e+06           751906.6               287924.125    2.449178e+06       4626.357143                    13476.0                        2.850000                         1.8295                                0.699                   25.170037                                  328.0                           690.0                                       0.002             56.02              54.422        18.6          2.581          1.337        1803.987        29.474659                597.029                 9.59             2.7          37.0   \n",
      "517      AFG      Asia  Afghanistan 2021-07-25     143871.0      205.0             467.000        6425.0        32.0               39.714                 3498.062                  4.984                          11.355                   156.217                   0.778                            0.966               0.75   21099749.4                   91.1822           1131083.8                           0.8036        0.06646       18.340000        1.172183e+06           752596.8               293213.750    2.452698e+06       4638.344538                    11132.0                        2.852593                         1.8310                                0.712                   25.199721                                  271.0                           690.0                                       0.002             56.02              54.422        18.6          2.581          1.337        1803.987        29.474659                597.029                 9.59             2.7          37.0   \n",
      "518      AFG      Asia  Afghanistan 2021-07-26     144285.0      414.0             398.000        6477.0        52.0               37.714                 3508.128                 10.066                           9.677                   157.481                   1.264                            0.917               0.75   21099749.4                   91.1822           1131083.8                           0.8036        0.06646       22.160000        1.173303e+06           753287.0               298503.375    2.461501e+06       4650.331933                     9464.0                        2.855185                         1.8325                                0.725                   25.175809                                  230.0                           690.0                                       0.002             52.31              54.422        18.6          2.581          1.337        1803.987        29.474659                597.029                 9.59             2.7          37.0   \n",
      "519      AFG      Asia  Afghanistan 2021-07-27     145008.0      723.0             370.571        6515.0        38.0               35.571                 3525.707                 17.579                           9.010                   158.405                   0.924                            0.865               0.75   21099749.4                   91.1822           1131083.8                           0.8036        0.06646       22.160000        1.174422e+06           753977.2               303793.000    2.461501e+06       4662.319328                     7795.0                        2.857778                         1.8340                                0.738                   25.175809                                  190.0                           690.0                                       0.002             52.31              54.422        18.6          2.581          1.337        1803.987        29.474659                597.029                 9.59             2.7          37.0   \n",
      "520      AFG      Asia  Afghanistan 2021-07-28     145552.0      544.0             398.571        6577.0        62.0               40.571                 3538.934                 13.227                           9.691                   159.912                   1.507                            0.986               0.75   21099749.4                   91.1822           1131083.8                           0.8036        0.06646       21.764019        1.175541e+06           754667.4               309082.625    2.455274e+06       4674.306723                     6126.0                        2.860370                         1.8355                                0.751                   25.588983                                  149.0                           690.0                                       0.002             52.31              54.422        18.6          2.581          1.337        1803.987        29.474659                597.029                 9.59             2.7          37.0   \n",
      "\n",
      "     handwashing_facilities  hospital_beds_per_thousand  life_expectancy  human_development_index  population  \n",
      "516                  37.746                         0.5            64.83                    0.511  41128772.0  \n",
      "517                  37.746                         0.5            64.83                    0.511  41128772.0  \n",
      "518                  37.746                         0.5            64.83                    0.511  41128772.0  \n",
      "519                  37.746                         0.5            64.83                    0.511  41128772.0  \n",
      "520                  37.746                         0.5            64.83                    0.511  41128772.0  \n",
      "------------------------------------------------------------------------------------------------------------------------\n",
      "Split: 4 :\n",
      "Train Data:\n",
      "    iso_code continent     location       date  total_cases  new_cases  new_cases_smoothed  total_deaths  new_deaths  new_deaths_smoothed  total_cases_per_million  new_cases_per_million  new_cases_smoothed_per_million  total_deaths_per_million  new_deaths_per_million  new_deaths_smoothed_per_million  reproduction_rate   total_tests  total_tests_per_thousand  new_tests_smoothed  new_tests_smoothed_per_thousand  positive_rate  tests_per_case  total_vaccinations  people_vaccinated  people_fully_vaccinated  total_boosters  new_vaccinations  new_vaccinations_smoothed  total_vaccinations_per_hundred  people_vaccinated_per_hundred  people_fully_vaccinated_per_hundred  total_boosters_per_hundred  new_vaccinations_smoothed_per_million  new_people_vaccinated_smoothed  new_people_vaccinated_smoothed_per_hundred  stringency_index  population_density  median_age  aged_65_older  aged_70_older  gdp_per_capita  extreme_poverty  cardiovasc_death_rate  diabetes_prevalence  female_smokers  \\\n",
      "546      AFG      Asia  Afghanistan 2021-08-23     152583.0       72.0              63.000        7076.0         6.0                7.286                 3709.885                  1.751                           1.532                   172.045                   0.146                            0.177               0.67  2.155638e+06                 41.902886       450061.800000                         6.675400       0.009200       29.520000        1.413568e+06      771212.909091            526948.593023   258119.419230       4985.978992                    30966.0                        3.435455                       1.872727                             1.283721                    2.360240                                  753.0                           490.0                                       0.001             22.22              54.422        18.6          2.581          1.337        1803.987        29.474659                597.029                 9.59             2.7   \n",
      "547      AFG      Asia  Afghanistan 2021-08-24     152660.0       77.0              59.571        7083.0         7.0                7.429                 3711.757                  1.872                           1.448                   172.215                   0.170                            0.181               0.68  5.429263e+07               5787.632045        68729.456796                         0.741940       0.105733      188.240000        1.484328e+06      771436.545455            559016.790698    53205.714286       4997.966387                    40914.0                        3.607273                       1.873636                             1.361628                    3.964143                                  995.0                           424.0                                       0.001             22.22              54.422        18.6          2.581          1.337        1803.987        29.474659                597.029                 9.59             2.7   \n",
      "548      AFG      Asia  Afghanistan 2021-08-25     152722.0       62.0              51.286        7090.0         7.0                6.714                 3713.264                  1.507                           1.247                   172.385                   0.170                            0.163               0.69  3.443726e+07               3245.736531        72508.281991                         2.494262       0.063505      113.440000        1.555089e+06      771660.181818            591084.988372    75954.528571       5009.953782                    50863.0                        3.779091                       1.874545                             1.439535                    5.658286                                 1237.0                           357.0                                       0.001             22.22              54.422        18.6          2.581          1.337        1803.987        29.474659                597.029                 9.59             2.7   \n",
      "549      AFG      Asia  Afghanistan 2021-08-26     152822.0      100.0              58.714        7093.0         3.0                6.571                 3715.696                  2.431                           1.428                   172.458                   0.073                            0.160               0.70  1.546876e+08               2611.202733        69387.010309                         3.010293       0.027750      258.853691        1.625849e+06      771883.818182            623153.186047   308880.716160       5021.941176                    60812.0                        3.950909                       1.875455                             1.517442                   15.132829                                 1479.0                           290.0                                       0.001             22.22              54.422        18.6          2.581          1.337        1803.987        29.474659                597.029                 9.59             2.7   \n",
      "550      AFG      Asia  Afghanistan 2021-08-27     152960.0      138.0              73.143        7101.0         8.0                6.714                 3719.051                  3.355                           1.778                   172.653                   0.195                            0.163               0.71  1.872100e+07               3343.816070         2433.199372                         0.611566       0.060640      235.852276        1.696610e+06      772107.454545            655221.383721   370268.773944       5033.928571                    70761.0                        4.122727                       1.876364                             1.595349                   23.503300                                 1720.0                           224.0                                       0.001             22.22              54.422        18.6          2.581          1.337        1803.987        29.474659                597.029                 9.59             2.7   \n",
      "\n",
      "     male_smokers  handwashing_facilities  hospital_beds_per_thousand  life_expectancy  human_development_index  population  \n",
      "546          37.0                  37.746                         0.5            64.83                    0.511  41128772.0  \n",
      "547          37.0                  37.746                         0.5            64.83                    0.511  41128772.0  \n",
      "548          37.0                  37.746                         0.5            64.83                    0.511  41128772.0  \n",
      "549          37.0                  37.746                         0.5            64.83                    0.511  41128772.0  \n",
      "550          37.0                  37.746                         0.5            64.83                    0.511  41128772.0  \n",
      "\n",
      "Test Data:\n",
      "    iso_code continent     location       date  total_cases  new_cases  new_cases_smoothed  total_deaths  new_deaths  new_deaths_smoothed  total_cases_per_million  new_cases_per_million  new_cases_smoothed_per_million  total_deaths_per_million  new_deaths_per_million  new_deaths_smoothed_per_million  reproduction_rate   total_tests  total_tests_per_thousand  new_tests_smoothed  new_tests_smoothed_per_thousand  positive_rate  tests_per_case  total_vaccinations  people_vaccinated  people_fully_vaccinated  total_boosters  new_vaccinations  new_vaccinations_smoothed  total_vaccinations_per_hundred  people_vaccinated_per_hundred  people_fully_vaccinated_per_hundred  total_boosters_per_hundred  new_vaccinations_smoothed_per_million  new_people_vaccinated_smoothed  new_people_vaccinated_smoothed_per_hundred  stringency_index  population_density  median_age  aged_65_older  aged_70_older  gdp_per_capita  extreme_poverty  cardiovasc_death_rate  diabetes_prevalence  female_smokers  \\\n",
      "666      AFG      Asia  Afghanistan 2021-12-21     157816.0       19.0              22.286        7335.0         0.0                0.857                 3837.119                  0.462                           0.542                   178.342                   0.000                            0.021               1.11  4.949885e+07               1504.749400       404549.200000                         2.788000       0.045480          175.46        4.582938e+06       4.057366e+06             3.674441e+06    1.061242e+06       6424.466387                    15263.0                       11.146744                       9.862093                             8.937442                    7.491056                                  371.0                         14248.0                                       0.035             19.44              54.422        18.6          2.581          1.337        1803.987        29.474659                597.029                 9.59             2.7   \n",
      "667      AFG      Asia  Afghanistan 2021-12-22     157841.0       25.0              25.143        7341.0         6.0                1.429                 3837.727                  0.608                           0.611                   178.488                   0.146                            0.035               1.12  7.979307e+06                911.365780       120230.600000                         3.581000       0.030140          217.54        4.598202e+06       4.071615e+06             3.687571e+06    6.836160e+05       6436.453782                    15263.0                       11.183953                       9.896744                             8.969535                    6.513689                                  371.0                         14248.0                                       0.035             19.44              54.422        18.6          2.581          1.337        1803.987        29.474659                597.029                 9.59             2.7   \n",
      "668      AFG      Asia  Afghanistan 2021-12-23     157878.0       37.0              21.857        7346.0         5.0                2.000                 3838.627                  0.900                           0.531                   178.610                   0.122                            0.049               1.14  7.051253e+06               1271.333168         9166.746789                         0.329459       0.099247          174.34        4.613465e+06       4.085863e+06             3.700702e+06    1.065166e+06       6448.441176                    15263.0                       11.221163                       9.931395                             9.001628                    7.524678                                  371.0                         14248.0                                       0.035             19.44              54.422        18.6          2.581          1.337        1803.987        29.474659                597.029                 9.59             2.7   \n",
      "669      AFG      Asia  Afghanistan 2021-12-24     157887.0        9.0              21.857        7348.0         2.0                2.286                 3838.845                  0.219                           0.531                   178.658                   0.049                            0.056               1.16  2.980307e+06                 68.463600        23544.800000                         0.649000       0.069500          174.36        4.628728e+06       4.100112e+06             3.713832e+06    1.065725e+06       6460.428571                    15263.0                       11.258372                       9.966047                             9.033721                    7.528127                                  371.0                         14248.0                                       0.035             19.44              54.422        18.6          2.581          1.337        1803.987        29.474659                597.029                 9.59             2.7   \n",
      "670      AFG      Asia  Afghanistan 2021-12-25     157895.0        8.0              21.429        7349.0         1.0                2.286                 3839.040                  0.195                           0.521                   178.683                   0.024                            0.056               1.18  7.326433e+09               5139.451616       257314.008413                         0.419388       0.146477          181.64        4.643991e+06       4.114360e+06             3.726963e+06    1.069090e+06       6472.415966                    15263.0                       11.295581                      10.000698                             9.065814                    7.558300                                  371.0                         14248.0                                       0.035             19.44              54.422        18.6          2.581          1.337        1803.987        29.474659                597.029                 9.59             2.7   \n",
      "\n",
      "     male_smokers  handwashing_facilities  hospital_beds_per_thousand  life_expectancy  human_development_index  population  \n",
      "666          37.0                  37.746                         0.5            64.83                    0.511  41128772.0  \n",
      "667          37.0                  37.746                         0.5            64.83                    0.511  41128772.0  \n",
      "668          37.0                  37.746                         0.5            64.83                    0.511  41128772.0  \n",
      "669          37.0                  37.746                         0.5            64.83                    0.511  41128772.0  \n",
      "670          37.0                  37.746                         0.5            64.83                    0.511  41128772.0  \n",
      "------------------------------------------------------------------------------------------------------------------------\n",
      "Split: 5 :\n",
      "Train Data:\n",
      "    iso_code continent     location       date  total_cases  new_cases  new_cases_smoothed  total_deaths  new_deaths  new_deaths_smoothed  total_cases_per_million  new_cases_per_million  new_cases_smoothed_per_million  total_deaths_per_million  new_deaths_per_million  new_deaths_smoothed_per_million  reproduction_rate   total_tests  total_tests_per_thousand  new_tests_smoothed  new_tests_smoothed_per_thousand  positive_rate  tests_per_case  total_vaccinations  people_vaccinated  people_fully_vaccinated  total_boosters  new_vaccinations  new_vaccinations_smoothed  total_vaccinations_per_hundred  people_vaccinated_per_hundred  people_fully_vaccinated_per_hundred  total_boosters_per_hundred  new_vaccinations_smoothed_per_million  new_people_vaccinated_smoothed  new_people_vaccinated_smoothed_per_hundred  stringency_index  population_density  median_age  aged_65_older  aged_70_older  gdp_per_capita  extreme_poverty  cardiovasc_death_rate  diabetes_prevalence  female_smokers  \\\n",
      "696      AFG      Asia  Afghanistan 2022-01-20     159303.0      233.0             100.143        7386.0         0.0                1.429                 3873.274                  5.665                           2.435                   179.582                   0.000                            0.035               1.56  1.845276e+08                1271.70284       147230.073619                         1.371805       0.064504           11.36           5012450.8          4457474.2                3839646.2   478689.478540       6784.088235                     8235.0                           12.19                         10.838                                9.336                    9.442013                                  200.0                          7368.0                                       0.018             19.44              54.422        18.6          2.581          1.337        1803.987        29.474659                597.029                 9.59             2.7   \n",
      "697      AFG      Asia  Afghanistan 2022-01-21     159516.0      213.0             125.286        7390.0         4.0                2.000                 3878.453                  5.179                           3.046                   179.680                   0.097                            0.049               1.56  1.845276e+08                1271.70284       147230.073619                         1.371805       0.064504           11.36           5020851.6          4464737.4                3842561.4   478689.478540       6796.075630                     8355.0                           12.21                         10.856                                9.342                    9.442013                                  203.0                          7440.0                                       0.018             19.44              54.422        18.6          2.581          1.337        1803.987        29.474659                597.029                 9.59             2.7   \n",
      "698      AFG      Asia  Afghanistan 2022-01-22     159548.0       32.0             124.286        7390.0         0.0                1.714                 3879.231                  0.778                           3.022                   179.680                   0.000                            0.042               1.55  1.038653e+07                 861.50656       172780.600000                         4.870000       0.176460           11.36           5029252.4          4472000.6                3845476.6   478689.478540       6808.063025                     8475.0                           12.23                         10.874                                9.348                    9.442013                                  206.0                          7513.0                                       0.018             19.44              54.422        18.6          2.581          1.337        1803.987        29.474659                597.029                 9.59             2.7   \n",
      "699      AFG      Asia  Afghanistan 2022-01-23     159649.0      101.0             133.143        7393.0         3.0                2.000                 3881.687                  2.456                           3.237                   179.753                   0.073                            0.049               1.55  1.038653e+07                 861.50656       172780.600000                         4.870000       0.176460           11.80           5037653.2          4479263.8                3848391.8   478813.804144       6820.050420                     8595.0                           12.25                         10.892                                9.354                    9.456991                                  209.0                          7585.0                                       0.018             19.44              54.422        18.6          2.581          1.337        1803.987        29.474659                597.029                 9.59             2.7   \n",
      "700      AFG      Asia  Afghanistan 2022-01-24     159896.0      247.0             152.857        7393.0         0.0                1.714                 3887.692                  6.006                           3.717                   179.753                   0.000                            0.042               1.55  1.038653e+07                 861.50656       172780.600000                         4.870000       0.176460           11.80           5046054.0          4486527.0                3851307.0   478813.804144       6832.037815                     8715.0                           12.27                         10.910                                9.360                    9.456991                                  212.0                          7657.0                                       0.019             19.44              54.422        18.6          2.581          1.337        1803.987        29.474659                597.029                 9.59             2.7   \n",
      "\n",
      "     male_smokers  handwashing_facilities  hospital_beds_per_thousand  life_expectancy  human_development_index  population  \n",
      "696          37.0                  37.746                         0.5            64.83                    0.511  41128772.0  \n",
      "697          37.0                  37.746                         0.5            64.83                    0.511  41128772.0  \n",
      "698          37.0                  37.746                         0.5            64.83                    0.511  41128772.0  \n",
      "699          37.0                  37.746                         0.5            64.83                    0.511  41128772.0  \n",
      "700          37.0                  37.746                         0.5            64.83                    0.511  41128772.0  \n",
      "\n",
      "Test Data:\n",
      "    iso_code continent     location       date  total_cases  new_cases  new_cases_smoothed  total_deaths  new_deaths  new_deaths_smoothed  total_cases_per_million  new_cases_per_million  new_cases_smoothed_per_million  total_deaths_per_million  new_deaths_per_million  new_deaths_smoothed_per_million  reproduction_rate    total_tests  total_tests_per_thousand  new_tests_smoothed  new_tests_smoothed_per_thousand  positive_rate  tests_per_case  total_vaccinations  people_vaccinated  people_fully_vaccinated  total_boosters  new_vaccinations  new_vaccinations_smoothed  total_vaccinations_per_hundred  people_vaccinated_per_hundred  people_fully_vaccinated_per_hundred  total_boosters_per_hundred  new_vaccinations_smoothed_per_million  new_people_vaccinated_smoothed  new_people_vaccinated_smoothed_per_hundred  stringency_index  population_density  median_age  aged_65_older  aged_70_older  gdp_per_capita  extreme_poverty  cardiovasc_death_rate  diabetes_prevalence  female_smokers  \\\n",
      "816      AFG      Asia  Afghanistan 2022-05-20     179624.0       27.0              60.143        7695.0         0.0                1.286                 4367.356                  0.656                           1.462                   187.095                   0.000                            0.031               1.26  977581.589041                 24.378699              1066.0                            0.027         0.0564            17.7        6.099065e+06       5.389638e+06               4740437.25   485403.061174       1893.666667                     6746.0                       14.831250                      13.105000                            11.525000                   10.250814                                  164.0                          6166.0                                       0.015             11.11              54.422        18.6          2.581          1.337        1803.987        29.474659                597.029                 9.59             2.7   \n",
      "817      AFG      Asia  Afghanistan 2022-05-21     179674.0       50.0              61.714        7697.0         2.0                1.429                 4368.572                  1.216                           1.501                   187.144                   0.049                            0.035               1.26  978647.191781                 24.405274              1066.0                            0.027         0.0579            17.3        6.105562e+06       5.395579e+06               4746433.50   485527.386778       1959.347826                     6622.0                       14.847500                      13.120000                            11.540000                   10.265792                                  161.0                          6054.0                                       0.015             11.11              54.422        18.6          2.581          1.337        1803.987        29.474659                597.029                 9.59             2.7   \n",
      "818      AFG      Asia  Afghanistan 2022-05-22     179716.0       42.0              64.143        7698.0         1.0                1.143                 4369.593                  1.021                           1.560                   187.168                   0.024                            0.028               1.25  979712.794521                 24.431849              1066.0                            0.027         0.0602            16.6        6.112060e+06       5.401520e+06               4752429.75   485527.386778       2025.028986                     6497.0                       14.863750                      13.135000                            11.555000                   10.265792                                  158.0                          5942.0                                       0.014             11.11              54.422        18.6          2.581          1.337        1803.987        29.474659                597.029                 9.59             2.7   \n",
      "819      AFG      Asia  Afghanistan 2022-05-23     179716.0        0.0              56.429        7698.0         0.0                1.000                 4369.593                  0.000                           1.372                   187.168                   0.000                            0.024               1.24  980778.397260                 24.458425              1066.0                            0.027         0.0529            18.9        6.118557e+06       5.407462e+06               4758426.00   485527.386778       2090.710145                     6497.0                       14.880000                      13.150000                            11.570000                   10.265792                                  158.0                          5942.0                                       0.014             11.11              54.422        18.6          2.581          1.337        1803.987        29.474659                597.029                 9.59             2.7   \n",
      "820      AFG      Asia  Afghanistan 2022-05-24     179771.0       55.0              63.286        7698.0         0.0                1.000                 4370.930                  1.337                           1.539                   187.168                   0.000                            0.024               1.24  981844.000000                 24.485000              1066.0                            0.027         0.0594            16.8        6.124456e+06       5.412957e+06               4763925.00   485651.712383       2156.391304                     6412.0                       14.894444                      13.163333                            11.583333                   10.280770                                  156.0                          5878.0                                       0.014             11.11              54.422        18.6          2.581          1.337        1803.987        29.474659                597.029                 9.59             2.7   \n",
      "\n",
      "     male_smokers  handwashing_facilities  hospital_beds_per_thousand  life_expectancy  human_development_index  population  \n",
      "816          37.0                  37.746                         0.5            64.83                    0.511  41128772.0  \n",
      "817          37.0                  37.746                         0.5            64.83                    0.511  41128772.0  \n",
      "818          37.0                  37.746                         0.5            64.83                    0.511  41128772.0  \n",
      "819          37.0                  37.746                         0.5            64.83                    0.511  41128772.0  \n",
      "820          37.0                  37.746                         0.5            64.83                    0.511  41128772.0  \n",
      "------------------------------------------------------------------------------------------------------------------------\n",
      "Split: 6 :\n",
      "Train Data:\n",
      "    iso_code continent     location       date  total_cases  new_cases  new_cases_smoothed  total_deaths  new_deaths  new_deaths_smoothed  total_cases_per_million  new_cases_per_million  new_cases_smoothed_per_million  total_deaths_per_million  new_deaths_per_million  new_deaths_smoothed_per_million  reproduction_rate  total_tests  total_tests_per_thousand  new_tests_smoothed  new_tests_smoothed_per_thousand  positive_rate  tests_per_case  total_vaccinations  people_vaccinated  people_fully_vaccinated  total_boosters  new_vaccinations  new_vaccinations_smoothed  total_vaccinations_per_hundred  people_vaccinated_per_hundred  people_fully_vaccinated_per_hundred  total_boosters_per_hundred  new_vaccinations_smoothed_per_million  new_people_vaccinated_smoothed  new_people_vaccinated_smoothed_per_hundred  stringency_index  population_density  median_age  aged_65_older  aged_70_older  gdp_per_capita  extreme_poverty  cardiovasc_death_rate  diabetes_prevalence  female_smokers  male_smokers  \\\n",
      "846      AFG      Asia  Afghanistan 2022-06-19     181666.0       92.0             114.571        7713.0         0.0                0.571                 4417.005                  2.237                           2.786                   187.533                   0.000                            0.014               1.17     993154.0                 24.767533               435.0                            0.011         0.2634             3.8        6.335695e+06       5.610740e+06             4.960982e+06   487019.294031       3864.101449                     9565.0                       15.403333                      13.643333                            12.063333                   10.445525                                  233.0                          8925.0                                       0.022             11.11              54.422        18.6          2.581          1.337        1803.987        29.474659                597.029                 9.59             2.7          37.0   \n",
      "847      AFG      Asia  Afghanistan 2022-06-20     181725.0       59.0              86.429        7714.0         1.0                0.571                 4418.440                  1.435                           2.101                   187.557                   0.024                            0.014               1.15     993589.0                 24.778400               435.0                            0.011         0.1987             5.0        6.345813e+06       5.620131e+06             4.970456e+06   487019.294031       3929.782609                     9749.0                       15.426667                      13.666667                            12.086667                   10.445525                                  237.0                          9081.0                                       0.022             11.11              54.422        18.6          2.581          1.337        1803.987        29.474659                597.029                 9.59             2.7          37.0   \n",
      "848      AFG      Asia  Afghanistan 2022-06-21     181808.0       83.0              90.000        7715.0         1.0                0.714                 4420.458                  2.018                           2.188                   187.582                   0.024                            0.017               1.14     994024.0                 24.789267               435.0                            0.011         0.2069             4.8        6.355931e+06       5.629522e+06             4.979930e+06   487143.619635       3995.463768                     9934.0                       15.450000                      13.690000                            12.110000                   10.460503                                  242.0                          9236.0                                       0.022             11.11              54.422        18.6          2.581          1.337        1803.987        29.474659                597.029                 9.59             2.7          37.0   \n",
      "849      AFG      Asia  Afghanistan 2022-06-22     181912.0      104.0              96.571        7715.0         0.0                0.714                 4422.986                  2.529                           2.348                   187.582                   0.000                            0.017               1.14     994459.0                 24.800133               435.0                            0.011         0.2220             4.5        6.364688e+06       5.638829e+06             4.989319e+06   487267.945239       4061.144928                     9924.0                       15.471667                      13.712222                            12.132222                   10.475481                                  241.0                          9379.0                                       0.023             11.11              54.422        18.6          2.581          1.337        1803.987        29.474659                597.029                 9.59             2.7          37.0   \n",
      "850      AFG      Asia  Afghanistan 2022-06-23     181987.0       75.0              74.571        7715.0         0.0                0.286                 4424.810                  1.824                           1.813                   187.582                   0.000                            0.007               1.13     994894.0                 24.811000               435.0                            0.011         0.1714             5.8        6.373446e+06       5.648136e+06             4.998708e+06   487267.945239       4126.826087                     9729.0                       15.493333                      13.734444                            12.154444                   10.475481                                  237.0                          9367.0                                       0.023             11.11              54.422        18.6          2.581          1.337        1803.987        29.474659                597.029                 9.59             2.7          37.0   \n",
      "\n",
      "     handwashing_facilities  hospital_beds_per_thousand  life_expectancy  human_development_index  population  \n",
      "846                  37.746                         0.5            64.83                    0.511  41128772.0  \n",
      "847                  37.746                         0.5            64.83                    0.511  41128772.0  \n",
      "848                  37.746                         0.5            64.83                    0.511  41128772.0  \n",
      "849                  37.746                         0.5            64.83                    0.511  41128772.0  \n",
      "850                  37.746                         0.5            64.83                    0.511  41128772.0  \n",
      "\n",
      "Test Data:\n",
      "    iso_code continent     location       date  total_cases  new_cases  new_cases_smoothed  total_deaths  new_deaths  new_deaths_smoothed  total_cases_per_million  new_cases_per_million  new_cases_smoothed_per_million  total_deaths_per_million  new_deaths_per_million  new_deaths_smoothed_per_million  reproduction_rate  total_tests  total_tests_per_thousand  new_tests_smoothed  new_tests_smoothed_per_thousand  positive_rate  tests_per_case  total_vaccinations  people_vaccinated  people_fully_vaccinated  total_boosters  new_vaccinations  new_vaccinations_smoothed  total_vaccinations_per_hundred  people_vaccinated_per_hundred  people_fully_vaccinated_per_hundred  total_boosters_per_hundred  new_vaccinations_smoothed_per_million  new_people_vaccinated_smoothed  new_people_vaccinated_smoothed_per_hundred  stringency_index  population_density  median_age  aged_65_older  aged_70_older  gdp_per_capita  extreme_poverty  cardiovasc_death_rate  diabetes_prevalence  female_smokers  male_smokers  \\\n",
      "966      AFG      Asia  Afghanistan 2022-10-17     201276.0       64.0             115.286        7811.0         0.0                0.571                 4893.800                  1.556                           2.803                   189.916                   0.000                            0.014               0.94   533266.896                 13.300088          240.463035                         0.006486       0.133916        8.397015        1.198747e+07       1.102138e+07              10335402.75   274523.118971      28072.490196                     5649.0                        29.14375                       26.80125                              25.1275                    0.676141                                  137.0                          5403.0                                       0.013              5.56              54.422        18.6          2.581          1.337        1803.987        29.474659                597.029                 9.59             2.7          37.0   \n",
      "967      AFG      Asia  Afghanistan 2022-10-18     201503.0      227.0             125.286        7812.0         1.0                0.714                 4899.320                  5.519                           3.046                   189.940                   0.024                            0.017               0.95   529287.352                 13.200856          238.785992                         0.006447       0.133593        8.419403        1.199717e+07       1.103041e+07              10342748.50   274993.229904      28604.647059                     6458.0                        29.16750                       26.82250                              25.1450                    0.677138                                  157.0                          6172.0                                       0.015              5.56              54.422        18.6          2.581          1.337        1803.987        29.474659                597.029                 9.59             2.7          37.0   \n",
      "968      AFG      Asia  Afghanistan 2022-10-19     201557.0       54.0             118.286        7812.0         0.0                0.714                 4900.633                  1.313                           2.876                   189.940                   0.000                            0.017               0.95   525307.808                 13.101624          237.108949                         0.006409       0.133270        8.441791        1.200687e+07       1.103945e+07              10350094.25   274993.229904      29136.803922                     7106.0                        29.19125                       26.84375                              25.1625                    0.677138                                  173.0                          6744.0                                       0.016              5.56              54.422        18.6          2.581          1.337        1803.987        29.474659                597.029                 9.59             2.7          37.0   \n",
      "969      AFG      Asia  Afghanistan 2022-10-20     201750.0      193.0             129.143        7814.0         2.0                0.714                 4905.325                  4.693                           3.140                   189.989                   0.049                            0.017               0.95   521328.264                 13.002392          235.431907                         0.006370       0.132947        8.464179        1.201657e+07       1.104848e+07              10357440.00   274993.229904      29668.960784                     7754.0                        29.21500                       26.86500                              25.1800                    0.677138                                  189.0                          7317.0                                       0.018              5.56              54.422        18.6          2.581          1.337        1803.987        29.474659                597.029                 9.59             2.7          37.0   \n",
      "970      AFG      Asia  Afghanistan 2022-10-21     201949.0      199.0             133.571        7818.0         4.0                1.286                 4910.164                  4.838                           3.248                   190.086                   0.097                            0.031               0.95   517348.720                 12.903160          233.754864                         0.006331       0.132624        8.486567        1.202626e+07       1.105752e+07              10364785.75   274993.229904      30201.117647                     8402.0                        29.23875                       26.88625                              25.1975                    0.677138                                  204.0                          7889.0                                       0.019              5.56              54.422        18.6          2.581          1.337        1803.987        29.474659                597.029                 9.59             2.7          37.0   \n",
      "\n",
      "     handwashing_facilities  hospital_beds_per_thousand  life_expectancy  human_development_index  population  \n",
      "966                  37.746                         0.5            64.83                    0.511  41128772.0  \n",
      "967                  37.746                         0.5            64.83                    0.511  41128772.0  \n",
      "968                  37.746                         0.5            64.83                    0.511  41128772.0  \n",
      "969                  37.746                         0.5            64.83                    0.511  41128772.0  \n",
      "970                  37.746                         0.5            64.83                    0.511  41128772.0  \n",
      "------------------------------------------------------------------------------------------------------------------------\n"
     ]
    }
   ],
   "source": [
    "train_data_list = []\n",
    "test_data_list = []\n",
    "\n",
    "# Iterate over each split\n",
    "for i, (train_dates, test_dates) in enumerate(splits):\n",
    "    # Filter the original DataFrame based on the train and test dates\n",
    "    train_data = data_clean[data_clean['date'].isin(train_dates)]\n",
    "    test_data = data_clean[data_clean['date'].isin(test_dates)]\n",
    "    \n",
    "    # Append train and test dataframes to respective lists\n",
    "    train_data_list.append(train_data)\n",
    "    test_data_list.append(test_data)\n",
    "\n",
    "\n",
    "for i in range(len(train_data_list)):\n",
    "    print(\"Split:\", i+1, \":\")\n",
    "    print(\"Train Data:\")\n",
    "    print(train_data_list[i].head())  \n",
    "    print(\"\\nTest Data:\")\n",
    "    print(test_data_list[i].head()) \n",
    "    print(\"------------------------------------------------------------------------------------------------------------------------\")\n"
   ]
  },
  {
   "cell_type": "markdown",
   "metadata": {},
   "source": [
    "This now gives us two lists with data frames in them. train_data_list has the seven data frames with the training data and test_data_list contain the six data frames where we can use our models. "
   ]
  },
  {
   "cell_type": "markdown",
   "metadata": {},
   "source": [
    "### 4. Scaling"
   ]
  },
  {
   "cell_type": "markdown",
   "metadata": {},
   "source": [
    "#### 3.1 Finding numerical features"
   ]
  },
  {
   "cell_type": "markdown",
   "metadata": {},
   "source": [
    "Removing the first 4 columns. Checking for non numeric features in the rest of the columns and deleting those to perform Normalization and Standardization:"
   ]
  },
  {
   "cell_type": "code",
   "execution_count": 258,
   "metadata": {},
   "outputs": [],
   "source": [
    "from sklearn.preprocessing import MinMaxScaler, StandardScaler\n",
    "#figuring out the numerical features which have to be scaled... Removing the first 4 columns\n",
    "numerical_features = data_clean.columns[4:len(data_clean.columns)]\n",
    "\n",
    "#check for non numeric columns:\n",
    "non_numeric_columns = []\n",
    "for col in numerical_features:\n",
    "    if data_clean[col].dtype not in ['int64', 'float64']:\n",
    "        non_numeric_columns.append(col)\n",
    "\n",
    "# Had to remove the non numeric columns for the Scalers to work... Only column \"tests_units\"... Maybe we can do something else than delete\n",
    "numerical_features = [col for col in numerical_features if col not in non_numeric_columns]"
   ]
  },
  {
   "cell_type": "markdown",
   "metadata": {},
   "source": [
    "#### 3.2 Normalization"
   ]
  },
  {
   "cell_type": "markdown",
   "metadata": {},
   "source": [
    "Scaling each split:"
   ]
  },
  {
   "cell_type": "code",
   "execution_count": 259,
   "metadata": {},
   "outputs": [
    {
     "name": "stdout",
     "output_type": "stream",
     "text": [
      "scaled train array for Split 1:\n",
      "(array([[ 0.17124453,  1.70560748,  1.33429485, ..., -0.84279476,\n",
      "        -0.94594595,  0.9663081 ],\n",
      "       [ 0.18522236,  1.39485981,  1.31346588, ..., -0.84279476,\n",
      "        -0.94594595,  0.9663081 ],\n",
      "       [ 0.19930755,  1.40654206,  1.35960993, ..., -0.84279476,\n",
      "        -0.94594595,  0.9663081 ],\n",
      "       ...,\n",
      "       [ 0.02573338, -0.06308411, -0.09420816, ..., -1.13449782,\n",
      "        -0.71428571,  0.17292996],\n",
      "       [ 0.02648488, -0.04439252, -0.08747901, ..., -1.13449782,\n",
      "        -0.71428571,  0.17292996],\n",
      "       [ 0.02682842, -0.08878505, -0.09036357, ..., -1.13449782,\n",
      "        -0.71428571,  0.17292996]]), 96         2.0\n",
      "97         2.0\n",
      "98        15.0\n",
      "99         5.0\n",
      "100       24.0\n",
      "          ... \n",
      "259678     1.0\n",
      "259679     1.0\n",
      "259680     0.0\n",
      "259681     0.0\n",
      "259682     0.0\n",
      "Name: new_deaths, Length: 18840, dtype: float64)\n",
      "scaled test array for Split 1:\n",
      "[[ 0.70338979 -0.04439252 -0.07369994 ... -0.84279476 -0.94594595\n",
      "   0.9663081 ]\n",
      " [ 0.70364744 -0.09813084 -0.07946907 ... -0.84279476 -0.94594595\n",
      "   0.9663081 ]\n",
      " [ 0.70396951 -0.0911215  -0.08171212 ... -0.84279476 -0.94594595\n",
      "   0.9663081 ]\n",
      " ...\n",
      " [ 0.03683405 -0.09813084 -0.08139136 ... -1.13449782 -0.71428571\n",
      "   0.17292996]\n",
      " [ 0.03698435 -0.10981308 -0.09100284 ... -1.13449782 -0.71428571\n",
      "   0.17292996]\n",
      " [ 0.03756408 -0.06308411 -0.08619822 ... -1.13449782 -0.71428571\n",
      "   0.17292996]]\n",
      "----------------------------------------\n",
      "scaled train array for Split 2:\n",
      "(array([[-0.02387583, -0.08526885, -0.12957151, ..., -0.84279476,\n",
      "        -0.94594595,  0.96536913],\n",
      "       [-0.02347481, -0.09099586, -0.12127989, ..., -0.84279476,\n",
      "        -0.94594595,  0.96536913],\n",
      "       [-0.0229978 , -0.07954184, -0.1156937 , ..., -0.84279476,\n",
      "        -0.94594595,  0.96536913],\n",
      "       ...,\n",
      "       [-0.04557768, -0.13363029, -0.11665355, ..., -1.13449782,\n",
      "        -0.71428571,  0.17276192],\n",
      "       [-0.04529908, -0.10944957, -0.11525685, ..., -1.13449782,\n",
      "        -0.71428571,  0.17276192],\n",
      "       [-0.04509645, -0.1209036 , -0.11918484, ..., -1.13449782,\n",
      "        -0.71428571,  0.17276192]]), 246        4.0\n",
      "247        5.0\n",
      "248        6.0\n",
      "249        3.0\n",
      "250        1.0\n",
      "          ... \n",
      "259828    10.0\n",
      "259829     2.0\n",
      "259830     4.0\n",
      "259831     5.0\n",
      "259832     7.0\n",
      "Name: new_deaths, Length: 18946, dtype: float64)\n",
      "scaled test array for Split 2:\n",
      "[[ 0.03829167 -0.13999364 -0.16029526 ... -0.84279476 -0.94594595\n",
      "   0.96536913]\n",
      " [ 0.03835921 -0.14126631 -0.16038263 ... -0.84279476 -0.94594595\n",
      "   0.96536913]\n",
      " [ 0.03842675 -0.14126631 -0.16055676 ... -0.84279476 -0.94594595\n",
      "   0.96536913]\n",
      " ...\n",
      " [-0.04168984 -0.13044862 -0.15523268 ... -1.13449782 -0.71428571\n",
      "   0.17276192]\n",
      " [-0.04155476 -0.13108495 -0.15392335 ... -1.13449782 -0.71428571\n",
      "   0.17276192]\n",
      " [-0.04143234 -0.13299395 -0.15654201 ... -1.13449782 -0.71428571\n",
      "   0.17276192]]\n",
      "----------------------------------------\n",
      "scaled train array for Split 3:\n",
      "(array([[-0.13647879, -0.11132108, -0.14693848, ..., -0.84235808,\n",
      "        -0.94594595,  0.97118108],\n",
      "       [-0.13641064, -0.10582374, -0.14579777, ..., -0.84235808,\n",
      "        -0.94594595,  0.97118108],\n",
      "       [-0.13640307, -0.12781309, -0.14636813, ..., -0.84235808,\n",
      "        -0.94594595,  0.97118108],\n",
      "       ...,\n",
      "       [-0.07047785,  1.72822539,  1.23678448, ..., -1.13406114,\n",
      "        -0.71428571,  0.17857388],\n",
      "       [-0.06612209,  1.45060986,  1.21872078, ..., -1.13406114,\n",
      "        -0.71428571,  0.17857388],\n",
      "       [-0.06183447,  1.42587184,  1.21577316, ..., -1.13406114,\n",
      "        -0.71428571,  0.17857388]]), 396        0.0\n",
      "397        2.0\n",
      "398        1.0\n",
      "399        2.0\n",
      "400        4.0\n",
      "          ... \n",
      "259978    75.0\n",
      "259979    50.0\n",
      "259980    62.0\n",
      "259981    61.0\n",
      "259982    91.0\n",
      "Name: new_deaths, Length: 18960, dtype: float64)\n",
      "scaled test array for Split 3:\n",
      "[[ 0.02899112  0.02542518  0.16272076 ... -0.84235808 -0.94594595\n",
      "   0.97118108]\n",
      " [ 0.02937918  0.01030751  0.14627295 ... -0.84235808 -0.94594595\n",
      "   0.97118108]\n",
      " [ 0.03016288  0.15392544  0.10035166 ... -0.84235808 -0.94594595\n",
      "   0.97118108]\n",
      " ...\n",
      " [-0.01220788 -0.13056176  0.06308221 ... -1.13406114 -0.71428571\n",
      "   0.17857388]\n",
      " [-0.01110048  0.27143103  0.08590043 ... -1.13406114 -0.71428571\n",
      "   0.17857388]\n",
      " [-0.01078814 -0.01717918  0.07924517 ... -1.13406114 -0.71428571\n",
      "   0.17857388]]\n",
      "----------------------------------------\n",
      "scaled train array for Split 4:\n",
      "(array([[-0.07179296, -0.0882935 , -0.1244768 , ..., -0.8419214 ,\n",
      "        -0.94594595,  0.97561958],\n",
      "       [-0.07170373, -0.0852489 , -0.126447  , ..., -0.8419214 ,\n",
      "        -0.94594595,  0.97561958],\n",
      "       [-0.07163189, -0.09438271, -0.13120732, ..., -0.8419214 ,\n",
      "        -0.94594595,  0.97561958],\n",
      "       ...,\n",
      "       [-0.02893758, -0.13213579,  1.85565942, ..., -1.13362445,\n",
      "        -0.71428571,  0.18412663],\n",
      "       [-0.02649724,  1.15025118,  1.85303248, ..., -1.13362445,\n",
      "        -0.71428571,  0.18412663],\n",
      "       [-0.02255052,  1.94184807,  2.13260267, ..., -1.13362445,\n",
      "        -0.71428571,  0.18412663]]), 546        6.0\n",
      "547        7.0\n",
      "548        7.0\n",
      "549        3.0\n",
      "550        8.0\n",
      "          ... \n",
      "260128    14.0\n",
      "260129    20.0\n",
      "260130     0.0\n",
      "260131     3.0\n",
      "260132    23.0\n",
      "Name: new_deaths, Length: 19080, dtype: float64)\n",
      "scaled test array for Split 4:\n",
      "[[-0.0657292  -0.1205663  -0.14786989 ... -0.8419214  -0.94594595\n",
      "   0.97561958]\n",
      " [-0.06570023 -0.11691277 -0.14622834 ... -0.8419214  -0.94594595\n",
      "   0.97561958]\n",
      " [-0.06565735 -0.10960572 -0.14811638 ... -0.8419214  -0.94594595\n",
      "   0.97561958]\n",
      " ...\n",
      " [ 0.01381235  0.10047191  0.12332766 ... -1.13362445 -0.71428571\n",
      "   0.18412663]\n",
      " [ 0.01381235 -0.13213579  0.12332766 ... -1.13362445 -0.71428571\n",
      "   0.18412663]\n",
      " [ 0.01430714  0.12787334  0.04075318 ... -1.13362445 -0.71428571\n",
      "   0.18412663]]\n",
      "----------------------------------------\n",
      "scaled train array for Split 5:\n",
      "(array([[-0.13891443,  0.05170341, -0.04575226, ..., -0.8419214 ,\n",
      "        -0.94594595,  0.97561958],\n",
      "       [-0.13880214,  0.04368737, -0.03829285, ..., -0.8419214 ,\n",
      "        -0.94594595,  0.97561958],\n",
      "       [-0.13878527, -0.02885772, -0.03858953, ..., -0.8419214 ,\n",
      "        -0.94594595,  0.97561958],\n",
      "       ...,\n",
      "       [-0.09123395,  0.08537074, -0.02858728, ..., -1.13362445,\n",
      "        -0.71428571,  0.18412663],\n",
      "       [-0.09109741,  0.06212425, -0.01761014, ..., -1.13362445,\n",
      "        -0.71428571,  0.18412663],\n",
      "       [-0.0909925 ,  0.03807615, -0.02193306, ..., -1.13362445,\n",
      "        -0.71428571,  0.18412663]]), 696       0.0\n",
      "697       4.0\n",
      "698       0.0\n",
      "699       3.0\n",
      "700       0.0\n",
      "         ... \n",
      "260278    0.0\n",
      "260279    2.0\n",
      "260280    0.0\n",
      "260281    2.0\n",
      "260282    1.0\n",
      "Name: new_deaths, Length: 19080, dtype: float64)\n",
      "scaled test array for Split 5:\n",
      "[[-0.12820167 -0.03086172 -0.05761943 ... -0.8419214  -0.94594595\n",
      "   0.97561958]\n",
      " [-0.12817532 -0.02164329 -0.05715335 ... -0.8419214  -0.94594595\n",
      "   0.97561958]\n",
      " [-0.12815317 -0.0248497  -0.05643271 ... -0.8419214  -0.94594595\n",
      "   0.97561958]\n",
      " ...\n",
      " [-0.08872775  0.00440882 -0.04481979 ... -1.13362445 -0.71428571\n",
      "   0.18412663]\n",
      " [-0.08859543  0.05891784 -0.04486222 ... -1.13362445 -0.71428571\n",
      "   0.18412663]\n",
      " [-0.08859543 -0.04168337 -0.04486222 ... -1.13362445 -0.71428571\n",
      "   0.18412663]]\n",
      "----------------------------------------\n",
      "scaled train array for Split 6:\n",
      "(array([[-0.15832314,  0.15425532,  0.00402141, ..., -0.8419214 ,\n",
      "        -0.94594595,  0.97561958],\n",
      "       [-0.15829921,  0.09574468, -0.01739214, ..., -0.8419214 ,\n",
      "        -0.94594595,  0.97561958],\n",
      "       [-0.15826554,  0.13829787, -0.01467493, ..., -0.8419214 ,\n",
      "        -0.94594595,  0.97561958],\n",
      "       ...,\n",
      "       [-0.12743104, -0.00886525, -0.06446057, ..., -1.13362445,\n",
      "        -0.71428571,  0.18412663],\n",
      "       [-0.12743104, -0.00886525, -0.06446057, ..., -1.13362445,\n",
      "        -0.71428571,  0.18412663],\n",
      "       [-0.12740427,  0.10815603, -0.05728594, ..., -1.13362445,\n",
      "        -0.71428571,  0.18412663]]), 846       0.0\n",
      "847       1.0\n",
      "848       1.0\n",
      "849       0.0\n",
      "850       0.0\n",
      "         ... \n",
      "260428    0.0\n",
      "260429    1.0\n",
      "260430    0.0\n",
      "260431    0.0\n",
      "260432    1.0\n",
      "Name: new_deaths, Length: 19080, dtype: float64)\n",
      "scaled test array for Split 6:\n",
      "[[-0.15036901  0.10460993  0.00456547 ... -0.8419214  -0.94594595\n",
      "   0.97561958]\n",
      " [-0.15027694  0.39361702  0.01217458 ... -0.8419214  -0.94594595\n",
      "   0.97561958]\n",
      " [-0.15025504  0.08687943  0.0068482  ... -0.8419214  -0.94594595\n",
      "   0.97561958]\n",
      " ...\n",
      " [-0.12740427 -0.00886525 -0.08315691 ... -1.13362445 -0.71428571\n",
      "   0.18412663]\n",
      " [-0.12740427 -0.00886525 -0.08315691 ... -1.13362445 -0.71428571\n",
      "   0.18412663]\n",
      " [-0.12740427 -0.00886525 -0.08315691 ... -1.13362445 -0.71428571\n",
      "   0.18412663]]\n",
      "----------------------------------------\n"
     ]
    }
   ],
   "source": [
    "death_columns = [col for col in data_clean.columns if 'deaths' in col]\n",
    "feature_names = data_clean.drop(columns=['iso_code', 'continent', 'location', 'date'] + death_columns).select_dtypes(include=[np.number]).columns\n",
    "\n",
    "scaled_train_sets = []\n",
    "scaled_test_sets = []\n",
    "true_y_values = []   # This list will contain the actual results! Needed for evaluation etc.\n",
    "\n",
    "for i, (train_dates, test_dates) in enumerate(splits):\n",
    "    # Filter the original DataFrame based on the train and test dates\n",
    "    train_data = data_clean[data_clean['date'].isin(train_dates)]\n",
    "    test_data = data_clean[data_clean['date'].isin(test_dates)]\n",
    "\n",
    "    # Extract features and target for train data\n",
    "    X_train = train_data.drop(columns = ['iso_code', 'continent', 'location', 'date'] + death_columns) \n",
    "    # had to also remove so that the model can easily just look at the other death variables to make good predictions\n",
    "    y_train = train_data['new_deaths']\n",
    "    y_test = test_data['new_deaths']\n",
    "    # Extract features for test data, but without label columns\n",
    "    X_test = test_data.drop(columns = ['iso_code', 'continent', 'location', 'date'] + death_columns)\n",
    "    \n",
    "    # Initialize and fit the scaler on the training data\n",
    "    scaler = RobustScaler()\n",
    "    X_train_scaled = scaler.fit_transform(X_train)\n",
    "    X_test_scaled = scaler.transform(X_test)\n",
    "    \n",
    "    # Append the scaled arrays to respective lists\n",
    "    scaled_train_sets.append((X_train_scaled, y_train))\n",
    "    scaled_test_sets.append(X_test_scaled)\n",
    "    true_y_values.append(y_test)\n",
    "    \n",
    "    print(f\"scaled train array for Split {i+1}:\")\n",
    "    print(scaled_train_sets[i])\n",
    "    print(f\"scaled test array for Split {i+1}:\")\n",
    "    print(scaled_test_sets[i])\n",
    "    print(\"----------------------------------------\")\n",
    "\n"
   ]
  },
  {
   "cell_type": "markdown",
   "metadata": {},
   "source": [
    "We now have 6 scaled splits saved in the lists scaled_train_sets and scaled_test_sets. The list true_y_values contains the label values we will try to predict. Those values will be needed to evaluate performance."
   ]
  },
  {
   "cell_type": "code",
   "execution_count": null,
   "metadata": {},
   "outputs": [],
   "source": [
    "\"\"\"\n",
    "#normalizing the cleaned data with MinMaxScaler (assuming there are no/few outliers)\n",
    "#scaler_minmax = MinMaxScaler()\n",
    "#data_clean_normalized_minmax = data_clean.copy()\n",
    "#data_clean_normalized_minmax[numerical_features] = scaler_minmax.fit_transform(data_clean[numerical_features])\n",
    "#print(data_clean_normalized_minmax)\n",
    "data_clean_numerical = data_clean[numerical_features]\n",
    "#normalizing the cleaned data with RobustScaler (assuming there are outliers)\n",
    "scaler_robust = RobustScaler()\n",
    "data_clean_normalized_robust = data_clean.copy()\n",
    "data_clean_normalized_robust[numerical_features] = scaler_robust.fit_transform(data_clean_numerical)\n",
    "\"\"\""
   ]
  },
  {
   "cell_type": "markdown",
   "metadata": {},
   "source": [
    "#### 3.3 Standardization"
   ]
  },
  {
   "cell_type": "code",
   "execution_count": null,
   "metadata": {},
   "outputs": [],
   "source": [
    "scaler_standard = StandardScaler()\n",
    "data_clean_standardized = data_clean.copy()\n",
    "data_clean_standardized[numerical_features] = scaler_standard.fit_transform(data_clean[numerical_features])\n",
    "#print(data_clean_standardized)"
   ]
  },
  {
   "cell_type": "markdown",
   "metadata": {},
   "source": [
    "## 7 Machine Learning Models "
   ]
  },
  {
   "cell_type": "markdown",
   "metadata": {},
   "source": [
    "### Structure\n",
    "1. Model Selection\n",
    "2. Actual Models\n",
    "3. Model Evaluation"
   ]
  },
  {
   "cell_type": "markdown",
   "metadata": {},
   "source": [
    "### 1 Model Selection"
   ]
  },
  {
   "cell_type": "markdown",
   "metadata": {},
   "source": [
    "\n",
    "Total Deaths and Total Cases are both numerical values, therefore mainly regression is suitable, regression models that could be implemented are:\n",
    "\n",
    "1) **traditional linear regression (lasso/ridge)**\n",
    "\n",
    "- *Simplicity and Interpretability*: These models are straightforward to implement and interpret, making it easy to understand the relationship between predictors and the target variables.\n",
    "\n",
    "- *Handling Multicollinearity*: Lasso and Ridge can manage multicollinearity among features, improving the model's stability and performance.\n",
    "    \n",
    "- *Feature Selection*: Lasso performs automatic feature selection by shrinking some coefficients to zero, helping identify the most significant predictors.\n",
    "\n",
    "2) **random forest regression**\n",
    "\n",
    "- *Non-Linear Relationships:* This model captures complex non-linear interactions between features, which is crucial for accurately modeling real-world phenomena like the spread of a virus.\n",
    "\n",
    "- *Robustness and Generalization:* By averaging the predictions of multiple decision trees, Random Forests reduce overfitting and provide robust predictions.\n",
    "\n",
    "- *Feature Importance:* It offers insights into feature importance, helping to understand which factors most influence total cases and deaths.\n",
    "\n",
    "3) **support vector regression**\n",
    "\n",
    "- *Handling Non-Linearities:* SVR can model complex relationships using various kernels, making it suitable for datasets with non-linear patterns.\n",
    "\n",
    "- *Margin Maximization:* It focuses on minimizing prediction error within a margin, providing a balance between accuracy and generalization.\n",
    "\n",
    "- *Effective in High-Dimensional Spaces:* SVR performs well with high-dimensional data, which can be beneficial when dealing with multiple predictors for total deaths and total cases."
   ]
  },
  {
   "cell_type": "markdown",
   "metadata": {},
   "source": [
    "#### 1.2 Scenarios"
   ]
  },
  {
   "cell_type": "markdown",
   "metadata": {},
   "source": [
    "1) Traditional Regression Analysis\n",
    "\n",
    "- Use multiple linear regression or other suitable regression techniques.\n",
    "\n",
    "- Examine the relationship between total_cases/total_deaths and various predictors like:\n",
    "\n",
    "    -stringency index\n",
    "\n",
    "    -vaccination rates\n",
    "\n",
    "    -demographic factors\n",
    "\n",
    "    -regionality\n",
    "\n",
    "2) Short-Term Predictions\n",
    "\n",
    "- Use time-series forecasting techniques such as ARIMA, Prophet, or other regression-based forecasting models.\n",
    "\n",
    "- Make short-term predictions for total_cases and total_deaths by cutting out recent time periods.\n",
    "\n",
    "3) Classification possible?\n",
    "\n",
    "- Only 'continent' as viable option\n",
    "\n",
    "- logistic regression, random forest, SVM, KNN\n",
    "\n"
   ]
  },
  {
   "cell_type": "markdown",
   "metadata": {},
   "source": [
    "### 2 Actual Models"
   ]
  },
  {
   "cell_type": "markdown",
   "metadata": {},
   "source": [
    "#### 2.1 \"Model name\" (Florin)"
   ]
  },
  {
   "cell_type": "markdown",
   "metadata": {},
   "source": []
  },
  {
   "cell_type": "markdown",
   "metadata": {},
   "source": [
    "#### 2.2 Random Forest (Sevi)"
   ]
  },
  {
   "cell_type": "markdown",
   "metadata": {},
   "source": [
    "##### 2.2.1 Regular Model"
   ]
  },
  {
   "cell_type": "code",
   "execution_count": null,
   "metadata": {},
   "outputs": [],
   "source": [
    "from sklearn.ensemble import RandomForestRegressor\n",
    "from sklearn.metrics import mean_squared_error, r2_score\n",
    "\n",
    "mse_list=[]\n",
    "r2_list=[]\n",
    "feature_importances_list = []\n",
    "fig, axs = plt.subplots(6, 1, figsize=(20, 15))    \n",
    "for i, (X_train_scaled, y_train) in enumerate(scaled_train_sets):\n",
    "    X_test_scaled = scaled_test_sets[i]\n",
    "    y_test = true_y_values[i]\n",
    "\n",
    "    model = RandomForestRegressor(n_estimators=100, random_state=42)\n",
    "\n",
    "    model.fit(X_train_scaled, y_train)\n",
    "\n",
    "    y_pred = model.predict(X_test_scaled)\n",
    "\n",
    "    mse = mean_squared_error(y_test, y_pred)\n",
    "    r2 = r2_score(y_test, y_pred)\n",
    "    mse_list.append(mse)\n",
    "    r2_list.append(r2)\n",
    "\n",
    "    predicted_sums = {}\n",
    "    true_sums={}\n",
    "    for date, pred, true in zip(test_data['date'], y_pred, y_test):\n",
    "        if date in predicted_sums:\n",
    "            predicted_sums[date] += pred\n",
    "        else:\n",
    "            predicted_sums[date] = pred\n",
    "    \n",
    "        if date in true_sums:\n",
    "            true_sums[date] += true\n",
    "        else:\n",
    "            true_sums[date] = true\n",
    "    # Sort dates for plotting\n",
    "    sorted_dates = sorted(predicted_sums.keys())\n",
    "    summed_predicted_values = [predicted_sums[date] for date in sorted_dates]\n",
    "    summed_true_values = [true_sums[date] for date in sorted_dates]\n",
    "\n",
    "\n",
    "    axs[i].plot(sorted_dates, summed_true_values, marker='o', linestyle='-', label='Summed True Values')\n",
    "    axs[i].plot(sorted_dates, summed_predicted_values, marker='x', linestyle='--', label='Summed Predicted Values')\n",
    "    axs[i].set_title(f\"Fold {i + 1}: Summed Predicted Values, R2: {round(r2,3)}, MSE: {round(mse,3)}\")\n",
    "    axs[i].set_xlabel(\"Date\")\n",
    "    axs[i].set_ylabel(\"Summed Values\")\n",
    "    axs[i].legend()\n",
    "\n",
    "    importances = model.feature_importances_\n",
    "    feature_importances_list.append(importances)\n",
    "    feature_importances = pd.DataFrame({\n",
    "    'Feature': feature_names,\n",
    "    'Importance': importances\n",
    "    })\n",
    "    top_5_features = feature_importances.sort_values(by='Importance', ascending=False).head(5)\n",
    "\n",
    "    # Print the summary of the model for the current split\n",
    "    print(f\"Summary for Split {i + 1}:\")\n",
    "    print(f\"Mean Squared Error for Split {i + 1}: {mse}\")\n",
    "    print(f\"R^2 Score for Split {i + 1}: {r2}\")\n",
    "    print(\"Top 5 Important Features:\")\n",
    "    print(top_5_features)\n",
    "    print(\"----------------------------------------\")\n",
    "\n",
    "\n",
    "\n",
    "plt.tight_layout()\n",
    "plt.savefig(\"../output/Models/ForestSeverin.png\")\n",
    "print(\"Overall Mean Squared Error:\", np.mean(mse_list))\n",
    "print(\"Overall R^2 Score:\", np.mean(r2_list))\n",
    "\n",
    "mean_importances = np.mean(feature_importances_list, axis=0)\n",
    "overall_feature_importances = pd.DataFrame({\n",
    "    'Feature': feature_names,\n",
    "    'Importance': mean_importances\n",
    "})\n",
    "top_10_features_overall = overall_feature_importances.sort_values(by='Importance', ascending=False).head(10)\n",
    "print(\"Top 10 Important Features Overall:\")\n",
    "print(top_10_features_overall)"
   ]
  },
  {
   "cell_type": "markdown",
   "metadata": {},
   "source": [
    "1) **Mean Squared Error (MSE):**\n",
    "\n",
    "- The MSE values range from **364.59 to 8577.03**, with an overall mean of **5051.66**.\n",
    "- Lower MSE values (e.g., 364.59 in Split 6) indicate closer predictions to actual values compared to higher MSE values (e.g., 8577.03 in Split 2).\n",
    "\n",
    "2) **R² Score:**\n",
    "\n",
    "- The R² values range from **0.231 to 0.873**, with an overall mean of **0.648**.\n",
    "- Higher R² scores (e.g., 0.873 in Split 3) indicate better explanation of variance in the data compared to lower scores (e.g., 0.231 in Split 5).\n",
    "\n",
    "3) **Feature Importance:**\n",
    "\n",
    "- **new_cases_smoothed**, **new_cases**, and **total_cases** consistently appear as important features across multiple folds and overall, indicating these features are highly influential in predicting the target variable.\n",
    "\n",
    "4) **Overall Interpretation:**\n",
    "\n",
    "- The mean MSE of 5051.66 indicates **moderate average squared differences** between predicted and actual values.\n",
    "- The overall R² score of 0.648 suggests the model explains 64.8% of the variance in the target variable, demonstrating a **moderate predictive performance**.\n",
    "\n",
    "-> new_deaths_smoothed??"
   ]
  },
  {
   "cell_type": "markdown",
   "metadata": {},
   "source": [
    "##### 2.2.2 HP Tuned Model"
   ]
  },
  {
   "cell_type": "markdown",
   "metadata": {},
   "source": [
    "- Commented out due to excessively long run-time\n",
    "\n",
    "- This process typically results in lower Mean Squared Error (MSE) and higher R-squared (R²) scores compared to using default hyperparameters. "
   ]
  },
  {
   "cell_type": "code",
   "execution_count": null,
   "metadata": {},
   "outputs": [],
   "source": [
    "\"\"\"\n",
    "from sklearn.model_selection import GridSearchCV\n",
    "param_grid = {\n",
    "    'n_estimators': [100, 200, 300],\n",
    "    'max_depth': [None, 10, 20, 30],\n",
    "    'min_samples_split': [2, 5, 10],\n",
    "    'min_samples_leaf': [1, 2, 4]\n",
    "}\n",
    "fig, axs = plt.subplots(6, 1, figsize=(20, 15))    \n",
    "for i, (X_train_scaled, y_train) in enumerate(scaled_train_sets):\n",
    "    X_test_scaled = scaled_test_sets[i]\n",
    "    y_test = true_y_values[i]\n",
    "\n",
    "    model = RandomForestRegressor(random_state=42)\n",
    "    grid_search = GridSearchCV(estimator=model, param_grid=param_grid, cv=3, n_jobs=-1, verbose=2)\n",
    "    grid_search.fit(X_train_scaled, y_train)\n",
    "    best_model = grid_search.best_estimator_\n",
    "\n",
    "    y_pred = best_model.predict(X_test_scaled)\n",
    "\n",
    "    mse = mean_squared_error(y_test, y_pred)\n",
    "    r2 = r2_score(y_test, y_pred)\n",
    "    mse_list.append(mse)\n",
    "    r2_list.append(r2)\n",
    "\n",
    "    predicted_sums = {}\n",
    "    true_sums={}\n",
    "    for date, pred, true in zip(test_data['date'], y_pred, y_test):\n",
    "        if date in predicted_sums:\n",
    "            predicted_sums[date] += pred\n",
    "        else:\n",
    "            predicted_sums[date] = pred\n",
    "\n",
    "        if date in true_sums:\n",
    "            true_sums[date] += true\n",
    "        else:\n",
    "            true_sums[date] = true\n",
    "    # Sort dates for plotting\n",
    "    sorted_dates = sorted(predicted_sums.keys())\n",
    "    summed_predicted_values = [predicted_sums[date] for date in sorted_dates]\n",
    "    summed_true_values = [true_sums[date] for date in sorted_dates]\n",
    "\n",
    "\n",
    "    axs[i].plot(sorted_dates, summed_true_values, marker='o', linestyle='-', label='Summed True Values')\n",
    "    axs[i].plot(sorted_dates, summed_predicted_values, marker='x', linestyle='--', label='Summed Predicted Values')\n",
    "    axs[i].set_title(f\"Fold {i + 1}: Summed Predicted Values, R2: {round(r2,3)}, MSE: {round(mse,3)}\")\n",
    "    axs[i].set_xlabel(\"Date\")\n",
    "    axs[i].set_ylabel(\"Summed Values\")\n",
    "    axs[i].legend()\n",
    "\n",
    "    importances = best_model.feature_importances_\n",
    "    feature_importances_list.append(importances)\n",
    "    feature_importances = pd.DataFrame({\n",
    "    'Feature': feature_names,\n",
    "    'Importance': importances\n",
    "    })\n",
    "    top_5_features = feature_importances.sort_values(by='Importance', ascending=False).head(5)\n",
    "\n",
    "    # Print the summary of the model for the current split\n",
    "    print(f\"Summary for Split {i + 1}:\")\n",
    "    print(f\"Mean Squared Error for Split {i + 1}: {mse}\")\n",
    "    print(f\"R^2 Score for Split {i + 1}: {r2}\")\n",
    "    print(\"Top 5 Important Features:\")\n",
    "    print(top_5_features)\n",
    "    print(\"----------------------------------------\")\n",
    "    print(\"Best parameters found: \", grid_search.best_params_)\n",
    "\n",
    "\n",
    "plt.tight_layout()\n",
    "plt.savefig(\"../output/Models/ForestSeverin.png\")\n",
    "print(\"Overall Mean Squared Error:\", np.mean(mse_list))\n",
    "print(\"Overall R^2 Score:\", np.mean(r2_list))\n",
    "\n",
    "mean_importances = np.mean(feature_importances_list, axis=0)\n",
    "overall_feature_importances = pd.DataFrame({\n",
    "    'Feature': feature_names,\n",
    "    'Importance': mean_importances\n",
    "})\n",
    "top_10_features_overall = overall_feature_importances.sort_values(by='Importance', ascending=False).head(10)\n",
    "print(\"Top 10 Important Features Overall:\")\n",
    "print(top_10_features_overall)\n",
    "\"\"\""
   ]
  },
  {
   "cell_type": "markdown",
   "metadata": {},
   "source": [
    "#### 2.3 Support Vector Regression (Nico)"
   ]
  },
  {
   "cell_type": "markdown",
   "metadata": {},
   "source": [
    "To implement the support vector regression we first need to find the best possible parameters for the function. In the following code we tried to find the best possible parameters."
   ]
  },
  {
   "cell_type": "code",
   "execution_count": null,
   "metadata": {},
   "outputs": [],
   "source": [
    "from sklearn.model_selection import GridSearchCV\n",
    "from sklearn.svm import SVC, SVR\n",
    "from sklearn.metrics import accuracy_score, mean_squared_error, mean_absolute_error, r2_score\n",
    "\"\"\"\n",
    "# Define the parameter grid\n",
    "param_grid = {\n",
    "    'C': [0.1, 1, 10, 100],\n",
    "    'epsilon': [0.01, 0.1, 0.2, 0.5],\n",
    "    'kernel': ['linear', 'poly', 'rbf', 'sigmoid'],\n",
    "    'degree': [2, 3, 4]  # Only relevant for poly kernel\n",
    "}\n",
    "\n",
    "# Initialize the SVR model\n",
    "svr = SVR()\n",
    "\n",
    "# Initialize Grid Search\n",
    "grid_search_svr = GridSearchCV(estimator=svr, param_grid=param_grid, scoring='neg_mean_squared_error', cv=3, n_jobs=-1)\n",
    "\n",
    "# Fit the Grid Search to the data\n",
    "grid_search_svr.fit(X_train_scaled, y_train)\n",
    "\n",
    "# Get the best parameters\n",
    "best_params_svr = grid_search_svr.best_params_\n",
    "print(\"Best parameters found: \", best_params_svr)\n",
    "\"\"\""
   ]
  },
  {
   "cell_type": "markdown",
   "metadata": {},
   "source": [
    "Then the Support Vector Regression was used on the Training and Test Splits. MSE and R2 were used to evaluate the models performance. As well as a graphic representation of the predicted values and the actual values.\n",
    "Because of an immense run time the function above could not be used. Instead a few parameters were entered manually and the ones with the best results were used for the implementation."
   ]
  },
  {
   "cell_type": "code",
   "execution_count": null,
   "metadata": {},
   "outputs": [],
   "source": [
    "predictions_svr = []\n",
    "mse_scores_svr = []\n",
    "mae_scores_svr = []\n",
    "r2_scores_svr = []\n",
    "\n",
    "fig, axs = plt.subplots(len(splits), 1, figsize=(15, 20))\n",
    "\n",
    "# Train and evaluate SVR model for each split\n",
    "for i, ((X_train_scaled, y_train), X_test_scaled, y_test) in enumerate(zip(scaled_train_sets, scaled_test_sets, true_y_values)):\n",
    "    # Initialize and train the SVR model\n",
    "    svr = SVR(kernel='rbf', C=100.0, epsilon=0.1)\n",
    "    svr.fit(X_train_scaled, y_train)\n",
    "    \n",
    "    # Make predictions on the test set\n",
    "    y_pred_svr = svr.predict(X_test_scaled)\n",
    "    predictions_svr.append(y_pred_svr)\n",
    "    \n",
    "    # Evaluate the model\n",
    "    mse_svr = mean_squared_error(y_test, y_pred_svr)\n",
    "    mae_svr = mean_absolute_error(y_test, y_pred_svr)\n",
    "    r2_svr = r2_score(y_test, y_pred_svr)\n",
    "    mse_scores_svr.append(mse_svr)\n",
    "    mae_scores_svr.append(mae_svr)\n",
    "    r2_scores_svr.append(r2_svr)\n",
    "    \n",
    "    # Print results for the current split\n",
    "    print(f\"Split {i+1} - Mean Squared Error: {mse_svr}\")\n",
    "    print(f\"Split {i+1} - Mean Absolute Error: {mae_svr}\")\n",
    "    print(f\"Split {i+1} - R2 Score: {r2_svr}\")\n",
    "    print(\"Predictions vs Actual values:\")\n",
    "    print(pd.DataFrame({'Predicted': y_pred_svr, 'Actual': y_test.values}).head())\n",
    "    print(\"------------------------------------------------------------------------------------------------------------------------\")\n",
    "\n",
    "    # Summed values per date\n",
    "    predicted_sums_svr = {}\n",
    "    true_sums = {}\n",
    "    for date, pred, true in zip(test_data['date'], y_pred_svr, y_test):\n",
    "        if date in predicted_sums_svr:\n",
    "            predicted_sums_svr[date] += pred\n",
    "        else:\n",
    "            predicted_sums_svr[date] = pred\n",
    "\n",
    "        if date in true_sums:\n",
    "            true_sums[date] += true\n",
    "        else:\n",
    "            true_sums[date] = true\n",
    "    \n",
    "    # Sort dates for plotting\n",
    "    sorted_dates_svr = sorted(predicted_sums_svr.keys())\n",
    "    summed_predicted_values_svr = [predicted_sums_svr[date] for date in sorted_dates_svr]\n",
    "    summed_true_values = [true_sums[date] for date in sorted_dates_svr]\n",
    "\n",
    "    # Plotting\n",
    "    axs[i].plot(sorted_dates_svr, summed_true_values, marker='o', linestyle='-', label='Summed True Values')\n",
    "    axs[i].plot(sorted_dates_svr, summed_predicted_values_svr, marker='x', linestyle='--', label='Summed Predicted Values')\n",
    "    axs[i].set_title(f\"Fold {i + 1}: Summed Predicted Values, R2: {round(r2_svr,3)}, MSE: {round(mse_svr,3)}\")\n",
    "    axs[i].set_xlabel(\"Date\")\n",
    "    axs[i].set_ylabel(\"Summed Values\")\n",
    "    axs[i].legend()\n",
    "\n",
    "plt.tight_layout()\n",
    "plt.savefig(\"../output/Models/SupportVectorRegression.png\")\n",
    "\n",
    "# Summarize overall performance\n",
    "print(\"Overall Mean Squared Error across all splits:\", np.mean(mse_scores_svr))\n",
    "print(\"Overall Mean Absolute Error across all splits:\", np.mean(mae_scores_svr))\n",
    "print(\"Overall R2 score across all splits:\", np.mean(r2_scores_svr))"
   ]
  },
  {
   "cell_type": "markdown",
   "metadata": {},
   "source": [
    "An MSE of 12786.191687816201 suggests that, on average, the squared errors are relatively high, indicating that there might be significant discrepancies between the predicted and actual values.\n",
    "\n",
    "An MAE of 26.95207964508874 suggests that, on average, the model's predictions are off by approximately 27. This gives a more interpretable sense of the prediction errors in the same units as the target variable. \n",
    "\n",
    "An R² score of 0.4081813930347116 means that the model explains about 41% of the variance in the target variable. This suggests a moderate fit, as it explains some but not all of the variability."
   ]
  },
  {
   "cell_type": "markdown",
   "metadata": {},
   "source": [
    "Conclusion:\n",
    "This means that the model has only a moderate level of explanatory power. It captures some of the variance in the data but leaves a significant portion unexplained.\n",
    "Error Metrics: Both MSE and MAE values suggest that there are considerable prediction errors. The relatively high MAE (around 27) indicates that the model's predictions deviate significantly from actual values on average."
   ]
  },
  {
   "cell_type": "markdown",
   "metadata": {},
   "source": [
    "#### 2.4 \"Model name\" (Leon)"
   ]
  },
  {
   "cell_type": "markdown",
   "metadata": {},
   "source": [
    "I am trying to use the ARIMAX model. It does not need to be scaled before using it."
   ]
  },
  {
   "cell_type": "code",
   "execution_count": 302,
   "metadata": {},
   "outputs": [
    {
     "name": "stdout",
     "output_type": "stream",
     "text": [
      "['AFG', 'AGO', 'ALB', 'AND', 'ARE', 'ARG', 'ARM', 'ATG', 'AUS', 'AUT', 'AZE', 'BDI', 'BEL', 'BFA', 'BGD', 'BGR', 'BHR', 'BHS', 'BIH', 'BLR', 'BLZ', 'BOL', 'BRB', 'BTN', 'BWA', 'CAF', 'CAN', 'CHE', 'CHL', 'CHN', 'CIV', 'CMR', 'COD', 'COG', 'COL', 'COM', 'CRI', 'CUB', 'CYP', 'CZE', 'DEU', 'DJI', 'DMA', 'DNK', 'DOM', 'ECU', 'EGY', 'ESP', 'EST', 'ETH', 'FIN', 'FRA', 'GAB', 'GBR', 'GEO', 'GHA', 'GIN', 'GMB', 'GNB', 'GNQ', 'GRC', 'GRD', 'GTM', 'GUY', 'HRV', 'HTI', 'HUN', 'IDN', 'IND', 'IRL', 'IRN', 'IRQ', 'ISR', 'ITA', 'JAM', 'JOR', 'JPN', 'KAZ', 'KEN', 'KHM', 'KNA', 'KOR', 'KWT', 'LAO', 'LCA', 'LIE', 'LKA', 'LSO', 'LTU', 'LUX', 'LVA', 'MAR', 'MDG', 'MDV', 'MEX', 'MHL', 'MKD', 'MLI', 'MLT', 'MMR', 'MNG', 'MOZ', 'MRT', 'MUS', 'MWI', 'MYS', 'NAM', 'NER', 'NGA', 'NIC', 'NLD', 'NOR', 'NPL', 'OMN', 'PAK', 'PAN', 'PER', 'PHL', 'PLW', 'POL', 'PRT', 'PRY', 'ROU', 'RUS', 'RWA', 'SAU', 'SEN', 'SLE', 'SLV', 'SOM', 'SRB', 'SSD', 'STP', 'SUR', 'SVK', 'SVN', 'SWE', 'SWZ', 'SYR', 'TCD', 'TGO', 'THA', 'TLS', 'TTO', 'TUN', 'TUR', 'TWN', 'TZA', 'UGA', 'UKR', 'URY', 'USA', 'VCT', 'VNM', 'VUT', 'YEM', 'ZAF', 'ZMB', 'ZWE']\n",
      "Split: 1 : Times differenced: 0\n",
      "Performing stepwise search to minimize aic\n",
      " ARIMA(0,0,0)(0,0,0)[0]             : AIC=952.630, Time=0.16 sec\n",
      " ARIMA(1,0,0)(0,0,0)[0]             : AIC=494.738, Time=0.17 sec\n",
      " ARIMA(0,0,1)(0,0,0)[0]             : AIC=494.521, Time=0.21 sec\n",
      " ARIMA(1,0,1)(0,0,0)[0]             : AIC=496.544, Time=0.23 sec\n",
      " ARIMA(0,0,1)(0,0,0)[0] intercept   : AIC=494.334, Time=0.21 sec\n",
      " ARIMA(0,0,0)(0,0,0)[0] intercept   : AIC=496.152, Time=0.16 sec\n",
      " ARIMA(1,0,1)(0,0,0)[0] intercept   : AIC=496.358, Time=0.23 sec\n",
      " ARIMA(1,0,0)(0,0,0)[0] intercept   : AIC=494.624, Time=0.17 sec\n",
      "\n",
      "Best model:  ARIMA(0,0,1)(0,0,0)[0] intercept\n",
      "Total fit time: 1.552 seconds\n",
      "Summary for Split 1:\n",
      "Mean Squared Error for Split 1: 13.679630357994608\n",
      "R-squared for Split 1: 0.3935437997046871\n",
      "                               SARIMAX Results                                \n",
      "==============================================================================\n",
      "Dep. Variable:             new_deaths   No. Observations:                  120\n",
      "Model:               SARIMAX(0, 0, 1)   Log Likelihood                -218.260\n",
      "Date:                Wed, 22 May 2024   AIC                            494.521\n",
      "Time:                        18:13:15   BIC                            575.358\n",
      "Sample:                    05-30-2020   HQIC                           527.349\n",
      "                         - 09-26-2020                                         \n",
      "Covariance Type:                  opg                                         \n",
      "==============================================================================================================\n",
      "                                                 coef    std err          z      P>|z|      [0.025      0.975]\n",
      "--------------------------------------------------------------------------------------------------------------\n",
      "new_cases                                      0.5643      0.357      1.583      0.113      -0.134       1.263\n",
      "reproduction_rate                             -0.2751      0.273     -1.008      0.313      -0.810       0.260\n",
      "positive_rate                               3.038e+12      0.079   3.85e+13      0.000    3.04e+12    3.04e+12\n",
      "people_vaccinated                           3.042e+12      0.079   3.86e+13      0.000    3.04e+12    3.04e+12\n",
      "people_fully_vaccinated                     2.613e+12      0.079   3.31e+13      0.000    2.61e+12    2.61e+12\n",
      "total_boosters                              2.702e+12      0.079   3.43e+13      0.000     2.7e+12     2.7e+12\n",
      "new_vaccinations                            2.864e+12      0.079   3.63e+13      0.000    2.86e+12    2.86e+12\n",
      "people_vaccinated_per_hundred               2.756e+12      0.079   3.49e+13      0.000    2.76e+12    2.76e+12\n",
      "people_fully_vaccinated_per_hundred         2.543e+12      0.079   3.22e+13      0.000    2.54e+12    2.54e+12\n",
      "total_boosters_per_hundred                  2.768e+12      0.079   3.51e+13      0.000    2.77e+12    2.77e+12\n",
      "new_people_vaccinated_smoothed             -2.914e+12      0.079  -3.69e+13      0.000   -2.91e+12   -2.91e+12\n",
      "new_people_vaccinated_smoothed_per_hundred -2.762e+12      0.079   -3.5e+13      0.000   -2.76e+12   -2.76e+12\n",
      "stringency_index                               2.3753      0.623      3.811      0.000       1.154       3.597\n",
      "population_density                                  0         -0        nan        nan           0           0\n",
      "median_age                                          0         -0        nan        nan           0           0\n",
      "aged_65_older                                       0         -0        nan        nan           0           0\n",
      "aged_70_older                                       0         -0        nan        nan           0           0\n",
      "gdp_per_capita                                      0         -0        nan        nan           0           0\n",
      "extreme_poverty                                     0         -0        nan        nan           0           0\n",
      "diabetes_prevalence                                 0         -0        nan        nan           0           0\n",
      "female_smokers                                      0         -0        nan        nan           0           0\n",
      "male_smokers                                        0         -0        nan        nan           0           0\n",
      "handwashing_facilities                       -2.8e+13      0.079  -3.55e+14      0.000    -2.8e+13    -2.8e+13\n",
      "hospital_beds_per_thousand                          0         -0        nan        nan           0           0\n",
      "life_expectancy                                     0         -0        nan        nan           0           0\n",
      "human_development_index                             0         -0        nan        nan           0           0\n",
      "population                                          0         -0        nan        nan           0           0\n",
      "ma.L1                                          0.1908      0.084      2.274      0.023       0.026       0.355\n",
      "sigma2                                         2.1835      0.278      7.850      0.000       1.638       2.729\n",
      "===================================================================================\n",
      "Ljung-Box (L1) (Q):                   0.01   Jarque-Bera (JB):                 4.27\n",
      "Prob(Q):                              0.94   Prob(JB):                         0.12\n",
      "Heteroskedasticity (H):               1.05   Skew:                             0.46\n",
      "Prob(H) (two-sided):                  0.87   Kurtosis:                         2.87\n",
      "===================================================================================\n",
      "\n",
      "Warnings:\n",
      "[1] Covariance matrix calculated using the outer product of gradients (complex-step).\n",
      "[2] Covariance matrix is singular or near-singular, with condition number 7.09e+135. Standard errors may be unstable.\n",
      "----------------------------------------\n",
      "Split: 2 : Times differenced: 2\n",
      "Performing stepwise search to minimize aic\n",
      " ARIMA(0,0,0)(0,0,0)[0]             : AIC=1095.336, Time=0.18 sec\n",
      " ARIMA(1,0,0)(0,0,0)[0]             : AIC=1029.799, Time=0.51 sec\n",
      " ARIMA(0,0,1)(0,0,0)[0]             : AIC=1026.891, Time=0.55 sec\n",
      " ARIMA(1,0,1)(0,0,0)[0]             : AIC=1011.543, Time=0.62 sec\n",
      " ARIMA(1,0,1)(0,0,0)[0] intercept   : AIC=1019.330, Time=0.67 sec\n",
      "\n",
      "Best model:  ARIMA(1,0,1)(0,0,0)[0]          \n",
      "Total fit time: 2.538 seconds\n",
      "Summary for Split 2:\n",
      "Mean Squared Error for Split 2: 1008.8666666666667\n",
      "R-squared for Split 2: -36.242821985233796\n",
      "                               SARIMAX Results                                \n",
      "==============================================================================\n",
      "Dep. Variable:             new_deaths   No. Observations:                  118\n",
      "Model:               SARIMAX(1, 0, 1)   Log Likelihood                -475.771\n",
      "Date:                Wed, 22 May 2024   AIC                           1011.543\n",
      "Time:                        18:13:18   BIC                           1094.663\n",
      "Sample:                    10-29-2020   HQIC                          1045.292\n",
      "                         - 02-23-2021                                         \n",
      "Covariance Type:                  opg                                         \n",
      "==============================================================================================================\n",
      "                                                 coef    std err          z      P>|z|      [0.025      0.975]\n",
      "--------------------------------------------------------------------------------------------------------------\n",
      "new_cases                                     10.9731      4.293      2.556      0.011       2.559      19.387\n",
      "reproduction_rate                            -36.0429     34.629     -1.041      0.298    -103.914      31.828\n",
      "positive_rate                                479.6811    179.530      2.672      0.008     127.809     831.553\n",
      "people_vaccinated                           2740.4415    601.294      4.558      0.000    1561.927    3918.956\n",
      "people_fully_vaccinated                      309.7135    861.574      0.359      0.719   -1378.940    1998.367\n",
      "total_boosters                             -8.257e+06    445.882  -1.85e+04      0.000   -8.26e+06   -8.26e+06\n",
      "new_vaccinations                               1.3850      2.161      0.641      0.522      -2.851       5.621\n",
      "people_vaccinated_per_hundred              -1273.2389    436.738     -2.915      0.004   -2129.229    -417.248\n",
      "people_fully_vaccinated_per_hundred          195.0026    703.727      0.277      0.782   -1184.276    1574.281\n",
      "total_boosters_per_hundred                  8.255e+06    445.967   1.85e+04      0.000    8.25e+06    8.26e+06\n",
      "new_people_vaccinated_smoothed                95.2689    216.850      0.439      0.660    -329.749     520.287\n",
      "new_people_vaccinated_smoothed_per_hundred   -80.2035    212.856     -0.377      0.706    -497.394     336.987\n",
      "stringency_index                               6.0804      4.123      1.475      0.140      -2.000      14.161\n",
      "population_density                                  0        nan        nan        nan         nan         nan\n",
      "median_age                                          0         -0        nan        nan           0           0\n",
      "aged_65_older                                       0         -0        nan        nan           0           0\n",
      "aged_70_older                                       0         -0        nan        nan           0           0\n",
      "gdp_per_capita                                      0         -0        nan        nan           0           0\n",
      "extreme_poverty                                     0         -0        nan        nan           0           0\n",
      "diabetes_prevalence                                 0         -0        nan        nan           0           0\n",
      "female_smokers                                      0         -0        nan        nan           0           0\n",
      "male_smokers                                        0         -0        nan        nan           0           0\n",
      "handwashing_facilities                      1.639e+14   4.13e-10   3.97e+23      0.000    1.64e+14    1.64e+14\n",
      "hospital_beds_per_thousand                          0         -0        nan        nan           0           0\n",
      "life_expectancy                                     0         -0        nan        nan           0           0\n",
      "human_development_index                             0         -0        nan        nan           0           0\n",
      "population                                          0         -0        nan        nan           0           0\n",
      "ar.L1                                         -0.4604      0.145     -3.169      0.002      -0.745      -0.176\n",
      "ma.L1                                         -0.5483      0.162     -3.377      0.001      -0.867      -0.230\n",
      "sigma2                                       184.4750     34.816      5.299      0.000     116.238     252.712\n",
      "===================================================================================\n",
      "Ljung-Box (L1) (Q):                   0.20   Jarque-Bera (JB):                47.03\n",
      "Prob(Q):                              0.65   Prob(JB):                         0.00\n",
      "Heteroskedasticity (H):               0.90   Skew:                            -0.71\n",
      "Prob(H) (two-sided):                  0.75   Kurtosis:                         5.75\n",
      "===================================================================================\n",
      "\n",
      "Warnings:\n",
      "[1] Covariance matrix calculated using the outer product of gradients (complex-step).\n",
      "[2] Covariance matrix is singular or near-singular, with condition number 5.43e+97. Standard errors may be unstable.\n",
      "----------------------------------------\n",
      "Split: 3 : Times differenced: 1\n",
      "Performing stepwise search to minimize aic\n",
      " ARIMA(0,0,0)(0,0,0)[0]             : AIC=816.659, Time=0.14 sec\n",
      " ARIMA(1,0,0)(0,0,0)[0]             : AIC=775.672, Time=0.47 sec\n",
      " ARIMA(0,0,1)(0,0,0)[0]             : AIC=750.703, Time=0.58 sec\n",
      " ARIMA(1,0,1)(0,0,0)[0]             : AIC=749.742, Time=0.60 sec\n",
      " ARIMA(1,0,1)(0,0,0)[0] intercept   : AIC=752.762, Time=0.64 sec\n",
      "\n",
      "Best model:  ARIMA(1,0,1)(0,0,0)[0]          \n",
      "Total fit time: 2.444 seconds\n",
      "Summary for Split 3:\n",
      "Mean Squared Error for Split 3: 15.06864046021727\n",
      "R-squared for Split 3: -6.6146975935966\n",
      "                               SARIMAX Results                                \n",
      "==============================================================================\n",
      "Dep. Variable:             new_deaths   No. Observations:                  119\n",
      "Model:               SARIMAX(1, 0, 1)   Log Likelihood                -344.871\n",
      "Date:                Wed, 22 May 2024   AIC                            749.742\n",
      "Time:                        18:13:21   BIC                            833.115\n",
      "Sample:                    03-27-2021   HQIC                           783.597\n",
      "                         - 07-23-2021                                         \n",
      "Covariance Type:                  opg                                         \n",
      "==============================================================================================================\n",
      "                                                 coef    std err          z      P>|z|      [0.025      0.975]\n",
      "--------------------------------------------------------------------------------------------------------------\n",
      "new_cases                                      3.2890      2.722      1.208      0.227      -2.047       8.625\n",
      "reproduction_rate                              0.2860      4.723      0.061      0.952      -8.970       9.543\n",
      "positive_rate                                 15.1757      8.231      1.844      0.065      -0.957      31.308\n",
      "people_vaccinated                          -5669.8243   4394.970     -1.290      0.197   -1.43e+04    2944.159\n",
      "people_fully_vaccinated                     1448.0583   3029.950      0.478      0.633   -4490.535    7386.651\n",
      "total_boosters                                 1.0850     17.151      0.063      0.950     -32.530      34.700\n",
      "new_vaccinations                               0.2728      0.751      0.363      0.716      -1.199       1.745\n",
      "people_vaccinated_per_hundred               5674.4986   4398.378      1.290      0.197   -2946.164    1.43e+04\n",
      "people_fully_vaccinated_per_hundred        -1484.1430   3022.522     -0.491      0.623   -7408.177    4439.891\n",
      "total_boosters_per_hundred                     3.0533      3.856      0.792      0.429      -4.505      10.612\n",
      "new_people_vaccinated_smoothed               286.4113    345.222      0.830      0.407    -390.212     963.035\n",
      "new_people_vaccinated_smoothed_per_hundred  -289.0480    344.928     -0.838      0.402    -965.095     386.999\n",
      "stringency_index                              -0.0287      6.899     -0.004      0.997     -13.550      13.492\n",
      "population_density                                  0        nan        nan        nan         nan         nan\n",
      "median_age                                          0        nan        nan        nan         nan         nan\n",
      "aged_65_older                                       0         -0        nan        nan           0           0\n",
      "aged_70_older                                       0         -0        nan        nan           0           0\n",
      "gdp_per_capita                                      0         -0        nan        nan           0           0\n",
      "extreme_poverty                                     0         -0        nan        nan           0           0\n",
      "diabetes_prevalence                                 0         -0        nan        nan           0           0\n",
      "female_smokers                                      0         -0        nan        nan           0           0\n",
      "male_smokers                                        0         -0        nan        nan           0           0\n",
      "handwashing_facilities                       -28.8796     46.862     -0.616      0.538    -120.728      62.969\n",
      "hospital_beds_per_thousand                          0         -0        nan        nan           0           0\n",
      "life_expectancy                                     0         -0        nan        nan           0           0\n",
      "human_development_index                             0         -0        nan        nan           0           0\n",
      "population                                          0         -0        nan        nan           0           0\n",
      "ar.L1                                         -0.2946      0.105     -2.800      0.005      -0.501      -0.088\n",
      "ma.L1                                         -0.5952      0.115     -5.165      0.000      -0.821      -0.369\n",
      "sigma2                                        19.4391      2.225      8.736      0.000      15.078      23.801\n",
      "===================================================================================\n",
      "Ljung-Box (L1) (Q):                   0.54   Jarque-Bera (JB):                16.89\n",
      "Prob(Q):                              0.46   Prob(JB):                         0.00\n",
      "Heteroskedasticity (H):               0.11   Skew:                            -0.19\n",
      "Prob(H) (two-sided):                  0.00   Kurtosis:                         4.80\n",
      "===================================================================================\n",
      "\n",
      "Warnings:\n",
      "[1] Covariance matrix calculated using the outer product of gradients (complex-step).\n",
      "[2] Covariance matrix is singular or near-singular, with condition number 3.9e+90. Standard errors may be unstable.\n",
      "----------------------------------------\n",
      "Split: 4 : Times differenced: 2\n",
      "Performing stepwise search to minimize aic\n",
      " ARIMA(0,0,0)(0,0,0)[0]             : AIC=976.542, Time=0.16 sec\n",
      " ARIMA(1,0,0)(0,0,0)[0]             : AIC=930.072, Time=0.49 sec\n",
      " ARIMA(0,0,1)(0,0,0)[0]             : AIC=873.000, Time=0.58 sec\n",
      " ARIMA(1,0,1)(0,0,0)[0]             : AIC=860.662, Time=0.58 sec\n",
      " ARIMA(1,0,1)(0,0,0)[0] intercept   : AIC=867.456, Time=0.63 sec\n",
      "\n",
      "Best model:  ARIMA(1,0,1)(0,0,0)[0]          \n",
      "Total fit time: 2.446 seconds\n",
      "Summary for Split 4:\n",
      "Mean Squared Error for Split 4: 358.56666666666666\n",
      "R-squared for Split 4: -4.071744016093291\n",
      "                               SARIMAX Results                                \n",
      "==============================================================================\n",
      "Dep. Variable:             new_deaths   No. Observations:                  118\n",
      "Model:               SARIMAX(1, 0, 1)   Log Likelihood                -400.331\n",
      "Date:                Wed, 22 May 2024   AIC                            860.662\n",
      "Time:                        18:13:24   BIC                            943.782\n",
      "Sample:                    08-25-2021   HQIC                           894.411\n",
      "                         - 12-20-2021                                         \n",
      "Covariance Type:                  opg                                         \n",
      "==============================================================================================================\n",
      "                                                 coef    std err          z      P>|z|      [0.025      0.975]\n",
      "--------------------------------------------------------------------------------------------------------------\n",
      "new_cases                                     -1.2979      2.878     -0.451      0.652      -6.939       4.343\n",
      "reproduction_rate                             -7.3868     17.711     -0.417      0.677     -42.099      27.326\n",
      "positive_rate                                 23.1448     13.224      1.750      0.080      -2.773      49.063\n",
      "people_vaccinated                          -1782.4524   1404.140     -1.269      0.204   -4534.516     969.611\n",
      "people_fully_vaccinated                    -1867.4007   1018.811     -1.833      0.067   -3864.234     129.433\n",
      "total_boosters                              4005.6253   3031.254      1.321      0.186   -1935.523    9946.773\n",
      "new_vaccinations                              -3.8577      2.247     -1.717      0.086      -8.262       0.546\n",
      "people_vaccinated_per_hundred               1539.1928   1378.108      1.117      0.264   -1161.849    4240.234\n",
      "people_fully_vaccinated_per_hundred         1900.7835    985.801      1.928      0.054     -31.351    3832.918\n",
      "total_boosters_per_hundred                 -3888.5657   3018.617     -1.288      0.198   -9804.946    2027.814\n",
      "new_people_vaccinated_smoothed              -284.4034    103.015     -2.761      0.006    -486.310     -82.497\n",
      "new_people_vaccinated_smoothed_per_hundred   300.5980    103.866      2.894      0.004      97.023     504.173\n",
      "stringency_index                               1.1559      2.938      0.393      0.694      -4.603       6.915\n",
      "population_density                                  0        nan        nan        nan         nan         nan\n",
      "median_age                                          0        nan        nan        nan         nan         nan\n",
      "aged_65_older                                       0         -0        nan        nan           0           0\n",
      "aged_70_older                                       0         -0        nan        nan           0           0\n",
      "gdp_per_capita                                      0         -0        nan        nan           0           0\n",
      "extreme_poverty                                     0         -0        nan        nan           0           0\n",
      "diabetes_prevalence                                 0         -0        nan        nan           0           0\n",
      "female_smokers                                      0         -0        nan        nan           0           0\n",
      "male_smokers                                        0         -0        nan        nan           0           0\n",
      "handwashing_facilities                      9.246e+12        nan        nan        nan         nan         nan\n",
      "hospital_beds_per_thousand                          0         -0        nan        nan           0           0\n",
      "life_expectancy                                     0         -0        nan        nan           0           0\n",
      "human_development_index                             0         -0        nan        nan           0           0\n",
      "population                                          0         -0        nan        nan           0           0\n",
      "ar.L1                                         -0.4567      0.110     -4.138      0.000      -0.673      -0.240\n",
      "ma.L1                                         -0.9216      0.074    -12.426      0.000      -1.067      -0.776\n",
      "sigma2                                        50.2877      8.034      6.259      0.000      34.541      66.034\n",
      "===================================================================================\n",
      "Ljung-Box (L1) (Q):                   2.51   Jarque-Bera (JB):                11.04\n",
      "Prob(Q):                              0.11   Prob(JB):                         0.00\n",
      "Heteroskedasticity (H):               4.02   Skew:                            -0.26\n",
      "Prob(H) (two-sided):                  0.00   Kurtosis:                         4.41\n",
      "===================================================================================\n",
      "\n",
      "Warnings:\n",
      "[1] Covariance matrix calculated using the outer product of gradients (complex-step).\n",
      "[2] Covariance matrix is singular or near-singular, with condition number 2.26e+97. Standard errors may be unstable.\n",
      "----------------------------------------\n",
      "Split: 5 : Times differenced: 1\n",
      "Performing stepwise search to minimize aic\n",
      " ARIMA(0,0,0)(0,0,0)[0]             : AIC=804.127, Time=0.11 sec\n",
      " ARIMA(1,0,0)(0,0,0)[0]             : AIC=777.683, Time=0.50 sec\n",
      " ARIMA(0,0,1)(0,0,0)[0]             : AIC=766.631, Time=0.58 sec\n",
      " ARIMA(1,0,1)(0,0,0)[0]             : AIC=769.614, Time=0.61 sec\n",
      " ARIMA(0,0,1)(0,0,0)[0] intercept   : AIC=768.800, Time=0.62 sec\n",
      "\n",
      "Best model:  ARIMA(0,0,1)(0,0,0)[0]          \n",
      "Total fit time: 2.419 seconds\n",
      "Summary for Split 5:\n",
      "Mean Squared Error for Split 5: 48.4\n",
      "R-squared for Split 5: -0.7379508458346626\n",
      "                               SARIMAX Results                                \n",
      "==============================================================================\n",
      "Dep. Variable:             new_deaths   No. Observations:                  119\n",
      "Model:               SARIMAX(0, 0, 1)   Log Likelihood                -354.315\n",
      "Date:                Wed, 22 May 2024   AIC                            766.631\n",
      "Time:                        18:13:27   BIC                            847.225\n",
      "Sample:                    01-21-2022   HQIC                           799.358\n",
      "                         - 05-19-2022                                         \n",
      "Covariance Type:                  opg                                         \n",
      "==============================================================================================================\n",
      "                                                 coef    std err          z      P>|z|      [0.025      0.975]\n",
      "--------------------------------------------------------------------------------------------------------------\n",
      "new_cases                                      2.4929      2.568      0.971      0.332      -2.541       7.526\n",
      "reproduction_rate                            -10.6102      5.568     -1.906      0.057     -21.523       0.303\n",
      "positive_rate                                 -0.3816      1.688     -0.226      0.821      -3.690       2.926\n",
      "people_vaccinated                            -57.9457     41.941     -1.382      0.167    -140.149      24.258\n",
      "people_fully_vaccinated                    -1424.1672   3585.393     -0.397      0.691   -8451.409    5603.075\n",
      "total_boosters                               349.8406    295.449      1.184      0.236    -229.229     928.910\n",
      "new_vaccinations                              -0.6576      0.496     -1.326      0.185      -1.630       0.315\n",
      "people_vaccinated_per_hundred                 69.0279     37.836      1.824      0.068      -5.129     143.185\n",
      "people_fully_vaccinated_per_hundred         1373.8273   3604.195      0.381      0.703   -5690.266    8437.920\n",
      "total_boosters_per_hundred                  -355.4497    294.195     -1.208      0.227    -932.062     221.163\n",
      "new_people_vaccinated_smoothed               -20.5145     15.544     -1.320      0.187     -50.981       9.952\n",
      "new_people_vaccinated_smoothed_per_hundred    18.8951     13.366      1.414      0.157      -7.303      45.093\n",
      "stringency_index                              -0.3896      4.527     -0.086      0.931      -9.263       8.484\n",
      "population_density                                  0        nan        nan        nan         nan         nan\n",
      "median_age                                          0        nan        nan        nan         nan         nan\n",
      "aged_65_older                                       0         -0        nan        nan           0           0\n",
      "aged_70_older                                       0         -0        nan        nan           0           0\n",
      "gdp_per_capita                                      0         -0        nan        nan           0           0\n",
      "extreme_poverty                                     0         -0        nan        nan           0           0\n",
      "diabetes_prevalence                                 0         -0        nan        nan           0           0\n",
      "female_smokers                                      0         -0        nan        nan           0           0\n",
      "male_smokers                                        0         -0        nan        nan           0           0\n",
      "handwashing_facilities                        74.7305     59.908      1.247      0.212     -42.687     192.148\n",
      "hospital_beds_per_thousand                          0         -0        nan        nan           0           0\n",
      "life_expectancy                                     0         -0        nan        nan           0           0\n",
      "human_development_index                             0         -0        nan        nan           0           0\n",
      "population                                          0         -0        nan        nan           0           0\n",
      "ma.L1                                         -0.6654      0.092     -7.214      0.000      -0.846      -0.485\n",
      "sigma2                                        22.4223      3.017      7.433      0.000      16.510      28.335\n",
      "===================================================================================\n",
      "Ljung-Box (L1) (Q):                   0.00   Jarque-Bera (JB):                 2.71\n",
      "Prob(Q):                              0.98   Prob(JB):                         0.26\n",
      "Heteroskedasticity (H):               0.91   Skew:                            -0.33\n",
      "Prob(H) (two-sided):                  0.76   Kurtosis:                         3.34\n",
      "===================================================================================\n",
      "\n",
      "Warnings:\n",
      "[1] Covariance matrix calculated using the outer product of gradients (complex-step).\n",
      "[2] Covariance matrix is singular or near-singular, with condition number 4.05e+123. Standard errors may be unstable.\n",
      "----------------------------------------\n",
      "Split: 6 : Times differenced: 1\n",
      "Performing stepwise search to minimize aic\n",
      " ARIMA(0,0,0)(0,0,0)[0]             : AIC=894.326, Time=0.58 sec\n",
      " ARIMA(1,0,0)(0,0,0)[0]             : AIC=860.159, Time=0.19 sec\n",
      " ARIMA(0,0,1)(0,0,0)[0]             : AIC=847.440, Time=0.23 sec\n",
      " ARIMA(1,0,1)(0,0,0)[0]             : AIC=848.582, Time=0.24 sec\n",
      " ARIMA(0,0,1)(0,0,0)[0] intercept   : AIC=849.448, Time=0.24 sec\n",
      "\n",
      "Best model:  ARIMA(0,0,1)(0,0,0)[0]          \n",
      "Total fit time: 1.484 seconds\n",
      "Summary for Split 6:\n",
      "Mean Squared Error for Split 6: 79.51733633819525\n",
      "R-squared for Split 6: -0.6832925292542262\n",
      "                               SARIMAX Results                                \n",
      "==============================================================================\n",
      "Dep. Variable:             new_deaths   No. Observations:                  119\n",
      "Model:               SARIMAX(0, 0, 1)   Log Likelihood                -394.720\n",
      "Date:                Wed, 22 May 2024   AIC                            847.440\n",
      "Time:                        18:13:29   BIC                            928.034\n",
      "Sample:                    06-20-2022   HQIC                           880.167\n",
      "                         - 10-16-2022                                         \n",
      "Covariance Type:                  opg                                         \n",
      "==============================================================================================================\n",
      "                                                 coef    std err          z      P>|z|      [0.025      0.975]\n",
      "--------------------------------------------------------------------------------------------------------------\n",
      "new_cases                                      7.1582      0.708     10.104      0.000       5.770       8.547\n",
      "reproduction_rate                             15.4608      4.942      3.128      0.002       5.774      25.147\n",
      "positive_rate                                 -0.1044      0.186     -0.562      0.574      -0.468       0.260\n",
      "people_vaccinated                           -104.6957    131.373     -0.797      0.425    -362.182     152.791\n",
      "people_fully_vaccinated                     3.504e+13     34.423   1.02e+12      0.000     3.5e+13     3.5e+13\n",
      "total_boosters                              -506.0016   1136.607     -0.445      0.656   -2733.710    1721.707\n",
      "new_vaccinations                               1.9355      1.239      1.562      0.118      -0.493       4.364\n",
      "people_vaccinated_per_hundred                 30.5916     16.040      1.907      0.056      -0.846      62.030\n",
      "people_fully_vaccinated_per_hundred         3.579e+13     34.423   1.04e+12      0.000    3.58e+13    3.58e+13\n",
      "total_boosters_per_hundred                   557.8282   1127.426      0.495      0.621   -1651.885    2767.542\n",
      "new_people_vaccinated_smoothed                 4.3715      2.423      1.804      0.071      -0.377       9.120\n",
      "new_people_vaccinated_smoothed_per_hundred          0         -0        nan        nan           0           0\n",
      "stringency_index                                    0         -0        nan        nan           0           0\n",
      "population_density                                  0         -0        nan        nan           0           0\n",
      "median_age                                          0         -0        nan        nan           0           0\n",
      "aged_65_older                                       0         -0        nan        nan           0           0\n",
      "aged_70_older                                       0         -0        nan        nan           0           0\n",
      "gdp_per_capita                                      0         -0        nan        nan           0           0\n",
      "extreme_poverty                                     0         -0        nan        nan           0           0\n",
      "diabetes_prevalence                                 0         -0        nan        nan           0           0\n",
      "female_smokers                                      0         -0        nan        nan           0           0\n",
      "male_smokers                                        0         -0        nan        nan           0           0\n",
      "handwashing_facilities                     -7.083e+13     34.423  -2.06e+12      0.000   -7.08e+13   -7.08e+13\n",
      "hospital_beds_per_thousand                          0         -0        nan        nan           0           0\n",
      "life_expectancy                                     0         -0        nan        nan           0           0\n",
      "human_development_index                             0         -0        nan        nan           0           0\n",
      "population                                          0         -0        nan        nan           0           0\n",
      "ma.L1                                         -0.4677      0.105     -4.446      0.000      -0.674      -0.262\n",
      "sigma2                                        46.0626      5.635      8.175      0.000      35.018      57.107\n",
      "===================================================================================\n",
      "Ljung-Box (L1) (Q):                   0.13   Jarque-Bera (JB):                16.84\n",
      "Prob(Q):                              0.72   Prob(JB):                         0.00\n",
      "Heteroskedasticity (H):               0.58   Skew:                             0.60\n",
      "Prob(H) (two-sided):                  0.09   Kurtosis:                         4.41\n",
      "===================================================================================\n",
      "\n",
      "Warnings:\n",
      "[1] Covariance matrix calculated using the outer product of gradients (complex-step).\n",
      "[2] Covariance matrix is singular or near-singular, with condition number 2.77e+144. Standard errors may be unstable.\n",
      "----------------------------------------\n"
     ]
    },
    {
     "data": {
      "image/png": "[encoded data removed]",
      "text/plain": [
       "<Figure size 2000x1500 with 6 Axes>"
      ]
     },
     "metadata": {},
     "output_type": "display_data"
    }
   ],
   "source": [
    "print(all_countries)\n",
    "your_country = \"AUT\"\n",
    "specific_country = data_clean[data_clean['iso_code'] == your_country]\n",
    "\n",
    "remove_from_train = ['iso_code', 'continent', 'location', 'date', \"new_deaths\"]\n",
    "#cases, tests and vaccinations all have multiple columns, i want to try with only one because maybe it could lead to coefficients being accounted for multiple times\n",
    "columns_to_keep = [col for col in specific_country.columns \n",
    "                   if ('tests' not in col or col == 'new_tests') and\n",
    "                      ('cases' not in col or col == 'new_cases') and\n",
    "                      ('vaccinations' not in col or col == 'new_vaccinations') and\n",
    "                      ('death' not in col or col == 'new_deaths')]\n",
    "specific_country = specific_country[columns_to_keep]\n",
    "\n",
    "model_results = []\n",
    "evaluations = []\n",
    "\n",
    "fig, axs = plt.subplots(6, 1, figsize=(20, 15))\n",
    "for i, (train_dates, test_dates) in enumerate(splits):\n",
    "    # Filter the original DataFrame based on the train and test dates\n",
    "    train_data = specific_country[specific_country['date'].isin(train_dates)]\n",
    "    test_data = specific_country[specific_country['date'].isin(test_dates)]\n",
    "\n",
    "    X_train = train_data.drop(columns = remove_from_train) \n",
    "    y_train = train_data['new_deaths']\n",
    "    y_test = test_data['new_deaths']\n",
    "    X_test = test_data.drop(columns = remove_from_train)\n",
    "    #Scaling the split because I only have the unscaled version of one country. We only scaled the whole frame before, now I have it of one country only\n",
    "    scaler = RobustScaler()\n",
    "    X_train_scaled = scaler.fit_transform(X_train)\n",
    "    X_test_scaled = scaler.transform(X_test)\n",
    "\n",
    "    training_columns_to_keep = [col for col in columns_to_keep if col not in remove_from_train]\n",
    "\n",
    "    X_train = pd.DataFrame(X_train_scaled)\n",
    "    X_train.index = train_dates\n",
    "    X_train.columns = training_columns_to_keep\n",
    "    X_train.index.name = 'date'\n",
    "\n",
    "    X_test = pd.DataFrame(X_test_scaled)\n",
    "    X_test.index = test_dates\n",
    "    X_test.columns = training_columns_to_keep\n",
    "    X_test.index.name = 'date'\n",
    "    \n",
    "    # Extract the target variable for deaths (new_deaths) for ARIMAX\n",
    "    y_train = train_data[['date', 'new_deaths']].set_index('date')\n",
    "    y_test = test_data[['date', 'new_deaths']].set_index('date')\n",
    "    \n",
    "    \n",
    "    \"\"\"\n",
    "    plt.figure(figsize=(12, 6))\n",
    "    plot_acf(y_train, lags=30, ax=plt.gca())\n",
    "    plt.title('Autocorrelation Function')\n",
    "    plt.show()\n",
    "\n",
    "    # Plot PACF\n",
    "    plt.figure(figsize=(12, 6))\n",
    "    plot_pacf(y_train, lags=30, ax=plt.gca(), method='ywm')\n",
    "    plt.title('Partial Autocorrelation Function')\n",
    "    plt.show()\n",
    "    \"\"\"\n",
    "    \n",
    "    # Check for stationarity\n",
    "    adf_result = adfuller(y_train)\n",
    "    p_value = adf_result[1]\n",
    "    \n",
    "    d = 0\n",
    "    # Differencing if data is not stationary\n",
    "    while p_value > 0.05:\n",
    "        y_train = y_train.diff().dropna()\n",
    "        X_train = X_train.diff().dropna()\n",
    "        adf_result = adfuller(y_train)\n",
    "        p_value = adf_result[1]\n",
    "        d += 1\n",
    "    print(\"Split:\", i+1, \":\", \"Times differenced:\", d)\n",
    "    \n",
    "    \n",
    "    #Finding optimal parameters:\n",
    "    model = auto_arima(y_train, X_train, start_p=0, d=None, start_q=0,\n",
    "                   max_p=1, max_d=2, max_q=1, seasonal=False,\n",
    "                   m=7, stepwise=True, trace=True,\n",
    "                   error_action='ignore')\n",
    "    y_pred = pd.Series(model.predict(n_periods=30, X=X_test))\n",
    "    y_pred.index = y_test.index\n",
    "\n",
    "    order = model.get_params()['order']\n",
    "    seasonal_order = model.get_params()['seasonal_order']\n",
    "\n",
    "    # Fit the SARIMAX model\n",
    "    model = SARIMAX(endog=y_train, exog=X_train, order=(order), seasonal_order=seasonal_order) #d is the number of times I had to difference the data\n",
    "    result = model.fit()\n",
    "    \n",
    "    # Store the result\n",
    "    model_results.append(result)\n",
    "    \n",
    "    # Make predictions on the test set\n",
    "    y_pred = result.forecast(steps=len(y_test), exog=X_test)\n",
    "    \n",
    "    y_pred = np.maximum(y_pred, 0)\n",
    "    # Evaluate the model\n",
    "    mse = mean_squared_error(y_test, y_pred)\n",
    "    r2 = r2_score(y_test, y_pred)\n",
    "    evaluation = {\n",
    "        'mse': mse,\n",
    "        'R2' : r2\n",
    "    }\n",
    "    evaluations.append(evaluation)\n",
    "    \n",
    "    axs[i].plot(specific_country[specific_country[\"date\"].isin(test_dates)][\"date\"], y_test,  label='True Values')\n",
    "    axs[i].plot(specific_country[specific_country[\"date\"].isin(test_dates)][\"date\"], y_pred, label='Predicted Values')\n",
    "    axs[i].set_title(f\"Split {i + 1}: True vs Predicted Values\")\n",
    "    axs[i].set_xlabel(\"Time\")\n",
    "    axs[i].set_ylabel(\"New deaths\")\n",
    "    axs[i].legend()\n",
    "    \n",
    "    \n",
    "    \n",
    "    # Print the summary of the model for the current split\n",
    "    print(f\"Summary for Split {i + 1}:\")\n",
    "    print(f\"Mean Squared Error for Split {i + 1}: {mse}\")\n",
    "    print(f\"R-squared for Split {i + 1}: {r2}\")\n",
    "    print(result.summary())\n",
    "    print(\"----------------------------------------\")\n",
    "    \n",
    "plt.tight_layout()\n",
    "plt.savefig(\"../output/Models/LeonsArima.png\")\n",
    "# Example: Accessing the evaluation for the first split\n"
   ]
  },
  {
   "cell_type": "markdown",
   "metadata": {},
   "source": [
    "### 3 Model Evaluation"
   ]
  }
 ],
 "metadata": {
  "kernelspec": {
   "display_name": "base",
   "language": "python",
   "name": "python3"
  },
  "language_info": {
   "codemirror_mode": {
    "name": "ipython",
    "version": 3
   },
   "file_extension": ".py",
   "mimetype": "text/x-python",
   "name": "python",
   "nbconvert_exporter": "python",
   "pygments_lexer": "ipython3",
   "version": "3.11.8"
  }
 },
 "nbformat": 4,
 "nbformat_minor": 2
}
